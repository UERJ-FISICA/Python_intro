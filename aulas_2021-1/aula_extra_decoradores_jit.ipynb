{
  "nbformat": 4,
  "nbformat_minor": 0,
  "metadata": {
    "kernelspec": {
      "display_name": "Python 3",
      "language": "python",
      "name": "python3"
    },
    "language_info": {
      "codemirror_mode": {
        "name": "ipython",
        "version": 3
      },
      "file_extension": ".py",
      "mimetype": "text/x-python",
      "name": "python",
      "nbconvert_exporter": "python",
      "pygments_lexer": "ipython3",
      "version": "3.7.0"
    },
    "colab": {
      "name": "aula_extra_decoradores_jit.ipynb",
      "provenance": [],
      "collapsed_sections": []
    }
  },
  "cells": [
    {
      "cell_type": "markdown",
      "metadata": {
        "id": "PmiTPZ1RKT3-"
      },
      "source": [
        "# Decoradores"
      ]
    },
    {
      "cell_type": "markdown",
      "metadata": {
        "id": "Wc4I1qS5wHN2"
      },
      "source": [
        "## Metaprogramação\n",
        "\n",
        "Metaprogramação é uma técnica no qual programas de computador tem a habilidade de tratar outros programas como *input*. Isso significa que o programa pode ser desenhado para ler, gerar, analisar ou transformar outros programas.\n",
        "\n",
        "Decoradores tem a habilidade de adicionar novas funcionalidades a funções. Portanto, ajuda programadores a minimizar o número de linhas do código (código limpo) e diminui o tempo de desenvolvimento."
      ]
    },
    {
      "cell_type": "markdown",
      "metadata": {
        "id": "tvMrebLGvY5i"
      },
      "source": [
        "## Tudo é objeto!\n",
        "\n",
        "Python é uma linguagem orientada a objeto e em Python tudo é um objeto. Variáveis não possuem nenhuma informação atrelada e são simplesmente referências (ponteiros)."
      ]
    },
    {
      "cell_type": "code",
      "metadata": {
        "id": "K2pf20tCKT3-",
        "colab": {
          "base_uri": "https://localhost:8080/"
        },
        "outputId": "46edaa54-6ac4-4952-f228-ceeff46c6b95"
      },
      "source": [
        "x = 42\n",
        "print('x = 42 ->', type(x))\n",
        "\n",
        "x = 'olá mundo!'\n",
        "print('x = \\'olá mundo!\\' ->', type(x))\n",
        "\n",
        "x = [ 3.14159, 2.71828 ]\n",
        "print('x = [ 3.14159, 2.71828 ] ->', type(x))"
      ],
      "execution_count": null,
      "outputs": [
        {
          "output_type": "stream",
          "name": "stdout",
          "text": [
            "x = 42 -> <class 'int'>\n",
            "x = 'olá mundo!' -> <class 'str'>\n",
            "x = [ 3.14159, 2.71828 ] -> <class 'list'>\n"
          ]
        }
      ]
    },
    {
      "cell_type": "markdown",
      "metadata": {
        "id": "aTxCvKHNKT3_"
      },
      "source": [
        "Os tipos não estão relacionados ao nome da variável, mas aos objetos propriamente ditos.\n",
        "\n",
        "Objetos são entidades que contém dados associados com metadados e/ou funcionalidades. Em Python tudo é um objeto, isso significa que toda entidade tem alguns metadados (atributos) e funcionalidades (métodos) associados. Classes (estudadas nas últimas aulas) são a forma mais primitiva de se criar um objeto.\n",
        "\n",
        "A função *built-in* **dir** permite ler todos os atributos e métodos associados a qualquer objeto.\n"
      ]
    },
    {
      "cell_type": "code",
      "metadata": {
        "colab": {
          "base_uri": "https://localhost:8080/"
        },
        "id": "OW0_rhvJB3w1",
        "outputId": "78489e78-3654-4ee1-ad7b-579eb9aa28f0"
      },
      "source": [
        "x = 1\n",
        "attrs_methods = dir(x)\n",
        "print(attrs_methods)"
      ],
      "execution_count": null,
      "outputs": [
        {
          "output_type": "stream",
          "name": "stdout",
          "text": [
            "['__abs__', '__add__', '__and__', '__bool__', '__ceil__', '__class__', '__delattr__', '__dir__', '__divmod__', '__doc__', '__eq__', '__float__', '__floor__', '__floordiv__', '__format__', '__ge__', '__getattribute__', '__getnewargs__', '__gt__', '__hash__', '__index__', '__init__', '__init_subclass__', '__int__', '__invert__', '__le__', '__lshift__', '__lt__', '__mod__', '__mul__', '__ne__', '__neg__', '__new__', '__or__', '__pos__', '__pow__', '__radd__', '__rand__', '__rdivmod__', '__reduce__', '__reduce_ex__', '__repr__', '__rfloordiv__', '__rlshift__', '__rmod__', '__rmul__', '__ror__', '__round__', '__rpow__', '__rrshift__', '__rshift__', '__rsub__', '__rtruediv__', '__rxor__', '__setattr__', '__sizeof__', '__str__', '__sub__', '__subclasshook__', '__truediv__', '__trunc__', '__xor__', 'bit_length', 'conjugate', 'denominator', 'from_bytes', 'imag', 'numerator', 'real', 'to_bytes']\n"
          ]
        }
      ]
    },
    {
      "cell_type": "code",
      "metadata": {
        "id": "hF-id5MzKT3_",
        "colab": {
          "base_uri": "https://localhost:8080/"
        },
        "outputId": "b4e1a5e0-8b11-440f-aad5-4127a832237a"
      },
      "source": [
        "class Ponto:\n",
        "    \"\"\" Cria um novo Ponto, com coordenadas x, y \"\"\"\n",
        "\n",
        "    def __init__(self, x=0, y=0):\n",
        "        \"\"\" Inicializa em x, y o novo ponto criado pela classe \"\"\"\n",
        "        self.x = x\n",
        "        self.y = y\n",
        "\n",
        "    def distancia_da_origem(self):\n",
        "        \"\"\" Calcula minha distânica da origem \"\"\"\n",
        "        return ((self.x ** 2) + (self.y ** 2)) ** 0.5\n",
        "    \n",
        "    def ponto_medio(self, alvo):\n",
        "        \"\"\" Retorna o ponto medio entre esse ponto e o alvo \"\"\"\n",
        "        mx = (self.x + alvo.x)/2\n",
        "        my = (self.y + alvo.y)/2\n",
        "        return Ponto(mx, my)\n",
        "    \n",
        "    def __str__(self):\n",
        "        return \"({0}, {1})\".format(self.x, self.y)\n",
        "\n",
        "\n",
        "x = Ponto()\n",
        "attrs_methods = dir(x)\n",
        "print(attrs_methods)"
      ],
      "execution_count": null,
      "outputs": [
        {
          "output_type": "stream",
          "name": "stdout",
          "text": [
            "['__class__', '__delattr__', '__dict__', '__dir__', '__doc__', '__eq__', '__format__', '__ge__', '__getattribute__', '__gt__', '__hash__', '__init__', '__init_subclass__', '__le__', '__lt__', '__module__', '__ne__', '__new__', '__reduce__', '__reduce_ex__', '__repr__', '__setattr__', '__sizeof__', '__str__', '__subclasshook__', '__weakref__', 'distancia_da_origem', 'ponto_medio', 'x', 'y']\n"
          ]
        }
      ]
    },
    {
      "cell_type": "markdown",
      "metadata": {
        "id": "uILONd3wClJa"
      },
      "source": [
        "## Se tudo é um objeto, logo, funções também são objetos!\n",
        "\n",
        "Isso significa que podemos utilizar funções como argumentos e até retornar funçãos a partir de outra funções."
      ]
    },
    {
      "cell_type": "code",
      "metadata": {
        "colab": {
          "base_uri": "https://localhost:8080/"
        },
        "id": "hiv78xtHC8yO",
        "outputId": "8e44ca4a-c01f-4288-daa7-b46ce7f86ad8"
      },
      "source": [
        "def minha_funcao():\n",
        "    print(\"Olá, mundo!\")\n",
        "\n",
        "minha_nova_funcao = minha_funcao\n",
        "minha_nova_funcao()"
      ],
      "execution_count": null,
      "outputs": [
        {
          "output_type": "stream",
          "name": "stdout",
          "text": [
            "Olá, mundo!\n"
          ]
        }
      ]
    },
    {
      "cell_type": "markdown",
      "metadata": {
        "id": "HF91tIthDLd3"
      },
      "source": [
        "Quando chamamos os métodos **minha_funcao** e **minha_nova_funcao**, elas produzem o mesmo resultado. Isso é porque elas se referem ao mesmo objeto."
      ]
    },
    {
      "cell_type": "markdown",
      "metadata": {
        "id": "AWVa6aCIKT4B"
      },
      "source": [
        "## Decoradores\n",
        "\n",
        "Um decorador pega uma função, extende sua funcionalidade e retorna."
      ]
    },
    {
      "cell_type": "code",
      "metadata": {
        "id": "OckolpEbKT4B",
        "colab": {
          "base_uri": "https://localhost:8080/"
        },
        "outputId": "4497a246-9090-4ca5-d59d-8ca3b9630174"
      },
      "source": [
        "def funcao_ext(func):\n",
        "    def funcao_envelopada():\n",
        "        print(\"Olá\")\n",
        "        func()\n",
        "    return funcao_envelopada\n",
        "\n",
        "def nome():\n",
        "    print(\"Hamlet\")\n",
        "\n",
        "obj = funcao_ext(nome)\n",
        "obj()"
      ],
      "execution_count": null,
      "outputs": [
        {
          "output_type": "stream",
          "name": "stdout",
          "text": [
            "Olá\n",
            "Hamlet\n"
          ]
        }
      ]
    },
    {
      "cell_type": "markdown",
      "metadata": {
        "id": "_i1qzBZHKT4B"
      },
      "source": [
        "No exemplo acima, **funcao_ext** é um decorador e a função **nome** está sendo decorada."
      ]
    },
    {
      "cell_type": "markdown",
      "metadata": {
        "id": "jAvzMJ0CQMfc"
      },
      "source": [
        "## Sintaxe\n",
        "\n",
        "Decorar funções é uma técnica comum e sua utilização pode ser simplificada através do símbolo **@**. Apesar de fazerem a mesma coisa, o código fica mais limpo."
      ]
    },
    {
      "cell_type": "code",
      "metadata": {
        "id": "2rFwv4vbKT4B",
        "colab": {
          "base_uri": "https://localhost:8080/"
        },
        "outputId": "4e880089-eef8-4c9e-a7d4-c6bfdb7d7351"
      },
      "source": [
        "@funcao_ext\n",
        "def nome():\n",
        "    print(\"Hamlet\")\n",
        "\n",
        "nome()"
      ],
      "execution_count": null,
      "outputs": [
        {
          "output_type": "stream",
          "name": "stdout",
          "text": [
            "Olá\n",
            "Hamlet\n"
          ]
        }
      ]
    },
    {
      "cell_type": "markdown",
      "metadata": {
        "id": "tDxlRBceKT4B"
      },
      "source": [
        "## Parâmetros\n",
        "\n",
        "Funções que serão decoradas também podem ter parâmetros."
      ]
    },
    {
      "cell_type": "code",
      "metadata": {
        "id": "MwueRQyjKT4C",
        "colab": {
          "base_uri": "https://localhost:8080/"
        },
        "outputId": "f603cd19-5676-43ab-97f0-607346920808"
      },
      "source": [
        "def pprint(func):\n",
        "    def wrapped(x,y):\n",
        "        res = func(x,y)\n",
        "        print(f'O resultado de x vezes y é:', res)\n",
        "        return res\n",
        "    return wrapped\n",
        "\n",
        "@pprint\n",
        "def mult(x,y):\n",
        "    return x*y\n",
        "\n",
        "z = mult(3,3)"
      ],
      "execution_count": null,
      "outputs": [
        {
          "output_type": "stream",
          "name": "stdout",
          "text": [
            "O resultado de x vezes y é: 9\n"
          ]
        }
      ]
    },
    {
      "cell_type": "markdown",
      "metadata": {
        "id": "Mc4EUawkbALX"
      },
      "source": [
        "## Exercícios"
      ]
    },
    {
      "cell_type": "markdown",
      "metadata": {
        "id": "RvkjFfRLbV3j"
      },
      "source": [
        "1. Escreva um decorador que mede o tempo de execução de uma função."
      ]
    },
    {
      "cell_type": "code",
      "metadata": {
        "colab": {
          "base_uri": "https://localhost:8080/",
          "height": 299
        },
        "id": "JXVo47jNbsy5",
        "outputId": "8f0af150-b9a6-4e6c-c67b-b0acc72c1f15"
      },
      "source": [
        "import time\n",
        "\n",
        "import numpy as np\n",
        "import scipy.optimize as sciop\n",
        "import matplotlib.pyplot as plt\n",
        "\n",
        "def timeit(func):\n",
        "    def wrapper(*arg, **kw):\n",
        "        t1 = time.time()\n",
        "        res = func(*arg, **kw)\n",
        "        t2 = time.time()\n",
        "        print(f'A função {func.__name__} executou em {(t2 - t1)} segundos.')\n",
        "        return res\n",
        "    return wrapper\n",
        "\n",
        "def objective(x, a, b, c, d):\n",
        "\treturn a*np.sin(b + x) + c * x**7 - x**2 + d\n",
        "\n",
        "@timeit\n",
        "def fit_and_plot():\n",
        "    N = 70\n",
        "    x = np.linspace(-1,1,N)\n",
        "    y = objective(x, 3,2,3,0.8) + 1.3*np.random.random(N)\n",
        "\n",
        "\n",
        "    popt, _ = sciop.curve_fit(objective, x, y)\n",
        "    a, b, c, d = popt\n",
        "\n",
        "    print(popt)\n",
        "\n",
        "    y_line = objective(x, a, b, c, d)\n",
        "\n",
        "    plt.scatter(x, y)\n",
        "    plt.plot(x, y_line, '--', color='red')\n",
        "    plt.show()\n",
        "\n",
        "fit_and_plot()"
      ],
      "execution_count": null,
      "outputs": [
        {
          "output_type": "stream",
          "name": "stdout",
          "text": [
            "[2.91232049 2.05801616 3.30979014 1.5292149 ]\n"
          ]
        },
        {
          "output_type": "display_data",
          "data": {
            "image/png": "[encoded data removed]",
            "text/plain": [
              "<Figure size 432x288 with 1 Axes>"
            ]
          },
          "metadata": {
            "needs_background": "light"
          }
        },
        {
          "output_type": "stream",
          "name": "stdout",
          "text": [
            "A função fit_and_plot executou em 0.23594880104064941 segundos.\n"
          ]
        }
      ]
    },
    {
      "cell_type": "code",
      "metadata": {
        "id": "pmhLDMTzTMzb"
      },
      "source": [
        ""
      ],
      "execution_count": null,
      "outputs": []
    },
    {
      "cell_type": "markdown",
      "metadata": {
        "id": "XinnJ0ZobtcE"
      },
      "source": [
        "2. Escreva um decorador que recebe um argumento booleano, caso seja verdadeiro irá imprimir o resultado da função decorada, do contrário irá apenas executá-la."
      ]
    },
    {
      "cell_type": "code",
      "metadata": {
        "id": "X2RHcEjQKT4C",
        "colab": {
          "base_uri": "https://localhost:8080/",
          "height": 282
        },
        "outputId": "2bf1e142-803b-426e-cddc-a4742bcd7154"
      },
      "source": [
        "import time\n",
        "\n",
        "import numpy as np\n",
        "import scipy.optimize as sciop\n",
        "import matplotlib.pyplot as plt\n",
        "\n",
        "def timeit(flag):\n",
        "    def decorator(func):\n",
        "        def wrapper(*arg, **kw):\n",
        "            t1 = time.time()\n",
        "            res = func(*arg, **kw)\n",
        "            t2 = time.time()\n",
        "            if flag is True:\n",
        "                print(f'A função {func.__name__} executou em {(t2 - t1)} segundos.')\n",
        "            return res\n",
        "        return wrapper\n",
        "    return decorator\n",
        "\n",
        "def objective(x, a, b, c, d):\n",
        "\treturn a*np.sin(b + x) + c * x**7 - x**2 + d\n",
        "\n",
        "@timeit(False)\n",
        "def fit_and_plot():\n",
        "    N = 50\n",
        "    x = np.linspace(-1,1.15,N)\n",
        "    y = objective(x, 3,2,3,0.8) + 1.6*(np.random.random(N)-np.random.random(N))\n",
        "\n",
        "\n",
        "    popt, _ = sciop.curve_fit(objective, x, y)\n",
        "    a, b, c, d = popt\n",
        "\n",
        "    print(popt)\n",
        "\n",
        "    y_line = objective(x, a, b, c, d)\n",
        "    y_real = objective(x, 3,2,3,0.8)\n",
        "\n",
        "    plt.scatter(x, y, label='data')\n",
        "    plt.plot(x, y_line, '--', color='red', label='fit')\n",
        "    plt.plot(x, y_real, '-', color='green', label='real')\n",
        "    plt.legend()\n",
        "    plt.show()\n",
        "\n",
        "fit_and_plot()"
      ],
      "execution_count": null,
      "outputs": [
        {
          "output_type": "stream",
          "name": "stdout",
          "text": [
            "[2.23628554 2.05383867 2.64441311 1.36560513]\n"
          ]
        },
        {
          "output_type": "display_data",
          "data": {
            "image/png": "[encoded data removed]",
            "text/plain": [
              "<Figure size 432x288 with 1 Axes>"
            ]
          },
          "metadata": {
            "needs_background": "light"
          }
        }
      ]
    },
    {
      "cell_type": "markdown",
      "metadata": {
        "id": "B4Zw__NinYO8"
      },
      "source": [
        "# Compilação just-in-time (JIT)"
      ]
    },
    {
      "cell_type": "markdown",
      "metadata": {
        "id": "lFHEs5jw7tgE"
      },
      "source": [
        "Quando executamos um programa de computador, eles são interpretados ou compilados. Uma linguagem de programação é apenas um conjunto de heurísticas, por outro lado, os compiladores/interpretadores são sua implementação. Naturalmente, uma linguagem pode ter múltiplas implementações.\n",
        "\n",
        "Dizemos que o Python é uma linguagem interpretada, mas, quando dizemos isso estamos nos referindo a implementação padrão do Python. Python é uma linguagem e o CPython é o interpretador e implementação do Python.![compiled_vs_interpreted.png](data:image/png;base64,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)"
      ]
    },
    {
      "cell_type": "markdown",
      "metadata": {
        "id": "p8t2fs1s9UYn"
      },
      "source": [
        "\n",
        "\n",
        "*   Um interpretador é um programa que executa o código diretamente.\n",
        "*   Um compilador é um programa que traduz o código de uma linguagem para outra linguagem (em geral código de máquina).\n",
        "\n",
        "Compiladores funcionam em dois passos distintos, primeiro o código é traduzido para um arquivo que contém código de máquina (é entendido nativamente pelo computador), depois o código é executado.\n",
        "\n",
        "Contudo, a tradução de linguagem para linguagem não é sempre para código de máquina. Os compiladores tem a capacidade de traduzir para qualquer linguagem alvo, até mesmo linguagens com o mesmo tipo de abstração (chamamos esse processo de transpilação), o que abre possibilidades para compiladores mais sofisticados.\n",
        "\n",
        "Java é uma linguagem de programação compilada, cujo compilador é implementado em dois passos. Primeiro o código Java é compilado para *bytecode* (representação intermediária), depois o *bytecode* é compilado just-in-time.\n",
        "\n",
        "Python funciona de maneira parecida em sua implementação padrão (CPython), primeiro o código é compilado para *bytecode* e depois o *bytecode* é interpretado por uma máquina virtual. É durante a interpretação do *bytecode* que verificações de sintaxe são feitas.\n",
        "\n"
      ]
    },
    {
      "cell_type": "markdown",
      "metadata": {
        "id": "GRywtDG0Je9A"
      },
      "source": [
        "## Então, o que é JIT?\n",
        "\n",
        "Um compilador JIT não compila o código *Ahead-Of-Time* (AOT), mas ainda assim compila o código para código de máquina diferente de um interpretador. A compilação acontece em *runtime* (tempo de execução), enquanto o programa está executando e isso fornece flexibilidade para linguagens dinamicamente tipadas, matendo a velocidade do código de máquina obtido.\n",
        "\n",
        "* Linguagem dinamicamente tipada: Se o tipo é associada com valores durante o tempo de execução (*runtime*), verificações de tipagem são feitas durante a execução. Exemplos: Python, R, Julia.\n",
        "\n",
        "* Linguagem estaticamente tipada: Se o tipo de uma variável é conhecido durante a compilação, portanto, verificações de tipagem são feitas durante a compilação. Exemplos: Java, C, C++.\n",
        "\n",
        "Em termos de velocidade, a grande diferença de um compilador JIT é o código de máquina otimizado que ele produz (específico para cada computador), diferente do interpretador, o *bytecode* produzido pela transpilação não é otimizada para o *hardware* em uso, sua vantagem é a fácil interpretação pela máquina virtual."
      ]
    },
    {
      "cell_type": "markdown",
      "metadata": {
        "id": "5hMXHwUzk1K_"
      },
      "source": [
        "## Usando JIT com Numba\n",
        "\n",
        "[Numba](https://numba.pydata.org/numba-doc/latest/index.html) oferece compilação JIT para o Python padrão. Através do decorador **@nb.jit** ele toma funções escritas em Python e as transforma para uma representação intermediária do compilador [LLVM](https://llvm.org/) (compilador desenvolvido para otimizar em tempos de compilação, ligação e execução de programas escritos em linguagens de programação variadas), depois transpila para um *bytecode* otimizado para arquitetura de computador utilizada. Apesar de ser possível fazer esse papel manualmente utilizando o Cython, o Numba é tão fácil quanto utilizar um decorador enquanto no Cython todo código deve ser refeito.\n",
        "\n",
        "Para ilustrar o uso do compilador JIT e a velocidade que ele proporciona, vamos implementar um algoritmo de multiplicação matricial.\n",
        "\n",
        "$ M_{ij} = \\sum_{k=1}^{m} A_{ij} B_{ij} $"
      ]
    },
    {
      "cell_type": "markdown",
      "metadata": {
        "id": "FngSo5cNq-l-"
      },
      "source": [
        "### **Python** "
      ]
    },
    {
      "cell_type": "code",
      "metadata": {
        "id": "A1gc73QM_1uh"
      },
      "source": [
        "import numpy as np\n",
        "\n",
        "def mm_py(A,B):\n",
        "    m, n = A.shape\n",
        "    p = B.shape[1]\n",
        "\n",
        "    C = np.zeros((m,p))\n",
        "\n",
        "    for i in range(0,m):\n",
        "        for j in range(0,p):\n",
        "            for k in range(0,n):\n",
        "                C[i,j] += A[i,k]*B[k,j] \n",
        "    return C"
      ],
      "execution_count": null,
      "outputs": []
    },
    {
      "cell_type": "markdown",
      "metadata": {
        "id": "qzQfB8OvrD3r"
      },
      "source": [
        "### **Numpy**"
      ]
    },
    {
      "cell_type": "code",
      "metadata": {
        "id": "cIDiPcYwkzZP"
      },
      "source": [
        "import numpy as np\n",
        "\n",
        "def mm_np(A,B):\n",
        "    return np.dot(A,B)"
      ],
      "execution_count": null,
      "outputs": []
    },
    {
      "cell_type": "markdown",
      "metadata": {
        "id": "7PAptF6brHcf"
      },
      "source": [
        "### **Numba**"
      ]
    },
    {
      "cell_type": "code",
      "metadata": {
        "id": "s8oAtPIprJFd"
      },
      "source": [
        "import numpy as np\n",
        "import numba as nb\n",
        "\n",
        "@nb.jit()\n",
        "def mm_nb(A,B):\n",
        "    m, n = A.shape\n",
        "    p = B.shape[1]\n",
        "\n",
        "    C = np.zeros((m,p))\n",
        "\n",
        "    for i in range(0,m):\n",
        "        for j in range(0,p):\n",
        "            for k in range(0,n):\n",
        "                C[i,j] += A[i,k]*B[k,j] \n",
        "    return C"
      ],
      "execution_count": null,
      "outputs": []
    },
    {
      "cell_type": "markdown",
      "metadata": {
        "id": "_OjAfaAkrPRO"
      },
      "source": [
        "### Benchmark\n",
        "\n",
        "Utilizando o módulo **timeit** para medir o tempo de execução, fixando os parâmetros $ A_{ij} \\rightarrow i=j=10 $ e variando os parâmetros $ B_{il} \\rightarrow 10^n \\forall n [0, 7] $, temos:"
      ]
    },
    {
      "cell_type": "code",
      "metadata": {
        "id": "OqrFOZ9srRw6"
      },
      "source": [
        "import timeit\n",
        "from statistics import median, mean\n",
        "\n",
        "llist = [10**n for n in range(8)]\n",
        "median_dict_py = {}\n",
        "median_dict_np = {}\n",
        "median_dict_nb = {}\n",
        "\n",
        "for l in llist:\n",
        "\n",
        "    ############## Python\n",
        "\n",
        "    SETUP_PY = '''\n",
        "from __main__ import mm_py\n",
        "import numpy as np'''\n",
        "\n",
        "    CODE_PY = f'''\n",
        "i = j = 10\n",
        "l = {l}\n",
        "A = np.random.rand(i,j)\n",
        "B = np.random.rand(i,l)\n",
        "mm_py(A,B)'''\n",
        "\n",
        "    times_py = timeit.repeat(\n",
        "        setup=SETUP_PY,\n",
        "        stmt=CODE_PY,\n",
        "        repeat=2,\n",
        "        number=10\n",
        "    )\n",
        "\n",
        "    median_dict_py[l] = median(times_py)\n",
        "\n",
        "    ############### Numpy\n",
        "\n",
        "    SETUP_NP = '''\n",
        "from __main__ import mm_np\n",
        "import numpy as np'''\n",
        "\n",
        "    CODE_NP = f'''\n",
        "i = j = 10\n",
        "l = {l}\n",
        "A = np.random.rand(i,j)\n",
        "B = np.random.rand(i,l)\n",
        "mm_np(A,B)'''\n",
        "\n",
        "    times_np = timeit.repeat(\n",
        "        setup=SETUP_NP,\n",
        "        stmt=CODE_NP,\n",
        "        repeat=2,\n",
        "        number=10\n",
        "    )\n",
        "\n",
        "    median_dict_np[l] = median(times_np)\n",
        "\n",
        "    ############### Numba\n",
        "\n",
        "    SETUP_NB = '''\n",
        "from __main__ import mm_nb\n",
        "import numpy as np\n",
        "import numba as nb'''\n",
        "\n",
        "    CODE_NB = f'''\n",
        "i = j = 10\n",
        "l = {l}\n",
        "A = np.random.rand(i,j)\n",
        "B = np.random.rand(i,l)\n",
        "mm_nb(A,B)'''\n",
        "\n",
        "    times_nb = timeit.repeat(\n",
        "        setup=SETUP_NB,\n",
        "        stmt=CODE_NB,\n",
        "        repeat=2,\n",
        "        number=10\n",
        "    )\n",
        "\n",
        "    median_dict_nb[l] = median(times_nb)\n"
      ],
      "execution_count": null,
      "outputs": []
    },
    {
      "cell_type": "code",
      "metadata": {
        "id": "g9NDihads5_g",
        "colab": {
          "base_uri": "https://localhost:8080/",
          "height": 283
        },
        "outputId": "a9522eba-75bd-451d-dd49-922643f9659f"
      },
      "source": [
        "import matplotlib.pyplot as plt\n",
        "\n",
        "plt.plot(list(median_dict_py.keys()), list(median_dict_py.values()), label='Python', color='g')\n",
        "plt.plot(list(median_dict_np.keys()), list(median_dict_np.values()), label='Numpy', color='r')\n",
        "plt.plot(list(median_dict_nb.keys()), list(median_dict_nb.values()), label='Numba', color='b')\n",
        "plt.scatter(list(median_dict_py.keys()), list(median_dict_py.values()), color='g')\n",
        "plt.scatter(list(median_dict_np.keys()), list(median_dict_np.values()), color='r')\n",
        "plt.scatter(list(median_dict_nb.keys()), list(median_dict_nb.values()), color='b')\n",
        "plt.yscale('log')\n",
        "plt.xscale('log')\n",
        "plt.xlabel('l')\n",
        "plt.ylabel('tempo (s)')\n",
        "plt.legend()\n",
        "plt.show()"
      ],
      "execution_count": null,
      "outputs": [
        {
          "output_type": "display_data",
          "data": {
            "image/png": "[encoded data removed]",
            "text/plain": [
              "<Figure size 432x288 with 1 Axes>"
            ]
          },
          "metadata": {
            "needs_background": "light"
          }
        }
      ]
    },
    {
      "cell_type": "markdown",
      "metadata": {
        "id": "UtsCAdtR2SQb"
      },
      "source": [
        "O lado negativo é que o Numba suporta apenas um conjunto restrito de instruções do Python, mas tem um bom suporte para funções do Numpy.\n",
        "\n",
        "\n",
        "*   O Numba não suporta *context handlers* (expressões com *with*), nem *exception handling* (*try*, *except*, *finally*).\n",
        "*   Se o código não é suportado pelo Numba, quando utilizado o *object mode* (é utilizado por padrão) o código é gerado normalmente sem uso do compilador JIT.\n",
        "\n",
        "Além disso, como o Numba precisa transpilar o código para *bytecode*, inevitavelmente existirá uma sobrecarga indicada por um tempo de execução alto na primeira execução.\n",
        "\n"
      ]
    },
    {
      "cell_type": "markdown",
      "metadata": {
        "id": "Uer5ROiCvf82"
      },
      "source": [
        "## Object mode vs nopython mode\n",
        "\n",
        "A grande vantagem do Numba em relação ao Cython é o ganho de tempo de desenvolvimento, pois, não é necessário reescrever toda função e simplesmente utilizar o decorador **jit**. Quando fazemos isso, o Numba trabalha em modo automático (*object mode*), ou seja, ele determina se é possível optimizar o código.\n",
        "\n",
        "Contudo, o modo \"piloto automático\" gera uma sobrecarga de trabalho. Uma alternativa é utilizar o modo *nopython* através do decorador **njit** ou **jit(nopython=True)**, nesse caso, o Numba irá assumir que o programador sabe o que está fazendo e tentará compilar o código sem gerar um objeto Python compatível, se falhar irá gerar uma exceção."
      ]
    },
    {
      "cell_type": "markdown",
      "metadata": {
        "id": "HgA6FF9Fxpp8"
      },
      "source": [
        "### Numba: nopython mode"
      ]
    },
    {
      "cell_type": "code",
      "metadata": {
        "id": "HIeDvHgqxpIr"
      },
      "source": [
        "import numpy as np\n",
        "import numba as nb\n",
        "\n",
        "@nb.jit(nopython=True)\n",
        "def mm_nb(A,B):\n",
        "    m, n = A.shape\n",
        "    p = B.shape[1]\n",
        "\n",
        "    C = np.zeros((m,p))\n",
        "\n",
        "    for i in range(0,m):\n",
        "        for j in range(0,p):\n",
        "            for k in range(0,n):\n",
        "                C[i,j] += A[i,k]*B[k,j] \n",
        "    return C"
      ],
      "execution_count": null,
      "outputs": []
    },
    {
      "cell_type": "markdown",
      "metadata": {
        "id": "yNu1cMRFxgjx"
      },
      "source": [
        "### Benchmark"
      ]
    },
    {
      "cell_type": "code",
      "metadata": {
        "id": "AwBqLKQ_1U4D"
      },
      "source": [
        "import timeit\n",
        "from statistics import median, mean\n",
        "\n",
        "llist = [10**n for n in range(8)]\n",
        "median_dict_np_nopython = {}\n",
        "median_dict_nb_nopython = {}\n",
        "\n",
        "for l in llist:\n",
        "\n",
        "    ############### Numpy\n",
        "\n",
        "    SETUP_NP = '''\n",
        "from __main__ import mm_np\n",
        "import numpy as np'''\n",
        "\n",
        "    CODE_NP = f'''\n",
        "i = j = 10\n",
        "l = {l}\n",
        "A = np.random.rand(i,j)\n",
        "B = np.random.rand(i,l)\n",
        "mm_np(A,B)'''\n",
        "\n",
        "    times_np = timeit.repeat(\n",
        "        setup=SETUP_NP,\n",
        "        stmt=CODE_NP,\n",
        "        repeat=3,\n",
        "        number=100\n",
        "    )\n",
        "\n",
        "    median_dict_np_nopython[l] = median(times_np)\n",
        "\n",
        "    ############### Numba\n",
        "\n",
        "    SETUP_NB = '''\n",
        "from __main__ import mm_nb\n",
        "import numpy as np\n",
        "import numba as nb'''\n",
        "\n",
        "    CODE_NB = f'''\n",
        "i = j = 10\n",
        "l = {l}\n",
        "A = np.random.rand(i,j)\n",
        "B = np.random.rand(i,l)\n",
        "mm_nb(A,B)'''\n",
        "\n",
        "    times_nb = timeit.repeat(\n",
        "        setup=SETUP_NB,\n",
        "        stmt=CODE_NB,\n",
        "        repeat=3,\n",
        "        number=100\n",
        "    )\n",
        "\n",
        "    median_dict_nb_nopython[l] = median(times_nb)"
      ],
      "execution_count": null,
      "outputs": []
    },
    {
      "cell_type": "code",
      "metadata": {
        "colab": {
          "base_uri": "https://localhost:8080/",
          "height": 283
        },
        "id": "hP5oJVBXxyHC",
        "outputId": "5bd9a8bd-5862-442f-a7e9-7addfa81670f"
      },
      "source": [
        "import matplotlib.pyplot as plt\n",
        "\n",
        "plt.plot(list(median_dict_np_nopython.keys()), list(median_dict_np_nopython.values()), label='Numpy', color='r')\n",
        "plt.plot(list(median_dict_nb_nopython.keys()), list(median_dict_nb_nopython.values()), label='Numba', color='b')\n",
        "plt.scatter(list(median_dict_np_nopython.keys()), list(median_dict_np_nopython.values()), color='r')\n",
        "plt.scatter(list(median_dict_nb_nopython.keys()), list(median_dict_nb_nopython.values()), color='b')\n",
        "plt.yscale('log')\n",
        "plt.xscale('log')\n",
        "plt.xlabel('l')\n",
        "plt.ylabel('tempo (s)')\n",
        "plt.legend()\n",
        "plt.show()"
      ],
      "execution_count": null,
      "outputs": [
        {
          "output_type": "display_data",
          "data": {
            "image/png": "[encoded data removed]",
            "text/plain": [
              "<Figure size 432x288 with 1 Axes>"
            ]
          },
          "metadata": {
            "needs_background": "light"
          }
        }
      ]
    },
    {
      "cell_type": "markdown",
      "metadata": {
        "id": "i6SoBHm3H8G7"
      },
      "source": [
        "Podemos notar que nos dois *benchmarks* o Numpy é tão rápido ou melhor que o Numba utilizando o compilador JIT.\n",
        "\n",
        "Apesar do Numpy ser uma biblioteca Python, é importante frisar que uma parte do código fonte da biblioteca (implementa as operações matemáticas computacionalmente extensivas) é escrito em C e o pacote utiliza binários pré-compilados quando instalamos utilizando o [pip](https://pypi.org/project/pip/).\n",
        "\n",
        "Distribuição de código fonte do código do Numpy no [GitHub](https://github.com/numpy/numpy) em 25/11/2021:\n",
        "\n",
        "* Python: 63.2%\n",
        "* C: 34.8%\n",
        "* Cython: 0.9%\n",
        "* C++: 0.9%\n",
        "* Shell: 0.1%\n",
        "* Fortran: 0.1%\n",
        "\n",
        "Para mais informações em como utilizar código C e C++ em Python [clique aqui](https://docs.python.org/3/extending/extending.html)."
      ]
    },
    {
      "cell_type": "markdown",
      "metadata": {
        "id": "OxSybZH4ijr2"
      },
      "source": [
        "# Exemplificando o funcionamento do modo object mode vs nopython mode"
      ]
    },
    {
      "cell_type": "markdown",
      "metadata": {
        "id": "HYFPBDzTipR-"
      },
      "source": [
        " A seguir definimos uma função que calcula a [distância de jaccard](https://itnext.io/string-similarity-the-basic-know-your-algorithms-guide-3de3d7346227) para [bigrams](https://www.analyticsvidhya.com/blog/2021/09/what-are-n-grams-and-how-to-implement-them-in-python/) de um texto. O objetivo é tentar usar o compilador JIT, fornecido pelo Numba, para optmizar a função sabendo que o método **nltk.metrics.distance.jaccard_distance** não é suportado."
      ]
    },
    {
      "cell_type": "code",
      "metadata": {
        "id": "4IbyTmOtby0Z"
      },
      "source": [
        "import numba as nb\n",
        "import numpy as np\n",
        "from nltk.util import ngrams\n",
        "from nltk.metrics.distance import jaccard_distance\n",
        "\n",
        "def python_puro(bigram, key):\n",
        "    return jaccard_distance( set(ngrams(bigram, 2) ), set(ngrams(key, 2) ) )\n",
        "\n",
        "@nb.jit()\n",
        "def numba_object_mode(bigram, key):\n",
        "    return jaccard_distance( set(ngrams(bigram, 2) ), set(ngrams(key, 2) ) )\n",
        "\n",
        "@nb.jit(nopython=True)\n",
        "def numba_nopython_mode(bigram, key):\n",
        "    return jaccard_distance( set(ngrams(bigram, 2) ), set(ngrams(key, 2) ) )"
      ],
      "execution_count": null,
      "outputs": []
    },
    {
      "cell_type": "markdown",
      "metadata": {
        "id": "zUxt7IvJkI2H"
      },
      "source": [
        "## Python"
      ]
    },
    {
      "cell_type": "code",
      "metadata": {
        "colab": {
          "base_uri": "https://localhost:8080/"
        },
        "id": "XXFzIgfOc-Um",
        "outputId": "309c1848-b4f2-4ae9-f9aa-e00c0138be90"
      },
      "source": [
        "bigram = 'ola mundo'\n",
        "key = 'ol mundo'\n",
        "\n",
        "puro(bigram, key)"
      ],
      "execution_count": null,
      "outputs": [
        {
          "output_type": "execute_result",
          "data": {
            "text/plain": [
              "(727851042, 0.3333333333333333)"
            ]
          },
          "metadata": {},
          "execution_count": 13
        }
      ]
    },
    {
      "cell_type": "markdown",
      "metadata": {
        "id": "zNChqqMGkPtt"
      },
      "source": [
        "## Numba [object mode]"
      ]
    },
    {
      "cell_type": "code",
      "metadata": {
        "colab": {
          "base_uri": "https://localhost:8080/"
        },
        "id": "1Qt0CB7SdHsv",
        "outputId": "6599b8c0-0f7c-4c8c-b0fa-ae36ed49021c"
      },
      "source": [
        "bigram = 'ola mundo'\n",
        "key = 'ol mundo'\n",
        "\n",
        "errado(bigram, key)"
      ],
      "execution_count": null,
      "outputs": [
        {
          "output_type": "stream",
          "name": "stderr",
          "text": [
            "<ipython-input-12-f23e79c5fd08>:14: NumbaWarning: \n",
            "Compilation is falling back to object mode WITH looplifting enabled because Function \"errado\" failed type inference due to: Untyped global name 'jaccard_distance': cannot determine Numba type of <class 'function'>\n",
            "\n",
            "File \"<ipython-input-12-f23e79c5fd08>\", line 17:\n",
            "def errado(bigram, key):\n",
            "    <source elided>\n",
            "    h = int.from_bytes(hashlib.sha256(bigram.encode()).digest()[:4], 'little')\n",
            "    j = jaccard_distance( set(ngrams(bigram, 2) ), set(ngrams(key, 2) ) )\n",
            "    ^\n",
            "\n",
            "  @nb.jit()\n",
            "/usr/local/lib/python3.7/dist-packages/numba/core/object_mode_passes.py:178: NumbaWarning: Function \"errado\" was compiled in object mode without forceobj=True.\n",
            "\n",
            "File \"<ipython-input-12-f23e79c5fd08>\", line 15:\n",
            "@nb.jit()\n",
            "def errado(bigram, key):\n",
            "^\n",
            "\n",
            "  state.func_ir.loc))\n",
            "/usr/local/lib/python3.7/dist-packages/numba/core/object_mode_passes.py:188: NumbaDeprecationWarning: \n",
            "Fall-back from the nopython compilation path to the object mode compilation path has been detected, this is deprecated behaviour.\n",
            "\n",
            "For more information visit https://numba.pydata.org/numba-doc/latest/reference/deprecation.html#deprecation-of-object-mode-fall-back-behaviour-when-using-jit\n",
            "\n",
            "File \"<ipython-input-12-f23e79c5fd08>\", line 15:\n",
            "@nb.jit()\n",
            "def errado(bigram, key):\n",
            "^\n",
            "\n",
            "  state.func_ir.loc))\n"
          ]
        },
        {
          "output_type": "execute_result",
          "data": {
            "text/plain": [
              "(727851042, 0.3333333333333333)"
            ]
          },
          "metadata": {},
          "execution_count": 14
        }
      ]
    },
    {
      "cell_type": "markdown",
      "metadata": {
        "id": "gaCm816gkSEA"
      },
      "source": [
        "# Numba [nopython mode]"
      ]
    },
    {
      "cell_type": "code",
      "metadata": {
        "id": "94WTCyR1dMt9"
      },
      "source": [
        "@nb.jit(nopython=True)\n",
        "def errado2(bigram, key):\n",
        "    h = int.from_bytes(hashlib.sha256(bigram.encode()).digest()[:4], 'little')\n",
        "    j = jaccard_distance( set(ngrams(bigram, 2) ), set(ngrams(key, 2) ) )\n",
        "    return h,j"
      ],
      "execution_count": null,
      "outputs": []
    },
    {
      "cell_type": "code",
      "metadata": {
        "colab": {
          "base_uri": "https://localhost:8080/",
          "height": 476
        },
        "id": "5I961nCydk52",
        "outputId": "57820a53-128a-42a6-b8a4-7aac0727a656"
      },
      "source": [
        "bigram = 'ola mundo'\n",
        "key = 'ol mundo'\n",
        "\n",
        "errado2(bigram, key)"
      ],
      "execution_count": null,
      "outputs": [
        {
          "output_type": "error",
          "ename": "TypingError",
          "evalue": "ignored",
          "traceback": [
            "\u001b[0;31m---------------------------------------------------------------------------\u001b[0m",
            "\u001b[0;31mTypingError\u001b[0m                               Traceback (most recent call last)",
            "\u001b[0;32m<ipython-input-16-7f76d1c0d500>\u001b[0m in \u001b[0;36m<module>\u001b[0;34m()\u001b[0m\n\u001b[1;32m      2\u001b[0m \u001b[0mkey\u001b[0m \u001b[0;34m=\u001b[0m \u001b[0;34m'ol mundo'\u001b[0m\u001b[0;34m\u001b[0m\u001b[0;34m\u001b[0m\u001b[0m\n\u001b[1;32m      3\u001b[0m \u001b[0;34m\u001b[0m\u001b[0m\n\u001b[0;32m----> 4\u001b[0;31m \u001b[0merrado2\u001b[0m\u001b[0;34m(\u001b[0m\u001b[0mbigram\u001b[0m\u001b[0;34m,\u001b[0m \u001b[0mkey\u001b[0m\u001b[0;34m)\u001b[0m\u001b[0;34m\u001b[0m\u001b[0;34m\u001b[0m\u001b[0m\n\u001b[0m",
            "\u001b[0;32m/usr/local/lib/python3.7/dist-packages/numba/core/dispatcher.py\u001b[0m in \u001b[0;36m_compile_for_args\u001b[0;34m(self, *args, **kws)\u001b[0m\n\u001b[1;32m    413\u001b[0m                 \u001b[0me\u001b[0m\u001b[0;34m.\u001b[0m\u001b[0mpatch_message\u001b[0m\u001b[0;34m(\u001b[0m\u001b[0mmsg\u001b[0m\u001b[0;34m)\u001b[0m\u001b[0;34m\u001b[0m\u001b[0;34m\u001b[0m\u001b[0m\n\u001b[1;32m    414\u001b[0m \u001b[0;34m\u001b[0m\u001b[0m\n\u001b[0;32m--> 415\u001b[0;31m             \u001b[0merror_rewrite\u001b[0m\u001b[0;34m(\u001b[0m\u001b[0me\u001b[0m\u001b[0;34m,\u001b[0m \u001b[0;34m'typing'\u001b[0m\u001b[0;34m)\u001b[0m\u001b[0;34m\u001b[0m\u001b[0;34m\u001b[0m\u001b[0m\n\u001b[0m\u001b[1;32m    416\u001b[0m         \u001b[0;32mexcept\u001b[0m \u001b[0merrors\u001b[0m\u001b[0;34m.\u001b[0m\u001b[0mUnsupportedError\u001b[0m \u001b[0;32mas\u001b[0m \u001b[0me\u001b[0m\u001b[0;34m:\u001b[0m\u001b[0;34m\u001b[0m\u001b[0;34m\u001b[0m\u001b[0m\n\u001b[1;32m    417\u001b[0m             \u001b[0;31m# Something unsupported is present in the user code, add help info\u001b[0m\u001b[0;34m\u001b[0m\u001b[0;34m\u001b[0m\u001b[0;34m\u001b[0m\u001b[0m\n",
            "\u001b[0;32m/usr/local/lib/python3.7/dist-packages/numba/core/dispatcher.py\u001b[0m in \u001b[0;36merror_rewrite\u001b[0;34m(e, issue_type)\u001b[0m\n\u001b[1;32m    356\u001b[0m                 \u001b[0;32mraise\u001b[0m \u001b[0me\u001b[0m\u001b[0;34m\u001b[0m\u001b[0;34m\u001b[0m\u001b[0m\n\u001b[1;32m    357\u001b[0m             \u001b[0;32melse\u001b[0m\u001b[0;34m:\u001b[0m\u001b[0;34m\u001b[0m\u001b[0;34m\u001b[0m\u001b[0m\n\u001b[0;32m--> 358\u001b[0;31m                 \u001b[0mreraise\u001b[0m\u001b[0;34m(\u001b[0m\u001b[0mtype\u001b[0m\u001b[0;34m(\u001b[0m\u001b[0me\u001b[0m\u001b[0;34m)\u001b[0m\u001b[0;34m,\u001b[0m \u001b[0me\u001b[0m\u001b[0;34m,\u001b[0m \u001b[0;32mNone\u001b[0m\u001b[0;34m)\u001b[0m\u001b[0;34m\u001b[0m\u001b[0;34m\u001b[0m\u001b[0m\n\u001b[0m\u001b[1;32m    359\u001b[0m \u001b[0;34m\u001b[0m\u001b[0m\n\u001b[1;32m    360\u001b[0m         \u001b[0margtypes\u001b[0m \u001b[0;34m=\u001b[0m \u001b[0;34m[\u001b[0m\u001b[0;34m]\u001b[0m\u001b[0;34m\u001b[0m\u001b[0;34m\u001b[0m\u001b[0m\n",
            "\u001b[0;32m/usr/local/lib/python3.7/dist-packages/numba/core/utils.py\u001b[0m in \u001b[0;36mreraise\u001b[0;34m(tp, value, tb)\u001b[0m\n\u001b[1;32m     78\u001b[0m         \u001b[0mvalue\u001b[0m \u001b[0;34m=\u001b[0m \u001b[0mtp\u001b[0m\u001b[0;34m(\u001b[0m\u001b[0;34m)\u001b[0m\u001b[0;34m\u001b[0m\u001b[0;34m\u001b[0m\u001b[0m\n\u001b[1;32m     79\u001b[0m     \u001b[0;32mif\u001b[0m \u001b[0mvalue\u001b[0m\u001b[0;34m.\u001b[0m\u001b[0m__traceback__\u001b[0m \u001b[0;32mis\u001b[0m \u001b[0;32mnot\u001b[0m \u001b[0mtb\u001b[0m\u001b[0;34m:\u001b[0m\u001b[0;34m\u001b[0m\u001b[0;34m\u001b[0m\u001b[0m\n\u001b[0;32m---> 80\u001b[0;31m         \u001b[0;32mraise\u001b[0m \u001b[0mvalue\u001b[0m\u001b[0;34m.\u001b[0m\u001b[0mwith_traceback\u001b[0m\u001b[0;34m(\u001b[0m\u001b[0mtb\u001b[0m\u001b[0;34m)\u001b[0m\u001b[0;34m\u001b[0m\u001b[0;34m\u001b[0m\u001b[0m\n\u001b[0m\u001b[1;32m     81\u001b[0m     \u001b[0;32mraise\u001b[0m \u001b[0mvalue\u001b[0m\u001b[0;34m\u001b[0m\u001b[0;34m\u001b[0m\u001b[0m\n\u001b[1;32m     82\u001b[0m \u001b[0;34m\u001b[0m\u001b[0m\n",
            "\u001b[0;31mTypingError\u001b[0m: Failed in nopython mode pipeline (step: nopython frontend)\nUntyped global name 'jaccard_distance': cannot determine Numba type of <class 'function'>\n\nFile \"<ipython-input-15-430a525d25dd>\", line 4:\ndef errado2(bigram, key):\n    <source elided>\n    h = int.from_bytes(hashlib.sha256(bigram.encode()).digest()[:4], 'little')\n    j = jaccard_distance( set(ngrams(bigram, 2) ), set(ngrams(key, 2) ) )\n    ^\n"
          ]
        }
      ]
    },
    {
      "cell_type": "markdown",
      "metadata": {
        "id": "HQi_OoMEkZ_r"
      },
      "source": [
        "Percebemos que, quando o Numba está sendo utilizando no \"piloto automático\" (object mode), ele analisa o código encontra o erro e o executa sem nenhum topo de interrupção, porém, sem o compilador JIT.\n",
        "\n",
        "No caso do nopython mode, o Numba interrompe o código no momento que ele tenta compilar uma linha que não é suportado."
      ]
    },
    {
      "cell_type": "code",
      "metadata": {
        "id": "k8S8WEaMk0Nb"
      },
      "source": [
        ""
      ],
      "execution_count": null,
      "outputs": []
    }
  ]
}