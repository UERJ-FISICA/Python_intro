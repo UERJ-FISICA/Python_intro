{
  "nbformat": 4,
  "nbformat_minor": 0,
  "metadata": {
    "kernelspec": {
      "display_name": "Python 3",
      "language": "python",
      "name": "python3"
    },
    "language_info": {
      "codemirror_mode": {
        "name": "ipython",
        "version": 3
      },
      "file_extension": ".py",
      "mimetype": "text/x-python",
      "name": "python",
      "nbconvert_exporter": "python",
      "pygments_lexer": "ipython3",
      "version": "3.6.4"
    },
    "colab": {
      "name": "aula5_tartarugas.ipynb",
      "provenance": [],
      "collapsed_sections": [],
      "include_colab_link": true
    }
  },
  "cells": [
    {
      "cell_type": "markdown",
      "metadata": {
        "id": "view-in-github",
        "colab_type": "text"
      },
      "source": [
        "<a href=\"https://colab.research.google.com/github/malbouis/Python_intro/blob/master/aulas/aula5_tartarugas.ipynb\" target=\"_parent\"><img src=\"https://colab.research.google.com/assets/colab-badge.svg\" alt=\"Open In Colab\"/></a>"
      ]
    },
    {
      "cell_type": "markdown",
      "metadata": {
        "id": "aWqaS17IKyX4"
      },
      "source": [
        "# Tartarugas!\n",
        "\n",
        "AVISO: essa aula foi feita em sua quase totalidade como tradução do capítulo 3 do livro texto: http://openbookproject.net/thinkcs/python/english3e/index.html\n",
        "\n",
        "Referência: http://greenteapress.com/thinkpython2/html/thinkpython2005.html#sec42"
      ]
    },
    {
      "cell_type": "markdown",
      "metadata": {
        "id": "QRczpCqhKyX5"
      },
      "source": [
        "Existem **muitos** módulos em Python que fornecem recursos muito poderosos que podemos usar. \n",
        "   * Alguns enviam e-mails ou buscam páginas da web;\n",
        "   * outros fazem histogramas\n",
        "   * ou cálculo matricial\n",
        "   * ou gráficos\n",
        "   * ou até mesmo jogos, entre vários outros.\n",
        "   \n",
        "O módulo que veremos neste capítulo nos permite criar **tartarugas** e fazê-las desenhar formas e padrões.\n",
        "\n",
        "A maior parte da linguagem de Python aqui abordada será explorada com mais profundidade posteriormente."
      ]
    },
    {
      "cell_type": "markdown",
      "metadata": {
        "id": "q0qIvsWmKyX6"
      },
      "source": [
        "## Nosso primeiro programa de tartaruga\n",
        "\n",
        "Criaremos em Python uma _tartaruga_ e vamos **desenhar um retângulo**. \n",
        "\n",
        "Nossa tartaruguinha se chamará joana.\n",
        "\n",
        "**Observação:**\n",
        "\n",
        "* Originalmente em Python, o módulo de tartarugas se chama ```turtle```: https://docs.python.org/3/library/turtle.html].\n",
        "\n",
        "* Para usá-lo no Colab, há um módulo específico, que é uma adaptação da classe ```Turtle``` para o Colab: https://github.com/tolgaatam/ColabTurtle/blob/master/ColabTurtle/Turtle.py\n",
        "\n",
        "* Também podemos criar o código em Python que usa o módulo Turtle, diretamente através do [trinket](https://trinket.io/turtle).\n",
        "\n",
        "Faremos os próximos exemplos usando o módulo ColabTurtle e mostraremos um exemplo no âmbito do trinket no final."
      ]
    },
    {
      "cell_type": "code",
      "metadata": {
        "id": "pNr_5Ik2LUGY",
        "colab": {
          "base_uri": "https://localhost:8080/"
        },
        "outputId": "7a446af8-e3ca-45a6-9461-6862c136fbef"
      },
      "source": [
        "# declarações para instalar e importar o módulo Turtle no ambiente do Google Colab\n",
        "!pip3 install ColabTurtle\n",
        "from ColabTurtle import Turtle"
      ],
      "execution_count": 11,
      "outputs": [
        {
          "output_type": "stream",
          "text": [
            "Requirement already satisfied: ColabTurtle in /usr/local/lib/python3.7/dist-packages (2.1.0)\n"
          ],
          "name": "stdout"
        }
      ]
    },
    {
      "cell_type": "code",
      "metadata": {
        "id": "GjI31DhOKyX7",
        "colab": {
          "base_uri": "https://localhost:8080/",
          "height": 520
        },
        "outputId": "6baef883-f52e-4ef4-80f0-d4a34cffddbb"
      },
      "source": [
        "joana = ColabTurtle.Turtle # Cria uma tartaruga, atribui a joana\n",
        "joana.initializeTurtle()   # inicialização. Necessária toda vez que uma nova tartaruga for criada. Determina os valores padrão.\n",
        "joana.forward(150)          # diz para joana andar para frente por 150 unidades\n",
        "joana.left(90)             # diz para joana virar de 90 graus\n",
        "joana.forward(130)          # Completa o segundo lado do retângulo"
      ],
      "execution_count": 12,
      "outputs": [
        {
          "output_type": "display_data",
          "data": {
            "text/html": [
              "\n",
              "      <svg width=\"800\" height=\"500\">\n",
              "        <rect width=\"100%\" height=\"100%\" fill=\"black\"/>\n",
              "        <line x1=\"400\" y1=\"250\" x2=\"400.0\" y2=\"100.0\" stroke-linecap=\"round\" style=\"stroke:white;stroke-width:4\"/><line x1=\"400.0\" y1=\"100.0\" x2=\"270.0\" y2=\"100.0\" stroke-linecap=\"round\" style=\"stroke:white;stroke-width:4\"/>\n",
              "        <g visibility=visible transform=\"rotate(270,270.0,100.0) translate(252.0, 82.0)\">\n",
              "<path style=\" stroke:none;fill-rule:evenodd;fill:white;fill-opacity:1;\" d=\"M 18.214844 0.632812 C 16.109375 1.800781 15.011719 4.074219 15.074219 7.132812 L 15.085938 7.652344 L 14.785156 7.496094 C 13.476562 6.824219 11.957031 6.671875 10.40625 7.066406 C 8.46875 7.550781 6.515625 9.15625 4.394531 11.992188 C 3.0625 13.777344 2.679688 14.636719 3.042969 15.027344 L 3.15625 15.152344 L 3.519531 15.152344 C 4.238281 15.152344 4.828125 14.886719 8.1875 13.039062 C 9.386719 12.378906 10.371094 11.839844 10.378906 11.839844 C 10.386719 11.839844 10.355469 11.929688 10.304688 12.035156 C 9.832031 13.09375 9.257812 14.820312 8.96875 16.078125 C 7.914062 20.652344 8.617188 24.53125 11.070312 27.660156 C 11.351562 28.015625 11.363281 27.914062 10.972656 28.382812 C 8.925781 30.84375 7.945312 33.28125 8.238281 35.1875 C 8.289062 35.527344 8.28125 35.523438 8.917969 35.523438 C 10.941406 35.523438 13.074219 34.207031 15.136719 31.6875 C 15.359375 31.417969 15.328125 31.425781 15.5625 31.574219 C 16.292969 32.042969 18.023438 32.964844 18.175781 32.964844 C 18.335938 32.964844 19.941406 32.210938 20.828125 31.71875 C 20.996094 31.625 21.136719 31.554688 21.136719 31.558594 C 21.203125 31.664062 21.898438 32.414062 22.222656 32.730469 C 23.835938 34.300781 25.5625 35.132812 27.582031 35.300781 C 27.90625 35.328125 27.9375 35.308594 28.007812 34.984375 C 28.382812 33.242188 27.625 30.925781 25.863281 28.425781 L 25.542969 27.96875 L 25.699219 27.785156 C 28.945312 23.960938 29.132812 18.699219 26.257812 11.96875 L 26.207031 11.84375 L 27.945312 12.703125 C 31.53125 14.476562 32.316406 14.800781 33.03125 14.800781 C 33.976562 14.800781 33.78125 13.9375 32.472656 12.292969 C 28.519531 7.355469 25.394531 5.925781 21.921875 7.472656 L 21.558594 7.636719 L 21.578125 7.542969 C 21.699219 6.992188 21.761719 5.742188 21.699219 5.164062 C 21.496094 3.296875 20.664062 1.964844 19.003906 0.855469 C 18.480469 0.503906 18.457031 0.5 18.214844 0.632812\"/>\n",
              "</g>\n",
              "      </svg>\n",
              "    "
            ],
            "text/plain": [
              "<IPython.core.display.HTML object>"
            ]
          },
          "metadata": {
            "tags": []
          }
        }
      ]
    },
    {
      "cell_type": "code",
      "metadata": {
        "colab": {
          "base_uri": "https://localhost:8080/"
        },
        "id": "KXotlKML4Dha",
        "outputId": "76e8b9af-b8ab-4115-d2f5-c1355a3c8e88"
      },
      "source": [
        "type(joana)"
      ],
      "execution_count": 13,
      "outputs": [
        {
          "output_type": "execute_result",
          "data": {
            "text/plain": [
              "module"
            ]
          },
          "metadata": {
            "tags": []
          },
          "execution_count": 13
        }
      ]
    },
    {
      "cell_type": "markdown",
      "metadata": {
        "id": "EVQJgTuiKyYA"
      },
      "source": [
        "O que acontece ao rodar o programa acima?"
      ]
    },
    {
      "cell_type": "markdown",
      "metadata": {
        "id": "Vtx-nOEdKyYC"
      },
      "source": [
        "### Observações sobre o código acima\n",
        "\n",
        "* ***import ColabTurtle***: carregar um módulo chamado tartaruga. \n",
        "   * Esse módulo nos traz um novo **tipo** que podemos usar: **o tipo ColabTurtle**. \n",
        "   * A notação de ponto ***ColabTurtle.Turtle*** significa “O tipo de tartaruga que é definido dentro do módulo de tartaruga”.\n",
        "\n",
        "\n",
        "* ***joana = ColabTurtle.Turtle()***: cria uma tartaruga. A variável ****joana*** é declarada para se referir a esta tartaruga.\n",
        "\n",
        "* ***joana.initializeTurtle()***: método que constrói e inicializa todas as variáveis necessárias quando criamos uma tartaruga (o objeto tartaruga, do tipo ColabTurtle), como posição inicial, orientação da seta...\n",
        "\n",
        "* Essas três primeiras linhas se encarregaram das **definições**. Estamos prontos para fazer com que nossa tartaruga desenhe na tela.\n",
        "\n",
        "\n",
        "* **Invocar ou ativar os métodos do objeto joana**: fazer joana se mover e a girar. \n",
        "   * joana.forward(50)\n",
        "   * joana.left(90) \n",
        "\n",
        "\n",
        "* **Um objeto pode ter vários métodos** - coisas que ele pode fazer - **e também pode ter atributos**  \n",
        "   * cada tartaruga tem um atributo de **cor**: A invocação do método ```joana.color (\"red\")``` tornará joana vermelha (red) e o desenho será vermelho também.\n",
        "\n",
        "* **Estado** atual da tartaruga: é o **conjunto de atributos atuais**, e também posição, rotação, etc, ...\n",
        "\n",
        "* Existe um grande número de **métodos que nos permitem modificar a tartaruga**. \n",
        "\n"
      ]
    },
    {
      "cell_type": "code",
      "metadata": {
        "id": "CPtIqm_gKyYD",
        "colab": {
          "base_uri": "https://localhost:8080/",
          "height": 520
        },
        "outputId": "3f64959d-cb4b-40e0-f787-d90c825c20b2"
      },
      "source": [
        "teca = ColabTurtle.Turtle # Cria uma tartaruga, atribui a teca\n",
        "teca.initializeTurtle()\n",
        "teca.color(\"blue\")            # o método color diz à Teca para mudar sua cor (atributo)\n",
        "teca.width(3)               # o método width faz Teca ajustar a largura da caneta (atributo)\n",
        "\n",
        "teca.forward(50)\n",
        "teca.left(120)\n",
        "teca.forward(50)"
      ],
      "execution_count": 14,
      "outputs": [
        {
          "output_type": "display_data",
          "data": {
            "text/html": [
              "\n",
              "      <svg width=\"800\" height=\"500\">\n",
              "        <rect width=\"100%\" height=\"100%\" fill=\"black\"/>\n",
              "        <line x1=\"400\" y1=\"250\" x2=\"400.0\" y2=\"200.0\" stroke-linecap=\"round\" style=\"stroke:blue;stroke-width:3\"/><line x1=\"400.0\" y1=\"200.0\" x2=\"356.699\" y2=\"225.0\" stroke-linecap=\"round\" style=\"stroke:blue;stroke-width:3\"/>\n",
              "        <g visibility=visible transform=\"rotate(240,356.699,225.0) translate(338.699, 207.0)\">\n",
              "<path style=\" stroke:none;fill-rule:evenodd;fill:blue;fill-opacity:1;\" d=\"M 18.214844 0.632812 C 16.109375 1.800781 15.011719 4.074219 15.074219 7.132812 L 15.085938 7.652344 L 14.785156 7.496094 C 13.476562 6.824219 11.957031 6.671875 10.40625 7.066406 C 8.46875 7.550781 6.515625 9.15625 4.394531 11.992188 C 3.0625 13.777344 2.679688 14.636719 3.042969 15.027344 L 3.15625 15.152344 L 3.519531 15.152344 C 4.238281 15.152344 4.828125 14.886719 8.1875 13.039062 C 9.386719 12.378906 10.371094 11.839844 10.378906 11.839844 C 10.386719 11.839844 10.355469 11.929688 10.304688 12.035156 C 9.832031 13.09375 9.257812 14.820312 8.96875 16.078125 C 7.914062 20.652344 8.617188 24.53125 11.070312 27.660156 C 11.351562 28.015625 11.363281 27.914062 10.972656 28.382812 C 8.925781 30.84375 7.945312 33.28125 8.238281 35.1875 C 8.289062 35.527344 8.28125 35.523438 8.917969 35.523438 C 10.941406 35.523438 13.074219 34.207031 15.136719 31.6875 C 15.359375 31.417969 15.328125 31.425781 15.5625 31.574219 C 16.292969 32.042969 18.023438 32.964844 18.175781 32.964844 C 18.335938 32.964844 19.941406 32.210938 20.828125 31.71875 C 20.996094 31.625 21.136719 31.554688 21.136719 31.558594 C 21.203125 31.664062 21.898438 32.414062 22.222656 32.730469 C 23.835938 34.300781 25.5625 35.132812 27.582031 35.300781 C 27.90625 35.328125 27.9375 35.308594 28.007812 34.984375 C 28.382812 33.242188 27.625 30.925781 25.863281 28.425781 L 25.542969 27.96875 L 25.699219 27.785156 C 28.945312 23.960938 29.132812 18.699219 26.257812 11.96875 L 26.207031 11.84375 L 27.945312 12.703125 C 31.53125 14.476562 32.316406 14.800781 33.03125 14.800781 C 33.976562 14.800781 33.78125 13.9375 32.472656 12.292969 C 28.519531 7.355469 25.394531 5.925781 21.921875 7.472656 L 21.558594 7.636719 L 21.578125 7.542969 C 21.699219 6.992188 21.761719 5.742188 21.699219 5.164062 C 21.496094 3.296875 20.664062 1.964844 19.003906 0.855469 C 18.480469 0.503906 18.457031 0.5 18.214844 0.632812\"/>\n",
              "</g>\n",
              "      </svg>\n",
              "    "
            ],
            "text/plain": [
              "<IPython.core.display.HTML object>"
            ]
          },
          "metadata": {
            "tags": []
          }
        }
      ]
    },
    {
      "cell_type": "markdown",
      "metadata": {
        "id": "CHBmuB4BKyYI"
      },
      "source": [
        "## Instâncias - uma manada de tartarugas\n",
        "\n",
        "Assim como podemos ter muitos inteiros diferentes em um programa, podemos ter muitas tartarugas. \n",
        "\n",
        "* **Cada tartaruga é chamada de uma *instância*** . \n",
        "   * Cada instância tem seus próprios **atributos** e **métodos**"
      ]
    },
    {
      "cell_type": "code",
      "metadata": {
        "id": "923t3tgbKyYJ",
        "colab": {
          "base_uri": "https://localhost:8080/",
          "height": 1000
        },
        "outputId": "e8169d42-6ebf-452d-cff5-15ab794cde2e"
      },
      "source": [
        "teca = ColabTurtle.Turtle      # Criar a instância Teca\n",
        "teca.initializeTurtle()        # configurar os atributos de Teca\n",
        "teca.color(\"yellow\")\n",
        "teca.width(5)\n",
        "#teca.window_size = (400,250)\n",
        "\n",
        "# Fazer Teca desenhar um triângulo equilátero:\n",
        "teca.forward(80)             \n",
        "teca.left(120)\n",
        "teca.forward(80)\n",
        "teca.left(120)\n",
        "teca.forward(80)\n",
        "teca.left(120)               # Completar o triângulo\n",
        "\n",
        "teca.right(180)              # Fazer Teca dar meia volta\n",
        "teca.forward(80)             # Movê-la para longe da origem\n",
        "\n",
        "# Criar uma nova instância de Tartaruga:\n",
        "joana = ColabTurtle.Turtle\n",
        "joana.initializeTurtle()     # configurar os atributos de Joana\n",
        "joana.color('purple')        # Mudar os atributos de Joana\n",
        "\n",
        "# Fazer Joana desenhar um quadrado:\n",
        "joana.forward(50)            \n",
        "joana.left(90)\n",
        "joana.forward(50)\n",
        "joana.left(90)\n",
        "joana.forward(50)\n",
        "joana.left(90)\n",
        "joana.forward(50)\n",
        "joana.left(90)"
      ],
      "execution_count": 15,
      "outputs": [
        {
          "output_type": "display_data",
          "data": {
            "text/html": [
              "\n",
              "      <svg width=\"800\" height=\"500\">\n",
              "        <rect width=\"100%\" height=\"100%\" fill=\"black\"/>\n",
              "        <line x1=\"400\" y1=\"250\" x2=\"400.0\" y2=\"170.0\" stroke-linecap=\"round\" style=\"stroke:yellow;stroke-width:5\"/><line x1=\"400.0\" y1=\"170.0\" x2=\"330.718\" y2=\"210.0\" stroke-linecap=\"round\" style=\"stroke:yellow;stroke-width:5\"/><line x1=\"330.718\" y1=\"210.0\" x2=\"400.0\" y2=\"250.0\" stroke-linecap=\"round\" style=\"stroke:yellow;stroke-width:5\"/><line x1=\"400.0\" y1=\"250.0\" x2=\"400.0\" y2=\"330.0\" stroke-linecap=\"round\" style=\"stroke:yellow;stroke-width:5\"/>\n",
              "        <g visibility=visible transform=\"rotate(180,400.0,330.0) translate(382.0, 312.0)\">\n",
              "<path style=\" stroke:none;fill-rule:evenodd;fill:yellow;fill-opacity:1;\" d=\"M 18.214844 0.632812 C 16.109375 1.800781 15.011719 4.074219 15.074219 7.132812 L 15.085938 7.652344 L 14.785156 7.496094 C 13.476562 6.824219 11.957031 6.671875 10.40625 7.066406 C 8.46875 7.550781 6.515625 9.15625 4.394531 11.992188 C 3.0625 13.777344 2.679688 14.636719 3.042969 15.027344 L 3.15625 15.152344 L 3.519531 15.152344 C 4.238281 15.152344 4.828125 14.886719 8.1875 13.039062 C 9.386719 12.378906 10.371094 11.839844 10.378906 11.839844 C 10.386719 11.839844 10.355469 11.929688 10.304688 12.035156 C 9.832031 13.09375 9.257812 14.820312 8.96875 16.078125 C 7.914062 20.652344 8.617188 24.53125 11.070312 27.660156 C 11.351562 28.015625 11.363281 27.914062 10.972656 28.382812 C 8.925781 30.84375 7.945312 33.28125 8.238281 35.1875 C 8.289062 35.527344 8.28125 35.523438 8.917969 35.523438 C 10.941406 35.523438 13.074219 34.207031 15.136719 31.6875 C 15.359375 31.417969 15.328125 31.425781 15.5625 31.574219 C 16.292969 32.042969 18.023438 32.964844 18.175781 32.964844 C 18.335938 32.964844 19.941406 32.210938 20.828125 31.71875 C 20.996094 31.625 21.136719 31.554688 21.136719 31.558594 C 21.203125 31.664062 21.898438 32.414062 22.222656 32.730469 C 23.835938 34.300781 25.5625 35.132812 27.582031 35.300781 C 27.90625 35.328125 27.9375 35.308594 28.007812 34.984375 C 28.382812 33.242188 27.625 30.925781 25.863281 28.425781 L 25.542969 27.96875 L 25.699219 27.785156 C 28.945312 23.960938 29.132812 18.699219 26.257812 11.96875 L 26.207031 11.84375 L 27.945312 12.703125 C 31.53125 14.476562 32.316406 14.800781 33.03125 14.800781 C 33.976562 14.800781 33.78125 13.9375 32.472656 12.292969 C 28.519531 7.355469 25.394531 5.925781 21.921875 7.472656 L 21.558594 7.636719 L 21.578125 7.542969 C 21.699219 6.992188 21.761719 5.742188 21.699219 5.164062 C 21.496094 3.296875 20.664062 1.964844 19.003906 0.855469 C 18.480469 0.503906 18.457031 0.5 18.214844 0.632812\"/>\n",
              "</g>\n",
              "      </svg>\n",
              "    "
            ],
            "text/plain": [
              "<IPython.core.display.HTML object>"
            ]
          },
          "metadata": {
            "tags": []
          }
        },
        {
          "output_type": "display_data",
          "data": {
            "text/html": [
              "\n",
              "      <svg width=\"800\" height=\"500\">\n",
              "        <rect width=\"100%\" height=\"100%\" fill=\"black\"/>\n",
              "        <line x1=\"400\" y1=\"250\" x2=\"400.0\" y2=\"200.0\" stroke-linecap=\"round\" style=\"stroke:purple;stroke-width:4\"/><line x1=\"400.0\" y1=\"200.0\" x2=\"350.0\" y2=\"200.0\" stroke-linecap=\"round\" style=\"stroke:purple;stroke-width:4\"/><line x1=\"350.0\" y1=\"200.0\" x2=\"350.0\" y2=\"250.0\" stroke-linecap=\"round\" style=\"stroke:purple;stroke-width:4\"/><line x1=\"350.0\" y1=\"250.0\" x2=\"400.0\" y2=\"250.0\" stroke-linecap=\"round\" style=\"stroke:purple;stroke-width:4\"/>\n",
              "        <g visibility=visible transform=\"rotate(360,400.0,250.0) translate(382.0, 232.0)\">\n",
              "<path style=\" stroke:none;fill-rule:evenodd;fill:purple;fill-opacity:1;\" d=\"M 18.214844 0.632812 C 16.109375 1.800781 15.011719 4.074219 15.074219 7.132812 L 15.085938 7.652344 L 14.785156 7.496094 C 13.476562 6.824219 11.957031 6.671875 10.40625 7.066406 C 8.46875 7.550781 6.515625 9.15625 4.394531 11.992188 C 3.0625 13.777344 2.679688 14.636719 3.042969 15.027344 L 3.15625 15.152344 L 3.519531 15.152344 C 4.238281 15.152344 4.828125 14.886719 8.1875 13.039062 C 9.386719 12.378906 10.371094 11.839844 10.378906 11.839844 C 10.386719 11.839844 10.355469 11.929688 10.304688 12.035156 C 9.832031 13.09375 9.257812 14.820312 8.96875 16.078125 C 7.914062 20.652344 8.617188 24.53125 11.070312 27.660156 C 11.351562 28.015625 11.363281 27.914062 10.972656 28.382812 C 8.925781 30.84375 7.945312 33.28125 8.238281 35.1875 C 8.289062 35.527344 8.28125 35.523438 8.917969 35.523438 C 10.941406 35.523438 13.074219 34.207031 15.136719 31.6875 C 15.359375 31.417969 15.328125 31.425781 15.5625 31.574219 C 16.292969 32.042969 18.023438 32.964844 18.175781 32.964844 C 18.335938 32.964844 19.941406 32.210938 20.828125 31.71875 C 20.996094 31.625 21.136719 31.554688 21.136719 31.558594 C 21.203125 31.664062 21.898438 32.414062 22.222656 32.730469 C 23.835938 34.300781 25.5625 35.132812 27.582031 35.300781 C 27.90625 35.328125 27.9375 35.308594 28.007812 34.984375 C 28.382812 33.242188 27.625 30.925781 25.863281 28.425781 L 25.542969 27.96875 L 25.699219 27.785156 C 28.945312 23.960938 29.132812 18.699219 26.257812 11.96875 L 26.207031 11.84375 L 27.945312 12.703125 C 31.53125 14.476562 32.316406 14.800781 33.03125 14.800781 C 33.976562 14.800781 33.78125 13.9375 32.472656 12.292969 C 28.519531 7.355469 25.394531 5.925781 21.921875 7.472656 L 21.558594 7.636719 L 21.578125 7.542969 C 21.699219 6.992188 21.761719 5.742188 21.699219 5.164062 C 21.496094 3.296875 20.664062 1.964844 19.003906 0.855469 C 18.480469 0.503906 18.457031 0.5 18.214844 0.632812\"/>\n",
              "</g>\n",
              "      </svg>\n",
              "    "
            ],
            "text/plain": [
              "<IPython.core.display.HTML object>"
            ]
          },
          "metadata": {
            "tags": []
          }
        }
      ]
    },
    {
      "cell_type": "markdown",
      "metadata": {
        "id": "e2iemuZvKyYM"
      },
      "source": [
        "### O que faz o código acima?\n",
        "Tente você mesmo!\n",
        "\n",
        "\n",
        "Ok, duas tartarugas podem não ser suficientes para um rebanho. \n",
        "\n",
        "Mas a ideia importante é que **o módulo de tartaruga nos proporciona uma espécie de fábrica que nos permite criar tantas tartarugas (instâncias) quanto precisamos**. \n",
        "\n",
        "***Cada instância tem seu próprio estado e comportamento.***\n",
        "\n",
        "Se usarmos o módulo original do Python, ```turtle```( no trinket, por exemplo), cada tartaruga é um objeto de Python do tipo Turtle.\n",
        "\n",
        "O exemplo do código acima no trinket, está disponível [aqui](https://trinket.io/turtle/282c9ab28c).\n"
      ]
    },
    {
      "cell_type": "markdown",
      "metadata": {
        "id": "Z8pxPQeEKyYN"
      },
      "source": [
        "\n",
        "## O *loop* for\n",
        "\n",
        "Quando desenhamos anteriormente o quadrado com a ```turtle```, tivemos que repetir explicitamente os passos de se mover e girar ***quatro vezes***. Se estivéssemos desenhando um hexágono ou um polígono com 42 lados, teria sido bem mais longo repetir as mesmas linhas 42 vezes.\n",
        "\n",
        "\n",
        "\n",
        "Portanto, um **bloco de construção básico** de todos os programas é poder **repetir alguns códigos um número N de vezes.**\n",
        "\n",
        "\n",
        "\n",
        "O ***loop for*** de Python resolve isso. \n",
        "\n",
        "Digamos que temos alguns amigos e gostaríamos de enviar a eles um e-mail convidando-os para a nossa festa. Ainda não sabemos como enviar e-mails, então, por enquanto, apenas imprimiremos uma mensagem para cada amigo:"
      ]
    },
    {
      "cell_type": "code",
      "metadata": {
        "id": "dcDAUr29KyYN"
      },
      "source": [
        "for f in [\"José\",\"Zoe\",\"Bruno\",\"Angélica\",\"Zacarias\",\"Thandi\",\"Paris\"]:\n",
        "    convite = \"Oi \" + f + \".  Você está convidadx para minha festa no Sábado!\"\n",
        "    print(convite)"
      ],
      "execution_count": null,
      "outputs": []
    },
    {
      "cell_type": "markdown",
      "metadata": {
        "id": "VfHGLMGjKyYU"
      },
      "source": [
        "* A variável ***f*** na instrução for na linha 1 é chamada de **variável de loop**. Pode ser qualquer nome de variável.\n",
        "\n",
        "\n",
        "* As linhas 2 e 3 são o **corpo do loop**. O corpo do loop é sempre ***indentado***. O recuo determina exatamente quais instruções estão “no corpo do loop”.\n",
        "\n",
        "\n",
        "* Em cada **iteração** (ou passagem do loop):\n",
        "   * uma verificação é feita para ver se ainda há mais itens a serem processados. \n",
        "   \n",
        "   * Caso não haja nenhum item a se processado, o loop terminou. Isso é chamado de **condição de terminação do loop**. \n",
        "   \n",
        "   * A execução do programa continua na próxima instrução após o corpo do loop.\n",
        "   \n",
        "   * Se ainda houver itens a serem processados, a variável de loop será atualizada para se referir ao próximo item da lista. Isto significa, neste caso, que o corpo do loop é executado aqui 7 vezes, e cada vez f se referirá a um amigo diferente.\n",
        "   \n",
        "   * No final de cada execução do corpo do loop, o Python retorna à instrução for, para ver se há mais itens a serem manipulados e para atribuir o próximo a f."
      ]
    },
    {
      "cell_type": "markdown",
      "metadata": {
        "id": "ggPSduhtKyYU"
      },
      "source": [
        "## Fluxo de Execução do loop for\n",
        "\n",
        "Conforme um programa é executado, o interpretador sempre registra qual declaração está prestes a ser executada. Chamamos isso de **fluxo de controle**, do **fluxo de execução do programa**.\n",
        "\n",
        "O **fluxo de controle** é geralmente fácil de visualizar e entender se desenharmos um **fluxograma**. Isso mostra as etapas exatas e a lógica de como a instrução ***for*** é executada.\n",
        "\n",
        "![title](https://github.com/malbouis/Python_intro/blob/master/aulas_2019/pics/fluxograma.png?raw=1)"
      ]
    },
    {
      "cell_type": "markdown",
      "metadata": {
        "id": "KdiRCVwWKyYV"
      },
      "source": [
        "## O loop simplifica nosso programa de tartarugas\n",
        "\n",
        "Podemos usar apenas 3 linhas ao invés de oito, para desenhar o quadrado de ***joana***"
      ]
    },
    {
      "cell_type": "code",
      "metadata": {
        "id": "3s4WgBZHKyYW"
      },
      "source": [
        "joana = ColabTurtle.Turtle\n",
        "joana.initializeTurtle()\n",
        "for i in [0,1,2,3]:\n",
        "    joana.forward(50)\n",
        "    joana.left(90)"
      ],
      "execution_count": null,
      "outputs": []
    },
    {
      "cell_type": "markdown",
      "metadata": {
        "id": "rS_8l3dQKyYZ"
      },
      "source": [
        "O importante aqui é **encontrar um padrão de repetição de declarações** e reorganizar o programa levando esses padrões em consideração.\n",
        "\n",
        "\n",
        "Podemos reescrever as linhas acima, usando uma função *built-in* do python, chamada [```range```](https://docs.python.org/3/library/functions.html#func-range). \n",
        "\n",
        "\n",
        "Em python, começamos toda indexação em 0 (zero)."
      ]
    },
    {
      "cell_type": "code",
      "metadata": {
        "id": "dnSY8Q5kKyYa"
      },
      "source": [
        "joana = ColabTurtle.Turtle\n",
        "joana.initializeTurtle()\n",
        "for i in range(4):\n",
        "    joana.forward(50)\n",
        "    joana.left(90)"
      ],
      "execution_count": null,
      "outputs": []
    },
    {
      "cell_type": "markdown",
      "metadata": {
        "id": "dRnIYqn5KyYe"
      },
      "source": [
        "#### Caso queira desenhar cada lado do quadrado com uma cor:"
      ]
    },
    {
      "cell_type": "code",
      "metadata": {
        "id": "FSjncN6xKyYf"
      },
      "source": [
        "joana = ColabTurtle.Turtle\n",
        "joana.initializeTurtle()\n",
        "cores = [\"yellow\", \"red\", \"purple\", \"blue\"] # VALID_COLORS = ('white', 'yellow', 'orange', 'red', 'green', 'blue', 'purple', 'grey', 'black')\n",
        "for i in cores:\n",
        "    joana.color(i)\n",
        "    joana.forward(50)\n",
        "    joana.left(90)"
      ],
      "execution_count": null,
      "outputs": []
    },
    {
      "cell_type": "markdown",
      "metadata": {
        "id": "ED-KXBaRKyYi"
      },
      "source": [
        "### Exercícios:\n",
        "1. No trinket, faça um programa que cria uma instância de tartaruga do tipo ```Turtle```(definida no módulo ```turtle```do interpretador de Python) e imprima na tela o tipo da tartaruga;\n",
        "1. [**Não é possível fazer no Google Colab. Faça no trinket.**] Modifique o programa da tartaruga (primeiro exemplo) para que, antes de criar a janela, ele solicite que o usuário insira a cor de fundo desejada. Ele deve armazenar as respostas do usuário em uma variável e modificar a cor da janela de acordo com os desejos do usuário. \n",
        "   * ***Dicas***: faça uso da função ***input***, built-in do python\n",
        "   * você pode encontrar uma lista de nomes de cores permitidos em http://www.tcl.tk/man/tcl8.4/TkCmd/colors.htm. Inclui alguns bem incomuns, como “peach puff” e “HotPink” ”***\n",
        "   \n",
        "1. Faça modificações similares para permitir que o usuário mude a cor da tartaruga durante a execução do programa.\n",
        "   1. Faça o mesmo para a largura da caneta da tartaruga. *Dica: seu diálogo com o usuário retornará uma string, mas o método ```pensize``` ( ```width``` no Google Colab) espera que seu argumento seja um **int**. Então, você precisará converter a **string** em um **int** antes de passá-la para **pensize**.*   \n",
        "   \n",
        "1. Investiguem os métodos e atributos do módulo ```turtle```  (```ColabTurtle``` no Google Colab);\n",
        "\n",
        "1. Desenhe um quadrado, usando a forma de tartaruga, ao invés da flecha, para desenhar (caso esteja no Google Colab, não precisa mudar a forma).\n",
        "   1. mude a velocidade com que a tartaruga faz o desenho.\n",
        "   \n",
        "1. Sabendo que o ângulo interno da ponta de uma estrela de 5 pontas é de 36 graus, desenhe uma estrela.\n",
        "![title](https://github.com/malbouis/Python_intro/blob/master/aulas_2019/pics/estrela.png?raw=1)\n",
        "\n",
        "1. Sabendo o ângulo interno da ponta de uma estrela, desenhe quatro estrelas em uma janela, com uma certa distância entre elas. Dica: use a função penup() e pendown() do módulo ```turtle```."
      ]
    },
    {
      "cell_type": "markdown",
      "metadata": {
        "id": "DZXmIVJAKyYj"
      },
      "source": [
        "### Exercícios em preparação para os próximos capítulos\n",
        "\n",
        "1. Escreva uma função chamada `square`, que toma um parâmetro `t`, que é uma `ColabTurtle`. Essa função deve usar o `ColabTurtle` para desenhar um quadrado. Escreva uma chamada de função que passe `joana` como argumento para `square` e rode o programa novamente. \n",
        "\n",
        "1. Adicione um outro parâmetro, chamado `length`, à função `square`. Modifique o corpo da função de tal forma que o comprimento dos lados do quadrado seja `length` e então modifique a chamada da função para que seja passado o segundo argumento. Rode o programa novamente. Teste o seu programa com diversos valores para `length`.\n",
        "\n",
        "1. Faça uma cópia da função `square` e mude o nome para `polygon`. Adicione um outro parâmetro chamado `n` e modifique o corpo da função para que ela desenhe um polígono regular de `n` lados. Dica: Os ângulos externos de um polígono regular de `n` lados são de `360/n` graus.  \n",
        "\n",
        "1. Escreva uma função chamada `circle` que toma como argumento uma `Turtle`, `t`, e um raio, `r`, e desenha um círculo aproximado ao chamar a função `polygon` com `length` e número `n` de lados apropriados. Teste sua função com um intervalo de valores de `r`. Dica: Determine a circunferência do círculo e se certifique que `comprimento * n = circunferência`.\n",
        "\n",
        "1. Faça uma versão mais geral da função `circle`, chamada `arc`, que toma um parâmetro adicional, `angle`, que determina qual a fração do circulo a ser desenhada. `angle` está em unidades de graus, logo quando `angle=360`, a função `arc` deve desenhar um cículo completo.\n"
      ]
    }
  ]
}