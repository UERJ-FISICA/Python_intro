{
 "cells": [
  {
   "cell_type": "markdown",
   "metadata": {},
   "source": [
    "# Análise numérica: resolução de equações diferenciais ordinárias\n",
    "\n",
    "Como resolver o problema quando ao invés de uma integração, onte temos só um valor final, temos uma equação diferencial, onde queremos uma série de valores em função de uma variável.\n",
    "\n",
    "Tomemos o exemplo do corredor, no primeiro intervalo onde durante $5 km$ tem velocidade quase constante de $12 km/h$. A função que queremos obter é $d(t)$, com os dados  $d_{final}$, $d_{inicial}$, e $v = \\dfrac{\\mathrm{d}d}{\\mathrm{d}t}$. Analíticamente este problema é simples:\n",
    "\n",
    "$ d(t) = d_{inicial} + v * t $\n",
    "\n",
    "Então numéricamente podemos fazer:\n"
   ]
  },
  {
   "cell_type": "code",
   "execution_count": 1,
   "metadata": {},
   "outputs": [],
   "source": [
    "d0=0\n",
    "dfin=5\n",
    "v=12\n",
    "t=[i  for i in range(0,30)] #intervalos de 1 minuto, 30 minutos\n",
    "d = [d0+v/60 * ti for ti in t]\n"
   ]
  },
  {
   "cell_type": "markdown",
   "metadata": {},
   "source": [
    "Podemos também ver o gráfico"
   ]
  },
  {
   "cell_type": "code",
   "execution_count": 3,
   "metadata": {},
   "outputs": [
    {
     "data": {
      "image/png": "[encoded data removed]",
      "text/plain": [
       "<Figure size 432x288 with 1 Axes>"
      ]
     },
     "metadata": {
      "needs_background": "light"
     },
     "output_type": "display_data"
    }
   ],
   "source": [
    "import matplotlib.pyplot as plt \n",
    "plt.plot(t,d)\n",
    "plt.show()"
   ]
  },
  {
   "cell_type": "markdown",
   "metadata": {},
   "source": [
    "Para achar o tempo que demorou em percorrer os 5 kilómetros podemos utilizar a o método ```index``` da lista:"
   ]
  },
  {
   "cell_type": "code",
   "execution_count": 4,
   "metadata": {},
   "outputs": [
    {
     "name": "stdout",
     "output_type": "stream",
     "text": [
      "O atleta percorreu 5.0 kilómetros em 25 minutos\n"
     ]
    }
   ],
   "source": [
    "i=d.index(5)\n",
    "print(\"O atleta percorreu {0} kilómetros em {1} minutos\".format(d[25],t[25]))"
   ]
  },
  {
   "cell_type": "markdown",
   "metadata": {},
   "source": [
    "Se tivermos uma equação diferencial mais complexa, onde seja preciso fazer iterações, podemos utilizar o chamado método de Euler.\n",
    "\n",
    "$y' = f(t,y(t)) $ \n",
    "\n",
    "e\n",
    "$y(t_0)=y_0$\n",
    "\n",
    "Então podemos dividir o intervalo $t_0$ ate $t_{fim}$ em $n$ intervalinhos regulares de largura $h =\\Delta t = \\dfrac{t_{fim}-t_0}{n} $, ou seja $t_{fim} = t_0 + n* h$ e mais geral $t_i = t_0 +i* h$. Com isto a aproximação numérica para $y(t)$ é:  \n",
    "\n",
    "\n",
    "$y(t_i) = y_i = y_{i-1} + y'_{i-1} * h$ \n",
    "\n",
    "e\n",
    "\n",
    "$y'_i = f(t_i,y_i) $\n",
    "\n",
    "\n",
    "Nesse caso a primeira derivada $y'$ pode depender tanto do $t$ quanto do $y$, e precisamos ter um valor de contorno para $y_0$ e $y'_0$."
   ]
  },
  {
   "cell_type": "code",
   "execution_count": 5,
   "metadata": {},
   "outputs": [
    {
     "data": {
      "image/png": "[encoded data removed]",
      "text/plain": [
       "<Figure size 432x288 with 1 Axes>"
      ]
     },
     "metadata": {
      "needs_background": "light"
     },
     "output_type": "display_data"
    }
   ],
   "source": [
    "import math\n",
    "def f(t,y): \n",
    "    \"\"\" exemplo de função \"\"\"\n",
    "    return y+t^2\n",
    "\n",
    "t = range(0,100)\n",
    "y=[]\n",
    "y.append(0) #x_0 = 0 \n",
    "\n",
    "dt = t[1]-t[0] #sabemos que nesse caso o intervalo é 1 pela construção da lista t, mas é melhor colocar para ser geral\n",
    "\n",
    "for i in range(1,100) :\n",
    "    yi = y[i-1]  + f(t[i-1],y[i-1]) * dt\n",
    "    y.append(yi)\n",
    "    \n",
    "plt.plot(t,y)\n",
    "plt.show()"
   ]
  },
  {
   "cell_type": "markdown",
   "metadata": {},
   "source": [
    "No caso da aceleração e do péndulo, a equação diferencial é de segundo grau. Nesse caso é necessário na iteração resolver para $v$ e para $x$. A expressão para a aceleração pode ser uma função da posição, o tempo e também a velocidade, $a(v,x,t)$.\n",
    "\n",
    "$ v(t_i)= v_{i} = v_{i-1} + a(v_{i-1},x_{i-1},t_{i-1}) * h $\n",
    "\n",
    "e\n",
    "\n",
    "$ x(t_i)= x_{i} = x_{i-1} + v_{i-1} *h $\n",
    "\n",
    "No caso a escolha do valor da velocidade pode ser a velocidade no ponto anterior (método do Euler) ou a velocidade atualizada ou uma média das duas (método do ponto médio). "
   ]
  },
  {
   "cell_type": "markdown",
   "metadata": {},
   "source": [
    "### Exercícios extras de resolução numérica de equações  diferenciais (da aula passada)\n",
    "\n",
    "1. Imagine que tem um/a maratonista treinando, que num trecho de $5 km$ tem velocidade quase constante de $12 km/h$. Produza uma lista distância percorrida em intervalos de 1 minuto.\n",
    "\n",
    "1. O/A mesmo/a atleta no seguinte trecho acelera por $200$ metros até chegar em $15 km/h$ por $2 km$. Queremos obter uma tabela ou gráfico da distância percorrida en função do tempo e o tempo total para chegar em $7 km$, faça isto utilizando listas.\n",
    "\n",
    "1. Considere um péndulo simples num plano. O comprimento da linha é $1$ metro, a massa é $0,2 kg$ e a aceleração de gravidade $9,8 m/s^2$. Faça um gráfico ou crie uma tabela para a posição em coordenadas cartesianas em função do tempo, utilizando listas.\n",
    "\n",
    "\n",
    "- (opcional) Pesquise sobre o pacote numpy e os objetos desse pacote chamados array, tente utilizálos ao invés de listas para resolver os exercícios.\n",
    "\n",
    "- (opcional) Pesquise sobre o pacote scipy e seu modulo integrate para resolver integrações ou equações diferenciais numéricamente.\n"
   ]
  },
  {
   "cell_type": "code",
   "execution_count": null,
   "metadata": {},
   "outputs": [],
   "source": []
  }
 ],
 "metadata": {
  "kernelspec": {
   "display_name": "Python 3",
   "language": "python",
   "name": "python3"
  },
  "language_info": {
   "codemirror_mode": {
    "name": "ipython",
    "version": 3
   },
   "file_extension": ".py",
   "mimetype": "text/x-python",
   "name": "python",
   "nbconvert_exporter": "python",
   "pygments_lexer": "ipython3",
   "version": "3.7.0"
  }
 },
 "nbformat": 4,
 "nbformat_minor": 2
}
