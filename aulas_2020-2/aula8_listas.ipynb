{
  "nbformat": 4,
  "nbformat_minor": 0,
  "metadata": {
    "kernelspec": {
      "display_name": "Python 3",
      "language": "python",
      "name": "python3"
    },
    "language_info": {
      "codemirror_mode": {
        "name": "ipython",
        "version": 3
      },
      "file_extension": ".py",
      "mimetype": "text/x-python",
      "name": "python",
      "nbconvert_exporter": "python",
      "pygments_lexer": "ipython3",
      "version": "3.6.4"
    },
    "colab": {
      "name": "aula8-listas.ipynb",
      "provenance": [],
      "include_colab_link": true
    }
  },
  "cells": [
    {
      "cell_type": "markdown",
      "metadata": {
        "id": "view-in-github",
        "colab_type": "text"
      },
      "source": [
        "<a href=\"https://colab.research.google.com/github/malbouis/Python_intro/blob/master/aulas/aula8_listas.ipynb\" target=\"_parent\"><img src=\"https://colab.research.google.com/assets/colab-badge.svg\" alt=\"Open In Colab\"/></a>"
      ]
    },
    {
      "cell_type": "markdown",
      "metadata": {
        "id": "NiQ_H4VUJ33w"
      },
      "source": [
        "\n",
        "# Strings\n",
        "\n",
        "Strings não são como números inteiros, de ponto flutuante ou booleanos. Uma string é uma sequência, ou seja, uma coleção ordenada de outros valores. Vamos ver como acessar os caracteres que compõem uma string e aprender alguns métodos que as strings oferecem. \n",
        "\n",
        " - Aula baseada no livro: http://openbookproject.net/thinkcs/python/english3e/index.html\n",
        "\n",
        "Uma `string` é uma sequência de caracteres. Como já vimos, é possível acessar acessar um caractere de cada vez com o operador de colchete.  \n",
        "- Lembre-se que o índice é uma referência do começo da string, e a referência da primeira letra é zero\n",
        "- Pode-se usar índices negativos, que contam de trás para a frente a partir do fim da string. \n",
        "- Uma `string` é imutável. "
      ]
    },
    {
      "cell_type": "code",
      "metadata": {
        "id": "fe5Nck5sLPG3",
        "colab": {
          "base_uri": "https://localhost:8080/",
          "height": 35
        },
        "outputId": "27e7f839-adcd-4373-80b2-33c4910d4bca"
      },
      "source": [
        "fruta = 'banana'\n",
        "letra = fruta[1]\n",
        "letra"
      ],
      "execution_count": 34,
      "outputs": [
        {
          "output_type": "execute_result",
          "data": {
            "application/vnd.google.colaboratory.intrinsic+json": {
              "type": "string"
            },
            "text/plain": [
              "'a'"
            ]
          },
          "metadata": {
            "tags": []
          },
          "execution_count": 34
        }
      ]
    },
    {
      "cell_type": "markdown",
      "metadata": {
        "id": "BEbouUfULb0-"
      },
      "source": [
        "É possível utilizar algumas funções integradas ao python com as `strings`, por exemplo, `len`."
      ]
    },
    {
      "cell_type": "code",
      "metadata": {
        "id": "7p0jJNe3MkBC",
        "colab": {
          "base_uri": "https://localhost:8080/"
        },
        "outputId": "bf6d34d3-a880-4871-b344-c813b5852821"
      },
      "source": [
        "len(fruta)\n"
      ],
      "execution_count": 35,
      "outputs": [
        {
          "output_type": "execute_result",
          "data": {
            "text/plain": [
              "6"
            ]
          },
          "metadata": {
            "tags": []
          },
          "execution_count": 35
        }
      ]
    },
    {
      "cell_type": "code",
      "metadata": {
        "id": "mhQQNAYXM9Y5",
        "colab": {
          "base_uri": "https://localhost:8080/"
        },
        "outputId": "d80d349a-8a75-49db-efe0-3e58f6ca600f"
      },
      "source": [
        "tamanho = len(fruta)\n",
        "ultimaLetra = fruta[tamanho-1]\n",
        "print(ultimaLetra)"
      ],
      "execution_count": 38,
      "outputs": [
        {
          "output_type": "stream",
          "text": [
            "a\n"
          ],
          "name": "stdout"
        }
      ]
    },
    {
      "cell_type": "markdown",
      "metadata": {
        "id": "BaoP_gw8NSNW"
      },
      "source": [
        "1.   Exercício: percorra toda a 'string' banana, utilizando as iterações\n",
        "apresentadas nas aulas anteriores, e imprima na tela uma letra por linha como se fosse em uma escada. \n"
      ]
    },
    {
      "cell_type": "markdown",
      "metadata": {
        "id": "NCiSChVSSaBG"
      },
      "source": [
        "2. Exercício: escreva uma função que receba uma `string` como argumento e exiba as letras de trás para a frente, uma por linha."
      ]
    },
    {
      "cell_type": "markdown",
      "metadata": {
        "id": "Ijj6avSgSu2U"
      },
      "source": [
        "#Métodos e operadores de `strings`\n",
        "Os métodos são semelhantes às funções, vale a pena pesquisar sobre os métodos e operadores que podem ser utilizados com as `strings`, por exemplo: \n",
        " - métodos: `upper`, `find`\n",
        " - operadores: `in`"
      ]
    },
    {
      "cell_type": "code",
      "metadata": {
        "id": "D4rur9A-UWQ0",
        "colab": {
          "base_uri": "https://localhost:8080/",
          "height": 35
        },
        "outputId": "3257f46d-8d85-4b14-b103-d19f8c7a9652"
      },
      "source": [
        "#o método upper recebe uma string e devolve uma nova string com todas as letras maiúsculas\n",
        "nova_fruta = fruta.upper()\n",
        "nova_fruta"
      ],
      "execution_count": 39,
      "outputs": [
        {
          "output_type": "execute_result",
          "data": {
            "application/vnd.google.colaboratory.intrinsic+json": {
              "type": "string"
            },
            "text/plain": [
              "'BANANA'"
            ]
          },
          "metadata": {
            "tags": []
          },
          "execution_count": 39
        }
      ]
    },
    {
      "cell_type": "code",
      "metadata": {
        "id": "2CRHCX3FUjLC",
        "colab": {
          "base_uri": "https://localhost:8080/"
        },
        "outputId": "1674e275-d228-4a2b-e9ec-c22974f3e194"
      },
      "source": [
        "#o método find encontra a posição de uma letra específica na string \n",
        "indice = fruta.index(\"a\")\n",
        "indice"
      ],
      "execution_count": 40,
      "outputs": [
        {
          "output_type": "execute_result",
          "data": {
            "text/plain": [
              "1"
            ]
          },
          "metadata": {
            "tags": []
          },
          "execution_count": 40
        }
      ]
    },
    {
      "cell_type": "code",
      "metadata": {
        "id": "6BH0WLHkU04e",
        "colab": {
          "base_uri": "https://localhost:8080/"
        },
        "outputId": "b67382a3-aefa-44c4-f91a-b86ef64e4413"
      },
      "source": [
        "indice = fruta.index(\"a\",2)\n",
        "indice"
      ],
      "execution_count": 42,
      "outputs": [
        {
          "output_type": "execute_result",
          "data": {
            "text/plain": [
              "3"
            ]
          },
          "metadata": {
            "tags": []
          },
          "execution_count": 42
        }
      ]
    },
    {
      "cell_type": "code",
      "metadata": {
        "id": "E8qhTLPVVost",
        "colab": {
          "base_uri": "https://localhost:8080/"
        },
        "outputId": "06c41596-e85a-43f2-f638-cac569f2cc67"
      },
      "source": [
        "#in é um operador booleano que recebe duas strings e retorna True se a primeira aparecer como uma substring da segunda\n",
        "'a' in 'banana'"
      ],
      "execution_count": 43,
      "outputs": [
        {
          "output_type": "execute_result",
          "data": {
            "text/plain": [
              "True"
            ]
          },
          "metadata": {
            "tags": []
          },
          "execution_count": 43
        }
      ]
    },
    {
      "cell_type": "code",
      "metadata": {
        "id": "HeG5NZU2VxeT",
        "colab": {
          "base_uri": "https://localhost:8080/"
        },
        "outputId": "d84c481f-5182-4bdd-a834-b5b85b804357"
      },
      "source": [
        "'nn' in 'banana'\n"
      ],
      "execution_count": 44,
      "outputs": [
        {
          "output_type": "execute_result",
          "data": {
            "text/plain": [
              "False"
            ]
          },
          "metadata": {
            "tags": []
          },
          "execution_count": 44
        }
      ]
    },
    {
      "cell_type": "code",
      "metadata": {
        "colab": {
          "base_uri": "https://localhost:8080/"
        },
        "id": "bXiMcc9mWc8t",
        "outputId": "c6427bb7-b53d-4517-bdc4-a2d6a1796744"
      },
      "source": [
        "'ana' in 'banana'"
      ],
      "execution_count": 45,
      "outputs": [
        {
          "output_type": "execute_result",
          "data": {
            "text/plain": [
              "True"
            ]
          },
          "metadata": {
            "tags": []
          },
          "execution_count": 45
        }
      ]
    },
    {
      "cell_type": "code",
      "metadata": {
        "id": "sPrGliL3V3W6",
        "colab": {
          "base_uri": "https://localhost:8080/"
        },
        "outputId": "322ea61e-a5d7-4bd6-f86b-22384a5c8cfe"
      },
      "source": [
        "#Exercitando o que já vimos\n",
        "#A função a seguir imprime todas as letras de palav1 que também aparecem em palav2:\n",
        "def in_both(palav1, palav2):\n",
        "    for letra in palav1:\n",
        "        if letra in palav2:\n",
        "            print(letra)\n",
        "\n",
        "in_both(\"aulas\", \"remotas\") "
      ],
      "execution_count": 46,
      "outputs": [
        {
          "output_type": "stream",
          "text": [
            "a\n",
            "a\n",
            "s\n"
          ],
          "name": "stdout"
        }
      ]
    },
    {
      "cell_type": "markdown",
      "metadata": {
        "id": "AtxgfQT9KY8y"
      },
      "source": [
        "# Listas \n",
        "\n",
        "Uma lista é uma coleção ordenada de valores. Os valores que compõem uma lista são chamados de seus **elementos** ou seus **itens** . Nós usaremos o termo elemento ou item para significar a mesma coisa. ***A lista mantém a ordem de seus elementos***, portanto podem ser identificadas como **sequências** (como também são sequências as _strings_ (cadeias de carateres, e as tuplas) \n",
        "\n",
        "\n",
        "## Valores de lista\n",
        "Existem várias maneiras de criar uma nova lista; o mais simples é incluir os elementos entre colchetes:\n"
      ]
    },
    {
      "cell_type": "code",
      "metadata": {
        "id": "sgtadaMKJ33y",
        "colab": {
          "base_uri": "https://localhost:8080/"
        },
        "outputId": "efbfc12b-312f-4872-f317-63b2cf472f2c"
      },
      "source": [
        "ps  =  [ 10 ,  20 ,  30 ,  40 ] \n",
        "qs  =  [ \"spam\" ,  \"bungee\" ,  \"cantar\" ]\n",
        "print(ps, type(ps))\n",
        "print(qs, type(qs))"
      ],
      "execution_count": 47,
      "outputs": [
        {
          "output_type": "stream",
          "text": [
            "[10, 20, 30, 40] <class 'list'>\n",
            "['spam', 'bungee', 'cantar'] <class 'list'>\n"
          ],
          "name": "stdout"
        }
      ]
    },
    {
      "cell_type": "markdown",
      "metadata": {
        "id": "EjIqwfYwJ34A"
      },
      "source": [
        "O primeiro exemplo é uma lista de quatro inteiros. O segundo é uma lista de três strings. Os elementos de uma lista não precisam ser do mesmo tipo. A lista a seguir contém uma string, um float, um inteiro e (incrivelmente) outra lista:"
      ]
    },
    {
      "cell_type": "code",
      "metadata": {
        "id": "g17yeeHiJ34D"
      },
      "source": [
        "zs  =  [ \"olá\" ,  2.0 ,  5 ,  [ 10 ,  20 ]]"
      ],
      "execution_count": 48,
      "outputs": []
    },
    {
      "cell_type": "markdown",
      "metadata": {
        "id": "rHOG3ji-J34K"
      },
      "source": [
        "- Uma lista dentro de outra lista é dita ***aninhada*** .\n",
        "- Finalmente, uma lista sem elementos é chamada de lista vazia e é denotada \\[ \\] .\n",
        "- Já vimos que podemos atribuir valores de lista a variáveis ou passar ***listas como parâmetros*** para funções."
      ]
    },
    {
      "cell_type": "code",
      "metadata": {
        "id": "nR-63WGFJ34M",
        "colab": {
          "base_uri": "https://localhost:8080/"
        },
        "outputId": "fd18e4dc-3052-45e7-ae1e-0db734b2e47f"
      },
      "source": [
        "palavras  =  [ \"maça\" ,  \"queijo\" ,  \"cachorro\" ] \n",
        "numeros  =  [ 17 ,  123 ] \n",
        "lista_vazia  =  [] \n",
        "print ( palavras ,  numeros ,  lista_vazia ) "
      ],
      "execution_count": 49,
      "outputs": [
        {
          "output_type": "stream",
          "text": [
            "['maça', 'queijo', 'cachorro'] [17, 123] []\n"
          ],
          "name": "stdout"
        }
      ]
    },
    {
      "cell_type": "markdown",
      "metadata": {
        "id": "CEWkC2n7J34R"
      },
      "source": [
        "## Acessando elementos \n",
        "A sintaxe para acessar os elementos de uma lista é o operador índice: \\[ \\] (não confundir com uma lista vazia). A expressão dentro dos colchetes especifica o índice. Lembre-se que os índices no Python começam em 0:"
      ]
    },
    {
      "cell_type": "code",
      "metadata": {
        "id": "WMzE-8IIJ34T",
        "colab": {
          "base_uri": "https://localhost:8080/"
        },
        "outputId": "5f27fd78-e410-448f-e789-4396445e04eb"
      },
      "source": [
        "numeros[0]"
      ],
      "execution_count": 50,
      "outputs": [
        {
          "output_type": "execute_result",
          "data": {
            "text/plain": [
              "17"
            ]
          },
          "metadata": {
            "tags": []
          },
          "execution_count": 50
        }
      ]
    },
    {
      "cell_type": "code",
      "metadata": {
        "id": "feodhl5uJ34Z",
        "colab": {
          "base_uri": "https://localhost:8080/",
          "height": 35
        },
        "outputId": "fefc8f54-c246-484b-cfc2-c159ce7810b4"
      },
      "source": [
        "palavras[1]"
      ],
      "execution_count": 51,
      "outputs": [
        {
          "output_type": "execute_result",
          "data": {
            "application/vnd.google.colaboratory.intrinsic+json": {
              "type": "string"
            },
            "text/plain": [
              "'queijo'"
            ]
          },
          "metadata": {
            "tags": []
          },
          "execution_count": 51
        }
      ]
    },
    {
      "cell_type": "markdown",
      "metadata": {
        "id": "JzRGayFKJ34s"
      },
      "source": [
        "Qualquer expressão que avalie para um inteiro pode ser usada como um índice:"
      ]
    },
    {
      "cell_type": "code",
      "metadata": {
        "id": "8z3Y5YJ1J34t",
        "colab": {
          "base_uri": "https://localhost:8080/"
        },
        "outputId": "dde0f56c-7c51-42c1-8704-bd31056e4245"
      },
      "source": [
        "numeros[ 9 - 8 ] "
      ],
      "execution_count": 52,
      "outputs": [
        {
          "output_type": "execute_result",
          "data": {
            "text/plain": [
              "123"
            ]
          },
          "metadata": {
            "tags": []
          },
          "execution_count": 52
        }
      ]
    },
    {
      "cell_type": "code",
      "metadata": {
        "id": "JsKKbKEcJ34z",
        "colab": {
          "base_uri": "https://localhost:8080/",
          "height": 168
        },
        "outputId": "90bfe23e-63ea-473a-b295-288402a00ba7"
      },
      "source": [
        "numeros[ 1.0 ] "
      ],
      "execution_count": 53,
      "outputs": [
        {
          "output_type": "error",
          "ename": "TypeError",
          "evalue": "ignored",
          "traceback": [
            "\u001b[0;31m---------------------------------------------------------------------------\u001b[0m",
            "\u001b[0;31mTypeError\u001b[0m                                 Traceback (most recent call last)",
            "\u001b[0;32m<ipython-input-53-0cde34bf83fb>\u001b[0m in \u001b[0;36m<module>\u001b[0;34m()\u001b[0m\n\u001b[0;32m----> 1\u001b[0;31m \u001b[0mnumeros\u001b[0m\u001b[0;34m[\u001b[0m \u001b[0;36m1.0\u001b[0m \u001b[0;34m]\u001b[0m\u001b[0;34m\u001b[0m\u001b[0;34m\u001b[0m\u001b[0m\n\u001b[0m",
            "\u001b[0;31mTypeError\u001b[0m: list indices must be integers or slices, not float"
          ]
        }
      ]
    },
    {
      "cell_type": "markdown",
      "metadata": {
        "id": "tDAZ2i0ZJ342"
      },
      "source": [
        "Ao tentar acessar o elemento `1.0` temos um erro pois os índices devem ser números de tipo inteiro, não de ponto flutuante. Se tentássemos acessar ou atribuir um elemento que não existe também teremos um erro de execução:"
      ]
    },
    {
      "cell_type": "code",
      "metadata": {
        "id": "16G3GtIcJ343",
        "colab": {
          "base_uri": "https://localhost:8080/",
          "height": 168
        },
        "outputId": "31c410ce-b3a8-4455-ae3e-d20c2b2c7dae"
      },
      "source": [
        "numeros[2]"
      ],
      "execution_count": 54,
      "outputs": [
        {
          "output_type": "error",
          "ename": "IndexError",
          "evalue": "ignored",
          "traceback": [
            "\u001b[0;31m---------------------------------------------------------------------------\u001b[0m",
            "\u001b[0;31mIndexError\u001b[0m                                Traceback (most recent call last)",
            "\u001b[0;32m<ipython-input-54-91860da3118d>\u001b[0m in \u001b[0;36m<module>\u001b[0;34m()\u001b[0m\n\u001b[0;32m----> 1\u001b[0;31m \u001b[0mnumeros\u001b[0m\u001b[0;34m[\u001b[0m\u001b[0;36m2\u001b[0m\u001b[0;34m]\u001b[0m\u001b[0;34m\u001b[0m\u001b[0;34m\u001b[0m\u001b[0m\n\u001b[0m",
            "\u001b[0;31mIndexError\u001b[0m: list index out of range"
          ]
        }
      ]
    },
    {
      "cell_type": "markdown",
      "metadata": {
        "id": "Ec1RflQiJ348"
      },
      "source": [
        "É comum usar uma variável de loop como um índice de lista.\n"
      ]
    },
    {
      "cell_type": "code",
      "metadata": {
        "id": "tcQgc-SrJ349",
        "colab": {
          "base_uri": "https://localhost:8080/"
        },
        "outputId": "f3d30167-ea52-4132-b36c-ac70a2adebca"
      },
      "source": [
        "horta  =  [ \"manjericao\" ,  \"hortela\" ,  \"cebolinha\" ,  \"salsa\" ] \n",
        "\n",
        "for  i  in  [ 0 ,  1 ,  2 ,  3 ]: \n",
        "    print ( horta [ i ])"
      ],
      "execution_count": 55,
      "outputs": [
        {
          "output_type": "stream",
          "text": [
            "manjericao\n",
            "hortela\n",
            "cebolinha\n",
            "salsa\n"
          ],
          "name": "stdout"
        }
      ]
    },
    {
      "cell_type": "markdown",
      "metadata": {
        "id": "SiDiCnxrJ35D"
      },
      "source": [
        "Mas o exemplo acima **não** precisa usar o índice `i` para coisa nenhuma além de obter os itens da lista, então esta versão onde o própio loop `for` obtem os elementos acaba sendo mais direta :"
      ]
    },
    {
      "cell_type": "code",
      "metadata": {
        "id": "3CVWgAiYJ35D",
        "colab": {
          "base_uri": "https://localhost:8080/"
        },
        "outputId": "85e476f3-c5ac-4272-88fa-990485993dcf"
      },
      "source": [
        "for i in horta  : \n",
        "    print ( i )"
      ],
      "execution_count": 56,
      "outputs": [
        {
          "output_type": "stream",
          "text": [
            "manjericao\n",
            "hortela\n",
            "cebolinha\n",
            "salsa\n"
          ],
          "name": "stdout"
        }
      ]
    },
    {
      "cell_type": "markdown",
      "metadata": {
        "id": "gCNirG2ZJ35J"
      },
      "source": [
        "## Comprimento de uma lista\n",
        "A utilização dos índices pode ser útil se o objetivo for **atualizar** o valor do elemento. Nesse caso também é possível usar a função `len` sobre a lista para conhecer seu comprimento. P. ex.:"
      ]
    },
    {
      "cell_type": "code",
      "metadata": {
        "id": "WY6xVqSiJ35K",
        "colab": {
          "base_uri": "https://localhost:8080/"
        },
        "outputId": "4d91dcf1-9895-48a9-f761-8e8d97740f2e"
      },
      "source": [
        "n = len(horta)\n",
        "for i in range(n):\n",
        "    horta[i] = horta[i].upper()\n",
        "    print(horta[i])\n",
        "    "
      ],
      "execution_count": 57,
      "outputs": [
        {
          "output_type": "stream",
          "text": [
            "MANJERICAO\n",
            "HORTELA\n",
            "CEBOLINHA\n",
            "SALSA\n"
          ],
          "name": "stdout"
        }
      ]
    },
    {
      "cell_type": "markdown",
      "metadata": {
        "id": "qVHfGdUZJ35P"
      },
      "source": [
        "_(A função `upper` é um ***método*** das strings que muda as letras minúsculas a maiúsculas)_\n",
        "\n",
        "O último valor do índice `i` do loop acima é `n-1`.  Uma lista pode conter outra lista como elemento, porém esta lista **aninhada** conta como um só valor."
      ]
    },
    {
      "cell_type": "code",
      "metadata": {
        "id": "aE6TBIFKJ35Q",
        "colab": {
          "base_uri": "https://localhost:8080/"
        },
        "outputId": "597c481b-3a42-4d90-8a78-0289fc8c49ab"
      },
      "source": [
        "listaCarros = [\"marcas de carro\", 1, [\"Ford\", \"Toyota\", \"BMW\"], [1, 2, 3]]\n",
        "len(listaCarros)"
      ],
      "execution_count": 58,
      "outputs": [
        {
          "output_type": "execute_result",
          "data": {
            "text/plain": [
              "4"
            ]
          },
          "metadata": {
            "tags": []
          },
          "execution_count": 58
        }
      ]
    },
    {
      "cell_type": "code",
      "metadata": {
        "id": "gmbiltZqJ35U",
        "colab": {
          "base_uri": "https://localhost:8080/"
        },
        "outputId": "8e4d05f5-f3fc-4caf-b705-22bd179a0634"
      },
      "source": [
        "print(listaCarros[2],len(listaCarros[2]))"
      ],
      "execution_count": 59,
      "outputs": [
        {
          "output_type": "stream",
          "text": [
            "['Ford', 'Toyota', 'BMW'] 3\n"
          ],
          "name": "stdout"
        }
      ]
    },
    {
      "cell_type": "markdown",
      "metadata": {
        "id": "Yfp6Hh42J35Y"
      },
      "source": [
        "## As listas são _mutáveis_\n",
        "\n",
        "Como foi visto acima, os valores dos elementos de uma lista podem ser mudados, e/ou mais elementos adicionados. Isto quer dizer que as listas são mutáveis.  Examinemos os exemplos:"
      ]
    },
    {
      "cell_type": "code",
      "metadata": {
        "id": "OJEtcmC2J35Z",
        "colab": {
          "base_uri": "https://localhost:8080/"
        },
        "outputId": "9d7e569b-f7b5-4dc8-e2bf-8205b3cfa8ab"
      },
      "source": [
        "mylist = [1,2,3,\"maria\"]\n",
        "print(mylist[3].capitalize())\n",
        "print(mylist[3])"
      ],
      "execution_count": 60,
      "outputs": [
        {
          "output_type": "stream",
          "text": [
            "Maria\n",
            "maria\n"
          ],
          "name": "stdout"
        }
      ]
    },
    {
      "cell_type": "markdown",
      "metadata": {
        "id": "xJVE2Vx1J35c"
      },
      "source": [
        "Aqui ao chamar a função `capitalize()` (outro  método dos strings) esta retorna o string com a primeira letra em maiúscula, mas o quarto elemento da lista (que tem índice 3) não muda.  Porém podemos __atualizar__ o valor desse elemento, ou de outros (como o terceiro, de índice 2)."
      ]
    },
    {
      "cell_type": "code",
      "metadata": {
        "id": "gEk5VrlkJ35c",
        "colab": {
          "base_uri": "https://localhost:8080/"
        },
        "outputId": "3de5b005-cc7d-4d31-e1cf-b9dca32bb7af"
      },
      "source": [
        "mylist[3]=mylist[3].capitalize()\n",
        "print(mylist)\n",
        "mylist[2]=\"trois\"\n",
        "print(mylist)"
      ],
      "execution_count": 61,
      "outputs": [
        {
          "output_type": "stream",
          "text": [
            "[1, 2, 3, 'Maria']\n",
            "[1, 2, 'trois', 'Maria']\n"
          ],
          "name": "stdout"
        }
      ]
    },
    {
      "cell_type": "markdown",
      "metadata": {
        "id": "iJ4DZl8dJ35g"
      },
      "source": [
        "## _Fatias_ de listas\n",
        "\n",
        "Podemos aplicar operações de fatia para seleçionar sublistas"
      ]
    },
    {
      "cell_type": "code",
      "metadata": {
        "id": "0pADNmv9J35g",
        "colab": {
          "base_uri": "https://localhost:8080/"
        },
        "outputId": "f9a83c29-5c0c-4483-a88b-87575d48f696"
      },
      "source": [
        "print(mylist)\n",
        "mylist[1:3]"
      ],
      "execution_count": 64,
      "outputs": [
        {
          "output_type": "stream",
          "text": [
            "[1, 2, 'trois', 'Maria']\n"
          ],
          "name": "stdout"
        },
        {
          "output_type": "execute_result",
          "data": {
            "text/plain": [
              "[2, 'trois']"
            ]
          },
          "metadata": {
            "tags": []
          },
          "execution_count": 64
        }
      ]
    },
    {
      "cell_type": "markdown",
      "metadata": {
        "id": "p2f8NdzNJ35k"
      },
      "source": [
        "O operador seleciona a sublista incluindo o primeiro índice e excluindo o último (no caso acima, os índices 1 e 2). Ao deixar um lado do operador em branco, selecionamos até o fim (ou desde o começo) da lista:"
      ]
    },
    {
      "cell_type": "code",
      "metadata": {
        "id": "IWdOdlghJ35l",
        "colab": {
          "base_uri": "https://localhost:8080/"
        },
        "outputId": "cde9c80a-f2d1-4e07-c877-d4b685af15de"
      },
      "source": [
        "mylist[2:]"
      ],
      "execution_count": 65,
      "outputs": [
        {
          "output_type": "execute_result",
          "data": {
            "text/plain": [
              "['trois', 'Maria']"
            ]
          },
          "metadata": {
            "tags": []
          },
          "execution_count": 65
        }
      ]
    },
    {
      "cell_type": "code",
      "metadata": {
        "id": "eiH-0SqdJ35p",
        "colab": {
          "base_uri": "https://localhost:8080/"
        },
        "outputId": "fc0eeece-c37b-4e3f-9fdd-b86000c33cbe"
      },
      "source": [
        "mylist[:2]"
      ],
      "execution_count": 66,
      "outputs": [
        {
          "output_type": "execute_result",
          "data": {
            "text/plain": [
              "[1, 2]"
            ]
          },
          "metadata": {
            "tags": []
          },
          "execution_count": 66
        }
      ]
    },
    {
      "cell_type": "markdown",
      "metadata": {
        "id": "id5P0OxEJ35t"
      },
      "source": [
        "Com o operador de fatia, podemos atualizar toda uma sub-lista de uma só vez:"
      ]
    },
    {
      "cell_type": "code",
      "metadata": {
        "id": "GnyEmR05J35u",
        "colab": {
          "base_uri": "https://localhost:8080/"
        },
        "outputId": "de88da5d-0aea-4073-d0f3-584d816cdce8"
      },
      "source": [
        "a_list = [ \"a\" , \"b\" , \"c\" , \"d\" , \"e\" , \"f\" ]\n",
        "a_list [ 1 : 3 ] = [ \"x\" , \"y\" ]\n",
        "a_list"
      ],
      "execution_count": 67,
      "outputs": [
        {
          "output_type": "execute_result",
          "data": {
            "text/plain": [
              "['a', 'x', 'y', 'd', 'e', 'f']"
            ]
          },
          "metadata": {
            "tags": []
          },
          "execution_count": 67
        }
      ]
    },
    {
      "cell_type": "markdown",
      "metadata": {
        "id": "ZqR73_vYJ35x"
      },
      "source": [
        "Também podemos remover elementos de uma lista atribuindo uma lista vazia a eles:"
      ]
    },
    {
      "cell_type": "code",
      "metadata": {
        "id": "Gf_v4uk-J35y",
        "colab": {
          "base_uri": "https://localhost:8080/"
        },
        "outputId": "48d4dfb5-b542-4184-fdfc-f1b1646d54f2"
      },
      "source": [
        "a_list[1:3]=[]\n",
        "a_list"
      ],
      "execution_count": 68,
      "outputs": [
        {
          "output_type": "execute_result",
          "data": {
            "text/plain": [
              "['a', 'd', 'e', 'f']"
            ]
          },
          "metadata": {
            "tags": []
          },
          "execution_count": 68
        }
      ]
    },
    {
      "cell_type": "markdown",
      "metadata": {
        "id": "UUnEgeELJ351"
      },
      "source": [
        "Porém tem uma alternativa mais legível e menos propensa a erros, utilizando o comando `del`:"
      ]
    },
    {
      "cell_type": "code",
      "metadata": {
        "id": "kWu_Pa5uJ351",
        "colab": {
          "base_uri": "https://localhost:8080/"
        },
        "outputId": "fad2f1a0-bf14-4053-f1eb-9abb3e3e4434"
      },
      "source": [
        "a = [\"um\", \"dois\", \"três\"]\n",
        "del a[1]\n",
        "a"
      ],
      "execution_count": 69,
      "outputs": [
        {
          "output_type": "execute_result",
          "data": {
            "text/plain": [
              "['um', 'três']"
            ]
          },
          "metadata": {
            "tags": []
          },
          "execution_count": 69
        }
      ]
    },
    {
      "cell_type": "markdown",
      "metadata": {
        "id": "fvbNIfdNJ359"
      },
      "source": [
        "Este comando também pode ser utlizado com fatias:"
      ]
    },
    {
      "cell_type": "code",
      "metadata": {
        "id": "cgqdE6wVJ35-",
        "colab": {
          "base_uri": "https://localhost:8080/"
        },
        "outputId": "0d49bb4a-5c89-4fef-ea90-033e76ded8d2"
      },
      "source": [
        "b=[\"un\",\"deux\",\"trois\",\"quatre\",\"cinq\"]\n",
        "del b[2:4]\n",
        "b"
      ],
      "execution_count": 70,
      "outputs": [
        {
          "output_type": "execute_result",
          "data": {
            "text/plain": [
              "['un', 'deux', 'cinq']"
            ]
          },
          "metadata": {
            "tags": []
          },
          "execution_count": 70
        }
      ]
    },
    {
      "cell_type": "markdown",
      "metadata": {
        "id": "rPleF8RsJ36C"
      },
      "source": [
        "Podemos fatiar em passos:"
      ]
    },
    {
      "cell_type": "code",
      "metadata": {
        "id": "Xstl1kWMJ36D",
        "colab": {
          "base_uri": "https://localhost:8080/"
        },
        "outputId": "8b92fb3d-d60f-4997-ed4f-3239d37da89f"
      },
      "source": [
        "print(a_list)\n",
        "a_list[1:4:2]      # pegar uma fatia de índices 1 a 4 com passo de 2 elementos."
      ],
      "execution_count": 71,
      "outputs": [
        {
          "output_type": "stream",
          "text": [
            "['a', 'd', 'e', 'f']\n"
          ],
          "name": "stdout"
        },
        {
          "output_type": "execute_result",
          "data": {
            "text/plain": [
              "['d', 'f']"
            ]
          },
          "metadata": {
            "tags": []
          },
          "execution_count": 71
        }
      ]
    },
    {
      "cell_type": "markdown",
      "metadata": {
        "id": "mF3TGXnpJ36I"
      },
      "source": [
        "Em resumo:"
      ]
    },
    {
      "cell_type": "code",
      "metadata": {
        "id": "Gzsm_dThJ36J"
      },
      "source": [
        "start=2\n",
        "stop=3\n",
        "a_list[start:stop]  # items start through stop-1\n",
        "a_list[start:]      # items start through the rest of the array\n",
        "a_list[:stop]       # items from the beginning through stop-1\n",
        "a_list[:]           # a copy of the whole array\n",
        "a_list[-1]    # last item in the array\n",
        "a_list[-2:]   # last two items in the array\n",
        "a_list[:-2]   # everything except the last two items"
      ],
      "execution_count": null,
      "outputs": []
    },
    {
      "cell_type": "markdown",
      "metadata": {
        "id": "JSCZGPTgJ36M"
      },
      "source": [
        "De modo similar, o \"passo\" pode ser um número negativo:\n"
      ]
    },
    {
      "cell_type": "code",
      "metadata": {
        "id": "0UOABZDSJ36M"
      },
      "source": [
        "a_list[::-1]    # all items in the array, reversed\n",
        "a_list[1::-1]   # the first two items, reversed\n",
        "a_list[:-3:-1]  # the last two items, reversed\n",
        "a_list[-3::-1]  # everything except the last two items, reversed"
      ],
      "execution_count": null,
      "outputs": []
    },
    {
      "cell_type": "markdown",
      "metadata": {
        "id": "yo3q2X7rJ36Q"
      },
      "source": [
        "Método slice():"
      ]
    },
    {
      "cell_type": "code",
      "metadata": {
        "id": "jipg_R5SJ36R",
        "colab": {
          "base_uri": "https://localhost:8080/"
        },
        "outputId": "2cf8a554-b183-4eef-8868-bcc1b1e12086"
      },
      "source": [
        "print(a_list[1:4:2])\n",
        "print(a_list[slice(1, 4, 2)])"
      ],
      "execution_count": 72,
      "outputs": [
        {
          "output_type": "stream",
          "text": [
            "['d', 'f']\n",
            "['d', 'f']\n"
          ],
          "name": "stdout"
        }
      ]
    },
    {
      "cell_type": "markdown",
      "metadata": {
        "id": "Ftpl-Fy9bOm3"
      },
      "source": [
        "Obs.: O fatiamento também funciona com `strings`."
      ]
    },
    {
      "cell_type": "markdown",
      "metadata": {
        "id": "CKBfUaLoJ36U"
      },
      "source": [
        "## Métodos de lista\n",
        "\n",
        "O operador de ponto pode ser usado para acessar métodos internos de objetos de lista. Começaremos com o método mais útil para adicionar algo ao final de uma lista existente, o `append`:"
      ]
    },
    {
      "cell_type": "code",
      "metadata": {
        "id": "mSEk8r7CJ36V",
        "colab": {
          "base_uri": "https://localhost:8080/"
        },
        "outputId": "3d575667-add0-437b-bd13-000365e66a8e"
      },
      "source": [
        "milista=[]\n",
        "\n",
        "milista.append(10)\n",
        "milista.append(25)\n",
        "milista.append(5)\n",
        "milista.append(35)\n",
        "milista.append(30)\n",
        "\n",
        "milista"
      ],
      "execution_count": 73,
      "outputs": [
        {
          "output_type": "execute_result",
          "data": {
            "text/plain": [
              "[10, 25, 5, 35, 30]"
            ]
          },
          "metadata": {
            "tags": []
          },
          "execution_count": 73
        }
      ]
    },
    {
      "cell_type": "markdown",
      "metadata": {
        "id": "BJpFrBQuJ36Y"
      },
      "source": [
        "Este método de lista adiciona o argumento passado para o __final__ da lista. Nós vamos usá-lo frequentemente para  criar novas listas. \n",
        "\n",
        "Outro método bastante utilizado é `extend`, ele toma uma lista como argumento e adiciona todos os elementos:"
      ]
    },
    {
      "cell_type": "code",
      "metadata": {
        "id": "TyJp1D0lbyLf",
        "colab": {
          "base_uri": "https://localhost:8080/"
        },
        "outputId": "d8c2e7ae-0a9c-41a3-81bd-970cbc84f441"
      },
      "source": [
        "lista1 = ['a', 'b', 'c']\n",
        "lista2 = ['d', 'e', 'f']\n",
        "lista1.extend(lista2)\n",
        "lista1"
      ],
      "execution_count": 74,
      "outputs": [
        {
          "output_type": "execute_result",
          "data": {
            "text/plain": [
              "['a', 'b', 'c', 'd', 'e', 'f']"
            ]
          },
          "metadata": {
            "tags": []
          },
          "execution_count": 74
        }
      ]
    },
    {
      "cell_type": "markdown",
      "metadata": {
        "id": "MlDR-8z1c2vj"
      },
      "source": [
        "Também é possível excluir elementos de uma lista de diferentes formas, dependendo do que quer fazer."
      ]
    },
    {
      "cell_type": "code",
      "metadata": {
        "id": "QGi2ggWKc2Et",
        "colab": {
          "base_uri": "https://localhost:8080/"
        },
        "outputId": "fc00bf77-dd74-4ea5-eb9f-742ad5cdf3fd"
      },
      "source": [
        "#caso queira utilizar o elemento excluído, utilize o método pop\n",
        "lista = ['a', 'b', 'c', 'd', 'e', 'f']\n",
        "ele = lista.pop(2)\n",
        "print(lista)\n",
        "print(ele)"
      ],
      "execution_count": 75,
      "outputs": [
        {
          "output_type": "stream",
          "text": [
            "['a', 'b', 'd', 'e', 'f']\n",
            "c\n"
          ],
          "name": "stdout"
        }
      ]
    },
    {
      "cell_type": "code",
      "metadata": {
        "id": "Z_xFNBX1dxET",
        "colab": {
          "base_uri": "https://localhost:8080/"
        },
        "outputId": "febc1346-bd44-4679-a3cb-ea272ab73ba7"
      },
      "source": [
        "#caso não queira utilizar o elemento excluído, utilize a instrução del\n",
        "lista = ['a', 'b', 'c', 'd', 'e', 'f']\n",
        "del lista[2]\n",
        "print(lista)"
      ],
      "execution_count": 76,
      "outputs": [
        {
          "output_type": "stream",
          "text": [
            "['a', 'b', 'd', 'e', 'f']\n"
          ],
          "name": "stdout"
        }
      ]
    },
    {
      "cell_type": "code",
      "metadata": {
        "id": "czrloIUCeV2j",
        "colab": {
          "base_uri": "https://localhost:8080/"
        },
        "outputId": "a4d65fe2-ff0b-4e35-c213-56434e46ba8c"
      },
      "source": [
        "#caso saiba o elemento que quer excluir, mas não o índice, utilize o método remove\n",
        "lista = ['a', 'b', 'c', 'd', 'e', 'f']\n",
        "lista.remove('d')\n",
        "print(lista)"
      ],
      "execution_count": 77,
      "outputs": [
        {
          "output_type": "stream",
          "text": [
            "['a', 'b', 'c', 'e', 'f']\n"
          ],
          "name": "stdout"
        }
      ]
    },
    {
      "cell_type": "markdown",
      "metadata": {
        "id": "QuAg2OjIJ36Y"
      },
      "source": [
        "## Exercício\n",
        "\n",
        "1. Resolução numérica de equações diferenciais. Imagine que tem um/a maratonista treinando, que num trecho de $5 km$ tem velocidade quase constante de $12 km/h$. Produza uma lista distância percorrida em intervalos de 1 minuto. \n",
        "\n",
        "2. O/A mesmo/a atleta no seguinte trecho acelera  por $200$ metros até chegar em $15 km/h$  por $2 km$. Queremos obter uma tabela ou gráfico da distância percorrida en função do tempo e o tempo total para chegar em $7 km$, faça isto utilizando listas. \n",
        "\n",
        "3. Considere um péndulo simples num plano. O comprimento da linha é $1$ metro, a massa é $0,2 kg$ e a aceleração de gravidade $9,8 m/s^2$. Faça um gráfico ou crie uma tabela para a posição em coordenadas cartesianas em função do tempo, utilizando listas.\n",
        "\n",
        "4. (opcional) Pesquise sobre o pacote `numpy` e os objetos desse pacote chamados `array`, tente utilizálos ao invés de listas para resolver os exercícios.\n",
        "\n",
        "Dica: podem usar o pacote `matplotlib.pyplot` para fazer um gráfico:"
      ]
    },
    {
      "cell_type": "code",
      "metadata": {
        "id": "XEkSrUBqJ36Z"
      },
      "source": [
        "import matplotlib.pyplot as plt\n",
        "\n",
        "t=[0,1,2,3,4,5,6,7,8,9,10]\n",
        "x=[0,4.2,8,10,23,30,35,41,44,50,55]\n",
        "\n",
        "plt.plot(t,x)\n",
        "plt.xlabel(\"tempo s\")\n",
        "plt.ylabel(\"distância m\")"
      ],
      "execution_count": null,
      "outputs": []
    }
  ]
}