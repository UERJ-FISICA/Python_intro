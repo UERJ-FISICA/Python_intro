{
 "cells": [
  {
   "cell_type": "markdown",
   "metadata": {},
   "source": [
    "# Classes, Programação Orientada a Objetos e Herança\n",
    "\n",
    "## Classe MeuTempo \n",
    "Como outro exemplo de classe, ou seja um tipo definido pelo usuário, definiremos uma classe chamada MeuTempo que registra a hora do dia. Forneceremos um método `__init__` para garantir que todas as instâncias sejam criadas com atributos e inicialização apropriados. A definição de classe é assim:"
   ]
  },
  {
   "cell_type": "code",
   "execution_count": 1,
   "metadata": {},
   "outputs": [],
   "source": [
    "class  MeuTempo :\n",
    "\n",
    "    def  __init__ ( self ,  hrs = 0 ,  mins = 0 ,  segs = 0 ): \n",
    "        \"\" \"Criar um objeto MeuTempo inicializado para hrs, mins, segs\" \"\" \n",
    "        self.horas  =  hrs \n",
    "        self.minutos  =  mins\n",
    "        self.segundos  =  segs"
   ]
  },
  {
   "cell_type": "markdown",
   "metadata": {},
   "source": [
    "Podemos instanciar um novo objeto MeuTempo :"
   ]
  },
  {
   "cell_type": "code",
   "execution_count": 2,
   "metadata": {},
   "outputs": [
    {
     "name": "stdout",
     "output_type": "stream",
     "text": [
      "<__main__.MeuTempo object at 0x10dec3400>\n",
      "11 : 59 : 30\n"
     ]
    }
   ],
   "source": [
    "tim1  =  MeuTempo ( 11 ,  59 ,  30 )\n",
    "print(tim1)\n",
    "print(tim1.horas,\":\",tim1.minutos,\":\",tim1.segundos)"
   ]
  },
  {
   "cell_type": "markdown",
   "metadata": {},
   "source": [
    "### Exercício:\n",
    " Adicionar um método `__str__` para que os objetos MeuTempo possam se imprimir decentemente.\n",
    "\n",
    "\n",
    "## Funções puras  e modificadores\n",
    "Nas próximas seções, escreveremos duas versões de uma função chamada `add_time` , que calcula a soma de dois objetos de tipo MeuTempo. Elas demonstrarão dois tipos de funções: funções puras e modificadoras.\n",
    "\n",
    "A seguir, uma primeira versão \"rascunho\" do `add_time`:"
   ]
  },
  {
   "cell_type": "code",
   "execution_count": 3,
   "metadata": {},
   "outputs": [],
   "source": [
    "def  add_time ( t1 ,  t2 ): \n",
    "    h  =  t1 . horas  +  t2 . horas \n",
    "    m  =  t1 . minutos  +  t2 . minutos \n",
    "    s  =  t1 . segundos  +  t2 . segundos \n",
    "    sum_t  =  MeuTempo ( h ,  m ,  s ) \n",
    "    return  sum_t"
   ]
  },
  {
   "cell_type": "markdown",
   "metadata": {},
   "source": [
    "A função cria um novo objeto MeuTempo e retorna uma referência ao novo objeto. Isso é chamado de **função pura** porque ***não modifica nenhum dos objetos*** passados como parâmetros e ***não tem efeitos colaterais***, como atualizar variáveis globais, exibir um valor ou obter entrada do usuário."
   ]
  },
  {
   "cell_type": "code",
   "execution_count": 4,
   "metadata": {},
   "outputs": [
    {
     "name": "stdout",
     "output_type": "stream",
     "text": [
      "13 : 25 : 30\n"
     ]
    }
   ],
   "source": [
    "hora_atual  =  MeuTempo ( 12 ,  15 ,  30 ) \n",
    "tempo_bolo =  MeuTempo ( 1 ,  10 ,  0 ) \n",
    "bolo_pronto  =  add_time ( hora_atual ,  tempo_bolo ) \n",
    "print(bolo_pronto.horas,\":\",bolo_pronto.minutos,\":\",bolo_pronto.segundos)"
   ]
  },
  {
   "cell_type": "markdown",
   "metadata": {},
   "source": [
    "A saída deste programa é `13 : 25 : 30` , o que está correto. Por outro lado, há casos em que o resultado não está correto. \n",
    "\n",
    "O problema é que essa função não lida com casos em que o número de segundos ou minutos chega a ***mais de sessenta***. Quando isso acontece, temos que **carregar os segundos extras para a coluna de minutos** ou os minutos extras para a coluna de horas.\n",
    "\n",
    "Uma melhor versão de `add_time` seria:"
   ]
  },
  {
   "cell_type": "code",
   "execution_count": 5,
   "metadata": {},
   "outputs": [],
   "source": [
    "def  add_time ( t1 ,  t2 ): \n",
    "\n",
    "    h  =  t1.horas  +  t2.horas \n",
    "    m  =  t1.minutos  +  t2.minutos \n",
    "    s  =  t1.segundos  +  t2.segundos \n",
    "\n",
    "    if  s  >=  60 : \n",
    "        s  -=  60 \n",
    "        m  +=  1 \n",
    "\n",
    "    if  m  >=  60 : \n",
    "        m  -=  60 \n",
    "        h  +=  1\n",
    "        \n",
    "    sum_t  =  MeuTempo ( h ,  m ,  s ) \n",
    "    return  sum_t"
   ]
  },
  {
   "cell_type": "code",
   "execution_count": 6,
   "metadata": {},
   "outputs": [
    {
     "name": "stdout",
     "output_type": "stream",
     "text": [
      "12 : 5 : 50\n"
     ]
    }
   ],
   "source": [
    "hora_noite=MeuTempo(10,55,50)\n",
    "bp = add_time(hora_noite,tempo_bolo)\n",
    "print(bp.horas,\":\",bp.minutos,\":\",bp.segundos)"
   ]
  },
  {
   "cell_type": "markdown",
   "metadata": {},
   "source": [
    "A função esta ficando maior, e ainda não funciona para todos os casos possíveis."
   ]
  },
  {
   "cell_type": "markdown",
   "metadata": {},
   "source": [
    "## Modificadores \n",
    "Há momentos em que é útil para uma função modificar um ou mais dos objetos que recebe como parâmetros. Normalmente, o chamador mantém uma referência aos objetos que ele passa, portanto, quaisquer alterações feitas pela função são visíveis para o chamador. Funções que funcionam dessa maneira são chamadas de **modificadores**.\n",
    "\n",
    "A função `incremento` , que adiciona um determinado número de segundos a um objeto MeuTempo, seria escrito mais naturalmente como um modificador. Um rascunho da função é assim:"
   ]
  },
  {
   "cell_type": "code",
   "execution_count": 7,
   "metadata": {},
   "outputs": [],
   "source": [
    "def incremento ( t ,  seg ): \n",
    "    t.segundos  +=  seg \n",
    "\n",
    "    if  t.segundos  >=  60 : \n",
    "        t.segundos  -=  60 \n",
    "        t.minutos  +=  1 \n",
    "\n",
    "    if  t.minutos  >=  60 : \n",
    "        t.minutos  -=  60 \n",
    "        t.horas  +=  1"
   ]
  },
  {
   "cell_type": "markdown",
   "metadata": {},
   "source": [
    "A primeira linha executa a operação básica; o restante lida com os casos especiais que vimos antes. Ela não retorna nenhum valor porque as mudanças já estão salvas no objeto que foi passado de parâmetro, que foi modificado pela função.\n",
    "\n",
    "Mas, o que aconteceria se o parâmetro seg for muito maior que sessenta? Nesse caso, não é suficiente carregar uma vez; temos que continuar fazendo até que os segundos tenham menos de sessenta. Uma solução é substituir as instruções `if` por `while` :"
   ]
  },
  {
   "cell_type": "code",
   "execution_count": 8,
   "metadata": {},
   "outputs": [],
   "source": [
    "def  incremento ( t ,  segs ): \n",
    "    t.segundos  +=  segs \n",
    "\n",
    "    while  t.segundos  >=  60 : \n",
    "        t.segundos  -=  60 \n",
    "        t.minutos  +=  1 \n",
    "\n",
    "    while  t.minutos  >=  60 : \n",
    "        t.minutos  -=  60 \n",
    "        t.horas  +=  1"
   ]
  },
  {
   "cell_type": "markdown",
   "metadata": {},
   "source": [
    "Esta função está agora correta quando os segundos não são negativos e quando as horas não excedem 23, mas além disso ainda pode ser melhorada."
   ]
  },
  {
   "cell_type": "code",
   "execution_count": 9,
   "metadata": {},
   "outputs": [
    {
     "name": "stdout",
     "output_type": "stream",
     "text": [
      "13 : 15 : 30\n"
     ]
    }
   ],
   "source": [
    "incremento(hora_atual,3600)\n",
    "print(hora_atual.horas,\":\",hora_atual.minutos,\":\",hora_atual.segundos)"
   ]
  },
  {
   "cell_type": "markdown",
   "metadata": {},
   "source": [
    "## Convertendo incremento em um método\n",
    "\n",
    "Ao programar orientado a objetos,  é preferível colocar funções que trabalham com objetos MeuTempo na classe MeuTempo, então vamos converter a função `incremento` em um método. "
   ]
  },
  {
   "cell_type": "code",
   "execution_count": 10,
   "metadata": {},
   "outputs": [],
   "source": [
    "class  MeuTempo : \n",
    "    def  __init__ ( self ,  hrs = 0 ,  mins = 0 ,  segs = 0 ): \n",
    "        \"\" \"Criar um objeto MeuTempo inicializado para hrs, mins, segs\" \"\" \n",
    "        self.horas  =  hrs \n",
    "        self.minutos  =  mins\n",
    "        self.segundos  =  segs\n",
    "        \n",
    "    # Definições de outros métodos anteriores devem ir aqui ... \n",
    "\n",
    "    def  incremento ( self ,  segs ): \n",
    "        self.segundos  +=  segs \n",
    "\n",
    "        while self.segundos  >=  60 : \n",
    "            self.segundos  -=  60 \n",
    "            self.minutos  +=  1 \n",
    "\n",
    "        while self.minutos  >=  60 : \n",
    "            self.minutos  -=  60 \n",
    "            self.horas  +=  1\n",
    "            "
   ]
  },
  {
   "cell_type": "markdown",
   "metadata": {},
   "source": [
    "Agora podemos invocar o incremento usando a sintaxe para invocar um método. Novamente, o objeto no qual o método é invocado é atribuído ao primeiro parâmetro, `self`. O segundo parâmetro, `segs`, obtém o valor 500."
   ]
  },
  {
   "cell_type": "code",
   "execution_count": 11,
   "metadata": {},
   "outputs": [
    {
     "name": "stdout",
     "output_type": "stream",
     "text": [
      "13 : 18 : 21\n"
     ]
    }
   ],
   "source": [
    "minha_hora=MeuTempo(13,10,1)\n",
    "minha_hora.incremento( 500 ) #incrementar em 500 segundos = 6 minutos e 20 segundos\n",
    "print(minha_hora.horas,\":\",minha_hora.minutos,\":\",minha_hora.segundos)"
   ]
  },
  {
   "cell_type": "markdown",
   "metadata": {},
   "source": [
    "Na OOP, estamos realmente tentando agrupar os dados e as operações que se aplicam a ele. Então, gostaríamos de ter essa lógica dentro da classe MeuTempo. Uma boa solução é reescrever o inicializador de classe para que ele possa lidar com valores iniciais de segundos ou minutos que estão fora dos valores normalizados . (Um tempo normalizado seria algo como 3 horas 12 minutos e 20 segundos. O mesmo tempo, mas não normalizado poderia ser 2 horas e 70 minutos e 140 segundos.)\n",
    "\n",
    "**Ver o exemplo do texto em http://openbookproject.net/thinkcs/python/english3e/even_more_oop.html  seção 21.5, com uma implementação mais \"esperta\" da classe do tempo.**"
   ]
  },
  {
   "cell_type": "markdown",
   "metadata": {},
   "source": [
    "### Outro exemplo de método \n",
    "A função `depois` deve comparar dois tempos, e dizer se o primeiro é estritamente após o segundo. Isso é um pouco mais complicado porque opera em dois objetos MeuTempo, não apenas um. Mas nós preferimos escrevê-lo como um método de qualquer maneira - neste caso, um método no primeiro argumento:\n"
   ]
  },
  {
   "cell_type": "code",
   "execution_count": 12,
   "metadata": {},
   "outputs": [
    {
     "data": {
      "text/plain": [
       "True"
      ]
     },
     "execution_count": 12,
     "metadata": {},
     "output_type": "execute_result"
    }
   ],
   "source": [
    "class  MeuTempo :\n",
    "    def  __init__ ( self ,  hrs = 0 ,  mins = 0 ,  segs = 0 ): \n",
    "        \"\" \"Criar um objeto MeuTempo inicializado para hrs, mins, segs\" \"\" \n",
    "        self.horas  =  hrs \n",
    "        self.minutos  =  mins\n",
    "        self.segundos  =  segs\n",
    "\n",
    "    # Definições de métodos anteriores aqui ... \n",
    "    # bla bla incremento, __str__ etc\n",
    "    \n",
    "    def  depois ( self ,  time2 ): \n",
    "        \"\" \"Retorna True se self for estritamente maior que time2\" \"\" \n",
    "        if  self.horas  >  time2.horas : \n",
    "            return  True \n",
    "        if  self.horas  <  time2.horas : \n",
    "            return  False \n",
    "\n",
    "        if  self.minutos  >  time2.minutos : \n",
    "            return  True \n",
    "        if  self.minutos  <  time2.minutos : \n",
    "            return  False \n",
    "        if  self.segundos  >  time2.segundos : \n",
    "            return  True \n",
    "        return  False\n",
    "    \n",
    "t1  =  MeuTempo ( 10 ,  55 ,  12 ) \n",
    "t2  =  MeuTempo ( 10 ,  48 ,  22 ) \n",
    "t1.depois ( t2 )              # é t1 após t2? "
   ]
  },
  {
   "cell_type": "markdown",
   "metadata": {},
   "source": [
    "## Sobrecarga de operadores\n",
    "Algumas linguagens, incluindo o Python, possibilitam ter diferentes significados para o mesmo operador quando aplicados a diferentes tipos. Por exemplo, `+` em Python significa coisas bem diferentes para números inteiros e para strings. Esse recurso é chamado de ***sobrecarga do operador*** (*operator overloading*).\n",
    "\n",
    "É especialmente útil quando os programadores também podem sobrecarregar os operadores para seus próprios tipos definidos pelo usuário. Por exemplo, para substituir o operador de adição `+` , podemos fornecer um método chamado `__add__`  (*essa é a versão da classe que pode trabalhar com formato não normalizado do tempo, mencionada acima*):"
   ]
  },
  {
   "cell_type": "code",
   "execution_count": 13,
   "metadata": {},
   "outputs": [],
   "source": [
    "class  MeuTempo : \n",
    "    # Métodos previamente definidos aqui ... \n",
    "    def  __init__ ( self ,  hrs = 0 ,  mins = 0 ,  segs = 0 ): \n",
    "        \"\"\" Criar um novo objeto MeuTempo inicializado para hrs, min, segs. \n",
    "           Os valores de mins e segs podem estar fora do intervalo de 0-59, \n",
    "           mas o objecto MeuTempo resultante será normalizado.  \"\"\" \n",
    "        # Calcular total de segundos para representar \n",
    "        self.totalsegs =  hrs * 3600  +  mins * 60  +  segs \n",
    "        self.horas =  self.totalsegs  //  3600         # Divisão em h, m, s \n",
    "        restosegs =  self.totalsegs  %  3600 \n",
    "        self.minutos  =  restosegs  //  60 \n",
    "        self.segundos  =  restosegs  %  60\n",
    "        if self.horas >=24:\n",
    "            self.horas = self.horas%24\n",
    "    def  to_seconds ( self ): \n",
    "        \"\" \"Retorna o número de segundos representados por esta instância \" \"\" \n",
    "        return  self.totalsegs\n",
    "    \n",
    "    def  __add__ ( self ,  other ): \n",
    "        \"\"\" Retorna a soma do tempo atual e outro, para utilizar com o simbolo + \"\"\"\n",
    "        return  MeuTempo ( 0 ,  0 ,  self.to_seconds()  +  other.to_seconds())\n",
    "    \n",
    "    def __str__(self):\n",
    "        \"\"\"Retorna uma representação do objeto como string, legível para humanos.\"\"\"\n",
    "        return '%.2d:%.2d:%.2d' % (self.horas, self.minutos, self.segundos)  "
   ]
  },
  {
   "cell_type": "markdown",
   "metadata": {},
   "source": [
    "Como de costume, o primeiro parâmetro é o objeto no qual o método é invocado. O segundo parâmetro é convenientemente chamado de `other` para distingui-lo do `self` . Para adicionar dois objetos MeuTempo, criamos e retornamos um novo objeto MeuTempo que contém sua soma.\n",
    "\n",
    "Agora, quando aplicamos o operador `+` aos objetos MeuTempo, o Python invoca o método `__add__`:"
   ]
  },
  {
   "cell_type": "code",
   "execution_count": 14,
   "metadata": {},
   "outputs": [
    {
     "name": "stdout",
     "output_type": "stream",
     "text": [
      "01:40:30 12:55:15\n",
      "14:35:45\n",
      "01:40:30 12:55:15\n"
     ]
    }
   ],
   "source": [
    "a=MeuTempo(1,40,30)\n",
    "b=MeuTempo(12,55,15)\n",
    "print(a,b) #os dois tempos iniciais a e b\n",
    "print(a + b) #o resultado da soma \"normalizada\"\n",
    "print(a,b) #os valores de a e b não mudaram!!"
   ]
  },
  {
   "cell_type": "markdown",
   "metadata": {},
   "source": [
    "A expressão `a + b` é equivalente a `a .__ add __ (b)` , mas obviamente mais elegante. \n",
    "#### Exercício: adicione um método `__sub __ (self, other)` que sobrecarrega o operador de subtração e teste-o.\n",
    "\n",
    "Nos próximos exercícios, voltaremos à classe Ponto, definida na aula anterior sobre objetos, e sobrecarregaremos alguns de seus operadores. Em primeiro lugar, adicionar dois pontos adiciona suas respectivas coordenadas (x, y):"
   ]
  },
  {
   "cell_type": "code",
   "execution_count": 15,
   "metadata": {},
   "outputs": [],
   "source": [
    "class  Ponto: \n",
    "    # Métodos previamente definidos aqui ... \n",
    "\n",
    "    def  __add__ ( self ,  other ): \n",
    "        return  Ponto( self.x + other.x , self.y + other.y ) "
   ]
  },
  {
   "cell_type": "markdown",
   "metadata": {},
   "source": [
    "Para sobrecarregar o operador de multiplicação `*` podemos utilizar a definição de produto escalar, na definição de `__mul__`. Aqui se o operando esquerdo de `*` for um ponto , o Python invoca `__mul__` , que assume que o outro operando também é um objeto tipo Ponto, e calcula o produto escalar dos dois pontos, definidos de acordo com as regras da álgebra linear. \n",
    "\n",
    "```python\n",
    "def  __mul__ ( self ,  other ): \n",
    "        return  self.x  *  other.x  +  self.y  *  other.y\n",
    "```\n",
    "Em outro caso, se o operando da esquerda for um número primitivo e o da direita o objeto Ponto, podemos fazer uma multiplicação escalar e sobrecarregar `__rmul__` (***r*** por **right**). O resultado é um novo ponto cujas coordenadas são um múltiplo das coordenadas originais. Se `outro` for de um tipo que não pode ser multiplicado por um número de ponto flutuante, então `__rmul__` produzirá um erro. \n",
    "\n",
    "```python\n",
    "def  __rmul__ ( self ,  other ): \n",
    "    return Ponto( other * self.x , other * self.y ) \n",
    "```\n",
    "\n",
    "Mas esta definição de multiplicação escalar não é comutativa: se tentarmos usar o Ponto a esquerda e o escalar a direita, o Python daria um erro. "
   ]
  },
  {
   "cell_type": "code",
   "execution_count": 16,
   "metadata": {},
   "outputs": [],
   "source": [
    "class  Ponto: \n",
    "    \"\"\" Cria um novo Ponto, com coordenadas x, y \"\"\"\n",
    "\n",
    "    def __init__(self, x=0, y=0):\n",
    "        \"\"\" Inicializa em x, y o novo ponto criado pela classe \"\"\"\n",
    "        self.x = x\n",
    "        self.y = y\n",
    "    def __str__(self):\n",
    "        return \"({0}, {1})\".format(self.x, self.y)\n",
    "    # Métodos previamente definidos aqui ... \n",
    "\n",
    "    def  __add__ ( self ,  other ): \n",
    "        \"\"\" Retorna a soma de dois Pontos (x1+x2, y1+y2)\"\"\"\n",
    "        return  Ponto( self.x + other.x , self.y + other.y ) \n",
    "    \n",
    "    def  __mul__ ( self ,  other ): \n",
    "        \"\"\" Retorna o produto escalar de dois Pontos \"\"\"\n",
    "        return  self.x  *  other.x  +  self.y  *  other.y\n",
    "        \n",
    "    def  __rmul__ ( self ,  other ): \n",
    "        \"\"\" Retorna o resultado da multiplicação escalar s * (x,y) = (s*x, s*y)\"\"\"\n",
    "        return Ponto( other * self.x , other * self.y ) \n",
    "    "
   ]
  },
  {
   "cell_type": "code",
   "execution_count": 17,
   "metadata": {},
   "outputs": [
    {
     "name": "stdout",
     "output_type": "stream",
     "text": [
      "(1.1, 7.5)\n",
      "13.6\n"
     ]
    }
   ],
   "source": [
    "a=Ponto(1,3)\n",
    "b=Ponto(0.1,4.5)\n",
    "c=a+b\n",
    "print(c)\n",
    "d= a*b\n",
    "print(d)"
   ]
  },
  {
   "cell_type": "code",
   "execution_count": 18,
   "metadata": {},
   "outputs": [
    {
     "name": "stdout",
     "output_type": "stream",
     "text": [
      "(2, 6)\n"
     ]
    },
    {
     "ename": "AttributeError",
     "evalue": "'int' object has no attribute 'x'",
     "output_type": "error",
     "traceback": [
      "\u001b[0;31m---------------------------------------------------------------------------\u001b[0m",
      "\u001b[0;31mAttributeError\u001b[0m                            Traceback (most recent call last)",
      "\u001b[0;32m<ipython-input-18-0200b9bed218>\u001b[0m in \u001b[0;36m<module>\u001b[0;34m\u001b[0m\n\u001b[1;32m      2\u001b[0m \u001b[0mprint\u001b[0m\u001b[0;34m(\u001b[0m\u001b[0ma2\u001b[0m\u001b[0;34m)\u001b[0m\u001b[0;34m\u001b[0m\u001b[0m\n\u001b[1;32m      3\u001b[0m \u001b[0;34m\u001b[0m\u001b[0m\n\u001b[0;32m----> 4\u001b[0;31m \u001b[0ma3\u001b[0m \u001b[0;34m=\u001b[0m \u001b[0ma\u001b[0m\u001b[0;34m*\u001b[0m\u001b[0;36m3\u001b[0m\u001b[0;34m\u001b[0m\u001b[0m\n\u001b[0m\u001b[1;32m      5\u001b[0m \u001b[0mprint\u001b[0m\u001b[0;34m(\u001b[0m\u001b[0ma3\u001b[0m\u001b[0;34m)\u001b[0m\u001b[0;34m\u001b[0m\u001b[0m\n",
      "\u001b[0;32m<ipython-input-16-0fd60c7936c6>\u001b[0m in \u001b[0;36m__mul__\u001b[0;34m(self, other)\u001b[0m\n\u001b[1;32m     16\u001b[0m     \u001b[0;32mdef\u001b[0m  \u001b[0m__mul__\u001b[0m \u001b[0;34m(\u001b[0m \u001b[0mself\u001b[0m \u001b[0;34m,\u001b[0m  \u001b[0mother\u001b[0m \u001b[0;34m)\u001b[0m\u001b[0;34m:\u001b[0m\u001b[0;34m\u001b[0m\u001b[0m\n\u001b[1;32m     17\u001b[0m         \u001b[0;34m\"\"\" Retorna o produto escalar de dois Pontos \"\"\"\u001b[0m\u001b[0;34m\u001b[0m\u001b[0m\n\u001b[0;32m---> 18\u001b[0;31m         \u001b[0;32mreturn\u001b[0m  \u001b[0mself\u001b[0m\u001b[0;34m.\u001b[0m\u001b[0mx\u001b[0m  \u001b[0;34m*\u001b[0m  \u001b[0mother\u001b[0m\u001b[0;34m.\u001b[0m\u001b[0mx\u001b[0m  \u001b[0;34m+\u001b[0m  \u001b[0mself\u001b[0m\u001b[0;34m.\u001b[0m\u001b[0my\u001b[0m  \u001b[0;34m*\u001b[0m  \u001b[0mother\u001b[0m\u001b[0;34m.\u001b[0m\u001b[0my\u001b[0m\u001b[0;34m\u001b[0m\u001b[0m\n\u001b[0m\u001b[1;32m     19\u001b[0m \u001b[0;34m\u001b[0m\u001b[0m\n\u001b[1;32m     20\u001b[0m     \u001b[0;32mdef\u001b[0m  \u001b[0m__rmul__\u001b[0m \u001b[0;34m(\u001b[0m \u001b[0mself\u001b[0m \u001b[0;34m,\u001b[0m  \u001b[0mother\u001b[0m \u001b[0;34m)\u001b[0m\u001b[0;34m:\u001b[0m\u001b[0;34m\u001b[0m\u001b[0m\n",
      "\u001b[0;31mAttributeError\u001b[0m: 'int' object has no attribute 'x'"
     ]
    }
   ],
   "source": [
    "a2= 2*a\n",
    "print(a2)\n",
    "\n",
    "a3 = a*3\n",
    "print(a3)"
   ]
  },
  {
   "cell_type": "markdown",
   "metadata": {},
   "source": [
    "Se quisermos uma versão comutativa precisamos checar se o segundo operando é de tipo Ponto, usando a função `isinstance`:"
   ]
  },
  {
   "cell_type": "code",
   "execution_count": 19,
   "metadata": {},
   "outputs": [],
   "source": [
    "class  Ponto: \n",
    "    \"\"\" Cria um novo Ponto, com coordenadas x, y \"\"\"\n",
    "\n",
    "    def __init__(self, x=0, y=0):\n",
    "        \"\"\" Inicializa em x, y o novo ponto criado pela classe \"\"\"\n",
    "        self.x = x\n",
    "        self.y = y\n",
    "    def __str__(self):\n",
    "        return \"({0}, {1})\".format(self.x, self.y)\n",
    "    # Métodos previamente definidos aqui ... \n",
    "\n",
    "    def  __add__ ( self ,  other ): \n",
    "        \"\"\" Retorna a soma de dois Pontos (x1+x2, y1+y2)\"\"\"\n",
    "        return  Ponto( self.x + other.x , self.y + other.y ) \n",
    "    def  __mul__ ( self ,  other ): \n",
    "        \"\"\" Retorna o produto escalar de dois Pontos, ou a multiplicação escalar se for possível.\"\"\"\n",
    "        if isinstance(other,Ponto):\n",
    "            return  self.x  *  other.x  +  self.y  *  other.y\n",
    "        else:\n",
    "            try:\n",
    "                return Ponto(other * self.x , other *  self.y)\n",
    "            except:\n",
    "                return 'nan'\n",
    "    def  __rmul__ ( self ,  other ): \n",
    "        \"\"\" Retorna o resultado da multiplicação escalar s * (x,y) = (s*x, s*y)\"\"\"\n",
    "        return Ponto( other * self.x , other * self.y ) "
   ]
  },
  {
   "cell_type": "code",
   "execution_count": 20,
   "metadata": {},
   "outputs": [
    {
     "name": "stdout",
     "output_type": "stream",
     "text": [
      "(0.30000000000000004, 10.2)\n",
      "(0.30000000000000004, 10.2)\n"
     ]
    }
   ],
   "source": [
    "p0=Ponto(0.1,3.4)\n",
    "p1 = 3*p0\n",
    "print(p1)\n",
    "p2=p0*3\n",
    "print(p2)"
   ]
  },
  {
   "cell_type": "markdown",
   "metadata": {},
   "source": [
    "## Polimorfismo \n",
    "A maioria dos métodos que escrevemos funciona apenas para um tipo específico. Quando criamos um novo objeto, escrevemos métodos que operam nesse tipo.\n",
    "\n",
    "Mas há certas operações que desejaremos aplicar a muitos tipos, como as operações aritméticas nas seções anteriores. Se muitos tipos suportam o mesmo conjunto de operações, podemos escrever funções que funcionem em qualquer um desses tipos.\n",
    "\n",
    "Por exemplo, a operação multadd (que é comum em álgebra linear) leva três parâmetros; multiplica os dois primeiros e adiciona o terceiro. Podemos escrevê-lo em Python assim:"
   ]
  },
  {
   "cell_type": "code",
   "execution_count": 21,
   "metadata": {},
   "outputs": [],
   "source": [
    "def  multadd  ( x ,  y ,  z ): \n",
    "    return  x  *  y  +  z "
   ]
  },
  {
   "cell_type": "markdown",
   "metadata": {},
   "source": [
    "Esta função funcionará para quaisquer valores de x e y que possam ser multiplicados e para qualquer valor de z que possa ser adicionado ao produto.\n",
    "\n",
    "Podemos invocá-lo com valores numéricos ou com Pontos:\n"
   ]
  },
  {
   "cell_type": "code",
   "execution_count": 22,
   "metadata": {},
   "outputs": [
    {
     "name": "stdout",
     "output_type": "stream",
     "text": [
      "7\n",
      "(0.8, 27.2)\n",
      "107.13\n"
     ]
    }
   ],
   "source": [
    "s = multadd  ( 3 ,  2 ,  1 )\n",
    "print(s)\n",
    "s2 = multadd(5,p0,p1)\n",
    "print(s2)\n",
    "s3 = multadd(p2,p1,3)\n",
    "print(s3)"
   ]
  },
  {
   "cell_type": "markdown",
   "metadata": {},
   "source": [
    "No primeiro caso, a função é aplicada em três valores numéricos escalares, o resultado é um número escalar.\n",
    "No segundo caso o  Ponto  `p0` é multiplicado por um escalar e depois adicionado a outro Ponto `p1`. \n",
    "No último caso, o produto escalar de `p2` e `p1`  gera um valor numérico, portanto, o terceiro parâmetro da função também deve ser um valor numérico.\n",
    "\n",
    "Uma função como essa que pode receber argumentos com tipos diferentes é chamada de ***polimórfica***.\n",
    "\n",
    "Como outro exemplo, consideremos agora a função `front_and_back`, que imprime uma lista duas vezes, para frente e para trás:"
   ]
  },
  {
   "cell_type": "code",
   "execution_count": 23,
   "metadata": {},
   "outputs": [],
   "source": [
    "def front_and_back ( frente ): \n",
    "    import  copy \n",
    "    tras  =  copy.copy ( frente ) \n",
    "    tras.reverse()  #metodo reverse proprio das listas\n",
    "    print( str ( frente )  +  str ( tras ) )"
   ]
  },
  {
   "cell_type": "markdown",
   "metadata": {},
   "source": [
    "Como o método reverse é um modificador, é preciso fazer uma cópia da lista antes de inverté-la, para isto chamamos  a função `copy` do módulo `copy` que consegue fazer cópias de objetos. Esta função pode ser usada com qualquer classe que só tenha atributos primitivos (se tiver objetos de outras classes teremos que utilizar a função `deepcopy`).\n",
    "\n",
    "Aplicando esta função a uma lista:"
   ]
  },
  {
   "cell_type": "code",
   "execution_count": 24,
   "metadata": {},
   "outputs": [
    {
     "name": "stdout",
     "output_type": "stream",
     "text": [
      "[1, 2, 3, 4][4, 3, 2, 1]\n"
     ]
    }
   ],
   "source": [
    "minha_lista  =  [ 1 ,  2 ,  3 ,  4 ] \n",
    "front_and_back ( minha_lista ) \n"
   ]
  },
  {
   "cell_type": "markdown",
   "metadata": {},
   "source": [
    "Obviamente, pretendíamos aplicar essa função a listas, portanto, não é de surpreender que funcione. O que seria surpreendente é se pudéssemos aplicá-lo a um objeto da classe Ponto.\n",
    "\n",
    "Para determinar se uma função pode ser aplicada a um novo tipo, aplicamos a regra fundamental de polimorfismo do Python, chamada ***regra de tipagem de pato*** : se todas as operações dentro da função puderem ser aplicadas ao tipo, a função pode ser aplicada ao tipo. As operações na função` front_and_back` incluem copiar , inverter e imprimir. (Nem todas as linguagens de programação definem o polimorfismo dessa maneira. Procure por ***duck typing*** e veja se você consegue descobrir por que ele tem esse nome.)\n",
    "\n",
    "A função `copy` funciona em qualquer objeto, e nós já escrevemos um método `__str__` para objetos do tipo Ponto, então tudo que precisamos é um método `reverse` na classe Ponto :\n"
   ]
  },
  {
   "cell_type": "code",
   "execution_count": 25,
   "metadata": {},
   "outputs": [],
   "source": [
    "class  Ponto: \n",
    "    \"\"\" Cria um novo Ponto, com coordenadas x, y \"\"\"\n",
    "    def __init__(self, x=0, y=0):\n",
    "        \"\"\" Inicializa em x, y o novo ponto criado pela classe \"\"\"\n",
    "        self.x = x\n",
    "        self.y = y\n",
    "    def __str__(self):\n",
    "        return \"({0}, {1})\".format(self.x, self.y)\n",
    "    # outros métodos previamente definidos aqui ... blah blah\n",
    "    \n",
    "    def  reverse ( self ): \n",
    "        \"\"\" Função que inverte as coordenadas do ponto x<->y\"\"\"\n",
    "        ( self.x  ,  self.y )  =  ( self.y ,  self.x ) "
   ]
  },
  {
   "cell_type": "markdown",
   "metadata": {},
   "source": [
    "Então podemos passar Pontos para a função `front_and_back` :"
   ]
  },
  {
   "cell_type": "code",
   "execution_count": 26,
   "metadata": {},
   "outputs": [
    {
     "name": "stdout",
     "output_type": "stream",
     "text": [
      "(45, -70)(-70, 45)\n"
     ]
    }
   ],
   "source": [
    "meu_ponto=Ponto(45,-70)\n",
    "front_and_back(meu_ponto)"
   ]
  },
  {
   "cell_type": "markdown",
   "metadata": {},
   "source": [
    "O polimorfismo mais interessante é o tipo não intencional, onde descobrimos que uma função que já escrevemos pode ser aplicada a um tipo para o qual nunca planejamos."
   ]
  },
  {
   "cell_type": "markdown",
   "metadata": {},
   "source": [
    "## Herança \n",
    "\n",
    "O recurso de linguagem mais frequentemente associado à programação orientada a objetos é a herança. Herança é a capacidade de ***definir uma nova classe que é uma versão modificada de uma classe existente***.\n",
    "\n",
    "A principal vantagem desse recurso é que você pode adicionar novos métodos a uma classe sem modificar a classe existente. É chamado de herança porque a nova classe herda todos os métodos da classe existente. Estendendo essa metáfora, a classe existente é às vezes chamada de classe mãe (ou pai) ou classe **base**. A nova classe pode ser chamada de classe filha ou **subclasse**.\n",
    "\n",
    "A herança é um recurso poderoso. Alguns programas que seriam complicados sem herança podem ser escritos de forma concisa e simples. Além disso, a herança pode facilitar a reutilização de código, já que você pode personalizar o comportamento de classes base sem precisar modificá-las. Em alguns casos, a estrutura de herança reflete a estrutura natural do problema, o que torna o programa mais fácil de entender.\n",
    "\n",
    "Por outro lado, a herança pode dificultar a leitura dos programas. Quando um método é invocado, às vezes não fica claro onde encontrar sua definição. O código relevante pode estar espalhado entre vários módulos. Além disso, muitas das coisas que podem ser feitas usando herança podem ser feitas de maneira elegante (ou mais) sem ela. Se a estrutura natural do problema não se presta à herança, esse estilo de programação pode fazer mais mal do que bem.\n"
   ]
  },
  {
   "cell_type": "code",
   "execution_count": 27,
   "metadata": {},
   "outputs": [],
   "source": [
    "class meuPet:\n",
    "    \"\"\" Classe que representa bichinhos de estimação e seus atributos \"\"\"\n",
    "    def __init__(self,nome=\"fofinha\",idade=0,cor=\"pintado\",sexo =\"menina\", especie=\"\",som=\"\"):\n",
    "        self.nome  = nome\n",
    "        self.idade = idade\n",
    "        self.cor   = cor\n",
    "        self.sexo  = sexo\n",
    "        self.especie = especie\n",
    "        self.som     = som\n",
    "    def __str__(self):\n",
    "        meustr = \"%s é %s de cor %s, tem %d ano(s)\"%(self.nome , self.sexo , self.cor , self.idade)\n",
    "        if self.especie !=\"\":\n",
    "            if self.sexo == \"menino\" :\n",
    "                meustr = meustr + \" e é um %s.\" %(self.especie)\n",
    "            else:\n",
    "                if self.especie[-1]==\"o\":  \n",
    "                    meustr = meustr + \" e é uma %sa.\"%(self.especie[:-1])\n",
    "                else: \n",
    "                    meustr = meustr + \" e é uma %s.\"%(self.especie)\n",
    "        return meustr\n",
    "    def fala(self):\n",
    "        return self.som\n",
    "\n",
    "class cachorro(meuPet):\n",
    "    \"\"\" Classe que representa um cachorrinho, que é um tipo de bichinho de estimação \"\"\"\n",
    "    def __init__(self, nome=\"Frufru\",idade=\"0\",cor=\"castanho\",sexo=\"menina\"):\n",
    "        #Uma forma de chamar o inicializador da classe basse. Nesse caso precisa dar o self nos argumentos\n",
    "        meuPet.__init__(self,nome,idade,cor,sexo,\"cachorro\",\"auau!\") \n",
    "        \n",
    "class gato(meuPet):\n",
    "    \"\"\" Classe que representa um gatinho, que é um outro tipo de bichinho de estimação \"\"\"\n",
    "    def __init__(self, nome=\"Fifi\",idade=\"0\",cor=\"castanho\",sexo=\"menina\"):\n",
    "        #Outra forma de chamar o inicializador da classe basse é chamar a função super(), nesse caso não usamos self\n",
    "        super().__init__(nome,idade,cor,sexo,\"gato\",\"miau!\")\n",
    "        \n",
    "class hamster(meuPet):\n",
    "    \"\"\" Classe que representa um hamster, outro tipo de bichinho de estimação \"\"\"\n",
    "    def __init__(self,nome=\"Hamtaro\",idade=1,cor=\"malhado\",sexo=\"menino\",brinquedo=\"roda\"):\n",
    "        # Se quisermos modificar o init da classe e adicionar  mais atributos ou mudá-los\n",
    "        meuPet.__init__(self)\n",
    "        self.nome  = nome\n",
    "        self.idade = idade\n",
    "        self.cor   = cor\n",
    "        self.sexo  = sexo\n",
    "        self.brinquedo = brinquedo\n",
    "        self.especie = \"hamster\"\n",
    "    \n",
    " \n"
   ]
  },
  {
   "cell_type": "markdown",
   "metadata": {},
   "source": [
    "As classes `cachorro` e `gato` são subclasses de `meuPet`, então os métodos da classe base podem ser utilizados nas subclasses:"
   ]
  },
  {
   "cell_type": "code",
   "execution_count": 28,
   "metadata": {},
   "outputs": [
    {
     "name": "stdout",
     "output_type": "stream",
     "text": [
      "Fruqui é menino de cor branco, tem 2 ano(s) e é um cachorro.\n",
      "Fruqui fala: auau!\n"
     ]
    }
   ],
   "source": [
    "fruqui = cachorro(\"Fruqui\",2,\"branco\",\"menino\")\n",
    "print(fruqui)\n",
    "print(fruqui.nome,\"fala:\", fruqui.fala())"
   ]
  },
  {
   "cell_type": "code",
   "execution_count": 29,
   "metadata": {},
   "outputs": [
    {
     "name": "stdout",
     "output_type": "stream",
     "text": [
      "Bartola é menina de cor preto, tem 4 ano(s) e é uma gata. Fala miau!\n"
     ]
    }
   ],
   "source": [
    "bia = gato (\"Bartola\",4,\"preto\")\n",
    "print(bia, \"Fala\",bia.fala())"
   ]
  },
  {
   "cell_type": "code",
   "execution_count": 30,
   "metadata": {},
   "outputs": [
    {
     "name": "stdout",
     "output_type": "stream",
     "text": [
      "Tarantina é menina de cor preto, tem 1 ano(s) e é uma tarántula.\n"
     ]
    }
   ],
   "source": [
    "quentina = meuPet(\"Tarantina\",1,\"preto\",\"menina\",\"tarántula\")\n",
    "print(quentina)"
   ]
  },
  {
   "cell_type": "code",
   "execution_count": 31,
   "metadata": {},
   "outputs": [
    {
     "name": "stdout",
     "output_type": "stream",
     "text": [
      "Hamtaro é menino de cor malhado, tem 1 ano(s) e é um hamster.\n",
      "\n",
      "Susy é menina de cor malhado, tem 2 ano(s) e é uma hamster.\n"
     ]
    }
   ],
   "source": [
    "hamlet = hamster()\n",
    "print(hamlet)\n",
    "print(hamlet.fala()) # não imprime nada porque o hamster não tem atributo som\n",
    "susy = hamster(nome=\"Susy\",sexo=\"menina\",idade=2)\n",
    "print(susy)"
   ]
  },
  {
   "cell_type": "markdown",
   "metadata": {},
   "source": [
    "##  Exercícios \n",
    "1. Escreva uma função booleana  chamada `entre`  que tome dois objetos MeuTempo, t1 e t2 , como argumentos, e retorne `True` se um terceiro objeto MeuTempo invocado estiver entre os dois tempos. Suponha que o tempo t1 <= t2 , e faça o teste fechado no limite inferior e abra no limite superior, isto é, retorne True se t1 <= obj < t2.\n",
    "\n",
    "1. Transforme a função acima em um método na classe MeuTempo.\n",
    "\n",
    "1. Sobrecarregue o(s) operador(es) necessário(s)  --ver a lista de métodos especiais em https://docs.python.org/3/reference/datamodel.html#special-method-names -- para que, em vez de ter que escrever :\n",
    "```python\n",
    "if t1.depois( t2 ):  \n",
    "     ...\n",
    "```\n",
    "possamos usar o mais conveniente:\n",
    "```python\n",
    "if t1  >  t2 :  \n",
    "     ...\n",
    "```\n",
    "\n",
    "1. Defina um novo tipo de tartaruga, TurtleGTX, que venha com alguns recursos extras: ela pode saltar para uma determinada distância, e tem um odômetro que rastreia até onde a tartaruga viajou desde que saiu da linha de produção. (A classe base tem vários sinônimos como `fd` e `forward` ; `back` , `backward` e `bk` : para este exercício, concentre-se **apenas** em colocar essa funcionalidade no método `forward`.) Pense cuidadosamente sobre como contar a distância se a tartaruga for solicitada a avançar por um valor negativo. (Não gostaríamos de comprar uma tartaruga de segunda mão cuja leitura do odômetro foi falsificada porque seu proprietário anterior a levou para trás ao redor do quarteirão com muita frequência. Tente isso em um carro perto de você e veja se o odômetro do carro conta para cima ou para baixo quando você marcha ré.)\n",
    "\n",
    "1. Depois de percorrer uma distância aleatória, sua tartaruga deve quebrar com um pneu furado. Depois disso, aumente uma exceção sempre que `forward` for chamado. Também forneça um método `trocar_pneu` que possa consertar o pneu furado e eliminar a exceção para a tartaruga continuar seu percorso."
   ]
  },
  {
   "cell_type": "code",
   "execution_count": null,
   "metadata": {},
   "outputs": [],
   "source": []
  }
 ],
 "metadata": {
  "kernelspec": {
   "display_name": "Python 3",
   "language": "python",
   "name": "python3"
  },
  "language_info": {
   "codemirror_mode": {
    "name": "ipython",
    "version": 3
   },
   "file_extension": ".py",
   "mimetype": "text/x-python",
   "name": "python",
   "nbconvert_exporter": "python",
   "pygments_lexer": "ipython3",
   "version": "3.7.0"
  }
 },
 "nbformat": 4,
 "nbformat_minor": 2
}
