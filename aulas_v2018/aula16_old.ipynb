{
 "cells": [
  {
   "cell_type": "markdown",
   "metadata": {},
   "source": [
    "# Classes e Objetos\n",
    "\n",
    "Python é uma linguagem de programação **orientada a objetos**.\n",
    "\n",
    "Até agora, a maioria dos programas foi escrita usando um *paradigma* de **programação procedural**:\n",
    "   * O foco está em escrever funções ou ***procedimentos*** que operam em dados. \n",
    "   \n",
    "Na **programação orientada a objetos**:\n",
    "   * o foco está na criação de objetos que contêm ***dados e funcionalidade*** juntos. \n",
    "   * Normalmente, cada definição de objeto corresponde a algum objeto ou conceito no mundo real, e as funções que operam nesse objeto correspondem às formas pelas quais os objetos do mundo real interagem.\n",
    "\n",
    "\n",
    "## Tipos de dados compostos definidos pelo usuário\n",
    "\n",
    "Até agora, já vimos **classes** como:\n",
    "   * str \n",
    "   * int \n",
    "   * float \n",
    "   * Turtle. \n",
    "   \n",
    "Agora estamos prontos para criar nossa própria **classe** definida pelo usuário: o Ponto.\n",
    "\n",
    "Podemos representar um ponto como o conjunto de suas coordenadas x, y: P(x,y).\n",
    "\n",
    "Com isso, criaremos uma nova **classe** chamada Ponto:"
   ]
  },
  {
   "cell_type": "code",
   "execution_count": 17,
   "metadata": {},
   "outputs": [],
   "source": [
    "class Point:\n",
    "    \"\"\" A classe Ponto representa e manipula as coordenadas x,y . \"\"\"\n",
    "\n",
    "    def __init__(self):\n",
    "        \"\"\" Cria um novo ponto posicionado na origem. \"\"\"\n",
    "        self.x = 0\n",
    "        self.y = 0"
   ]
  },
  {
   "cell_type": "markdown",
   "metadata": {},
   "source": [
    "* As definições de classe podem aparecer em qualquer lugar de um programa, mas geralmente estão próximas do início (após as instruções de importação).\n",
    "\n",
    "A sintaxe de uma **classe**:\n",
    "\n",
    "   * tem um **cabeçalho** que começa com a palavra-chave, **class**, seguido do **nome da classe** e termina com dois pontos. \n",
    "   * Os níveis de **indentação** informam onde a **classe** termina.\n",
    "   * Cada classe deve ter um método com o nome especial __init__. Esse **método inicializador** é chamado automaticamente sempre que uma nova instância do Ponto é criada.\n",
    "      * Ele fornece ao programador a oportunidade de configurar os atributos necessários na nova instância, fornecendo a eles seus valores / valores iniciais. \n",
    "      * O parâmetro **self** é configurado automaticamente para referenciar o objeto recém-criado que precisa ser inicializado.\n",
    "\n",
    "Vamos usar nossa nova classe Ponto:"
   ]
  },
  {
   "cell_type": "code",
   "execution_count": 2,
   "metadata": {},
   "outputs": [
    {
     "name": "stdout",
     "output_type": "stream",
     "text": [
      "0 0 0 0\n"
     ]
    }
   ],
   "source": [
    "p = Point()         # Instanciar um objeto do tipo Ponto\n",
    "q = Point()         # Fazer um segundo objeto do tipo Ponto\n",
    "\n",
    "print(p.x, p.y, q.x, q.y)  # Cada objeto do tipo ponto tem seu próprio x e y "
   ]
  },
  {
   "cell_type": "markdown",
   "metadata": {},
   "source": [
    "**Por que a declaração de print acima retorna valores iguais a 0 ?**\n",
    "\n",
    "Já instanciamos objetos antes, lembram?"
   ]
  },
  {
   "cell_type": "code",
   "execution_count": null,
   "metadata": {},
   "outputs": [],
   "source": [
    "from turtle import Turtle\n",
    "\n",
    "tess = Turtle()     # Instantiar objetos do tipo Turtle\n",
    "alex = Turtle()"
   ]
  },
  {
   "cell_type": "markdown",
   "metadata": {},
   "source": [
    "* As variáveis ***p*** e ***q*** são referências atribuídas a dois novos objetos do tipo Ponto. \n",
    "* Uma função como Turtle ou Ponot que cria uma **nova instância de objeto** é chamada de **construtor**, \n",
    "   * toda classe fornece automaticamente uma função de construtor que é nomeada da mesma forma que a classe. \n",
    "   * Nosso exemplo, a função contrutor é a Ponto()\n",
    "\n",
    "* Pode ser útil pensar em uma classe como uma fábrica para fazer objetos. \n",
    "* A classe em si não é uma instância de um ponto, mas contém o mecanismo para criar instâncias de pontos. \n",
    "* Toda vez que chamamos o construtor, pedimos à fábrica que nos faça um novo objeto. \n",
    "* À medida que o objeto sai da linha de produção, seu método de inicialização é executado para obter o objeto adequadamente configurado com suas configurações padrão de fábrica.\n",
    "\n",
    "* O processo combinado de \"fazer um novo objeto\" e \"obter suas configurações inicializadas com as configurações padrão de fábrica\" é chamado de **instanciação**.\n",
    "\n",
    "## Atributos\n",
    "\n",
    "Você pode atribuir valores a uma instância usando a notação de ponto:"
   ]
  },
  {
   "cell_type": "code",
   "execution_count": 9,
   "metadata": {},
   "outputs": [
    {
     "name": "stdout",
     "output_type": "stream",
     "text": [
      "3 4\n",
      "<class '__main__.Point'>\n"
     ]
    }
   ],
   "source": [
    "p = Point()\n",
    "p.x = 3\n",
    "p.y = 4\n",
    "print(p.x, p.y)\n",
    "print(type(p))"
   ]
  },
  {
   "cell_type": "markdown",
   "metadata": {},
   "source": [
    "A variável p se refere a um objeto do tipo Ponto e contém dois atributos que se referem a números. \n",
    "Acessamos os valores dos atributos com a notação de ponto.\n",
    "\n",
    "## Melhorando nosso inicializador\n",
    "\n",
    "Podemos tornar nossa classe Ponto mais geral, adicionando parâmetros à função _ _init _ _: "
   ]
  },
  {
   "cell_type": "code",
   "execution_count": 11,
   "metadata": {},
   "outputs": [],
   "source": [
    "class Point:\n",
    "    \"\"\" A classe Ponto representa e manipula as coordenadas x,y . \"\"\"\n",
    "\n",
    "    def __init__(self, x=0, y=0):\n",
    "        \"\"\" Inicializa em x, y o novo ponto criado pela classe. \"\"\"\n",
    "        self.x = x\n",
    "        self.y = y"
   ]
  },
  {
   "cell_type": "code",
   "execution_count": 12,
   "metadata": {},
   "outputs": [
    {
     "name": "stdout",
     "output_type": "stream",
     "text": [
      "4 3 0\n"
     ]
    }
   ],
   "source": [
    "p = Point(4, 2)\n",
    "q = Point(6, 3)\n",
    "r = Point()       # r representa a origem (0, 0)\n",
    "print(p.x, q.y, r.x)"
   ]
  },
  {
   "cell_type": "markdown",
   "metadata": {},
   "source": [
    "## Adicionando outros métodos à nossa classe\n",
    "\n",
    "* Criar uma classe como a Ponto traz uma quantidade excepcional de **“poder organizacional”** aos nossos programas e ao nosso pensamento. \n",
    "* Podemos **agrupar as operações** pertinentes a tipos de dados aos quais elas se aplicam, e cada instância da classe pode ter seu próprio estado.\n",
    "\n",
    "Um **método** se comporta como uma função, mas é invocado em uma instância específica: por exemplo, ***tess.right(90)*** \n",
    "\n",
    "* Os métodos são acessados usando notação de ponto.\n",
    "\n",
    "* Vamos adicionar outro método, ***distancia_da_origem***, para ver melhor como os métodos funcionam:"
   ]
  },
  {
   "cell_type": "code",
   "execution_count": 15,
   "metadata": {},
   "outputs": [],
   "source": [
    "class Ponto:\n",
    "    \"\"\" Cria um novo Ponto, com coordenadas x, y \"\"\"\n",
    "\n",
    "    def __init__(self, x=0, y=0):\n",
    "        \"\"\" Inicializa em x, y o novo ponto criado pela classe \"\"\"\n",
    "        self.x = x\n",
    "        self.y = y\n",
    "\n",
    "    def distancia_da_origem(self):\n",
    "        \"\"\" Calcula minha distânica da origem \"\"\"\n",
    "        return ((self.x ** 2) + (self.y ** 2)) ** 0.5"
   ]
  },
  {
   "cell_type": "markdown",
   "metadata": {},
   "source": [
    "Vamos criar algumas instâncias de Ponto, verificar seus atributos e chamar nosso novo método nelas: (Precisamos executar nosso programa primeiro para disponibilizar nossa classe Point ao intérprete.)"
   ]
  },
  {
   "cell_type": "code",
   "execution_count": 16,
   "metadata": {},
   "outputs": [
    {
     "name": "stdout",
     "output_type": "stream",
     "text": [
      "3\n",
      "4\n",
      "5.0\n",
      "5\n",
      "12\n",
      "13.0\n",
      "0\n",
      "0\n",
      "0.0\n"
     ]
    }
   ],
   "source": [
    "p = Ponto(3, 4)                   # instanciando um objeto do tipo Ponto\n",
    "print(p.x)                        # acessando seus atributos\n",
    "print(p.y)\n",
    "print(p.distancia_da_origem())    # distância da origem\n",
    "q = Ponto(5, 12)\n",
    "print(q.x)\n",
    "print(q.y)\n",
    "print(q.distancia_da_origem())\n",
    "r = Ponto()\n",
    "print(r.x)\n",
    "print(r.y)\n",
    "print(r.distancia_da_origem())"
   ]
  },
  {
   "cell_type": "markdown",
   "metadata": {},
   "source": [
    "* Ao definir um método, **o primeiro parâmetro refere-se à instância sendo manipulada**. Como já foi dito, costuma-se nomear este parâmetro **self**.\n",
    "\n",
    "Observe que o chamador de ***distance_from_origin*** não fornece explicitamente um argumento para corresponder ao parâmetro ***self** - isso é feito para nós, pelo interpretador.\n",
    "\n",
    "## Instâncias como argumentos e parâmetros\n",
    "\n",
    "Podemos passar um objeto como um argumento da maneira usual.\n",
    "\n",
    "**Porém**, é importante saber que essa variável só contém uma **referência a um objeto**, portanto, passar um objeto para uma função cria um **alias**: o chamador e a função chamada agora têm uma referência, mas existe apenas um objeto!\n",
    "\n",
    "Aqui está uma função simples envolvendo nossos novos objetos Ponto:"
   ]
  },
  {
   "cell_type": "code",
   "execution_count": 18,
   "metadata": {},
   "outputs": [],
   "source": [
    "def print_point(pt):\n",
    "    print(\"({0}, {1})\".format(pt.x, pt.y))"
   ]
  },
  {
   "cell_type": "code",
   "execution_count": 19,
   "metadata": {},
   "outputs": [
    {
     "name": "stdout",
     "output_type": "stream",
     "text": [
      "(2, 2)\n"
     ]
    }
   ],
   "source": [
    "print_point(Ponto(2,2))"
   ]
  },
  {
   "cell_type": "markdown",
   "metadata": {},
   "source": [
    "## Instâncias como valores de retorno\n",
    "\n",
    "Funções e métodos podem retornar instâncias. \n",
    "\n",
    "Por exemplo, dado dois objetos Ponto, encontre seu ponto médio. Primeiro, vamos escrever isso como uma função normal:"
   ]
  },
  {
   "cell_type": "code",
   "execution_count": 20,
   "metadata": {},
   "outputs": [],
   "source": [
    "def ponto_medio(p1, p2):\n",
    "    \"\"\" Retorna o ponto médio dos pontos p1 e p2 \"\"\"\n",
    "    mx = (p1.x + p2.x)/2\n",
    "    my = (p1.y + p2.y)/2\n",
    "    return Ponto(mx, my)"
   ]
  },
  {
   "cell_type": "markdown",
   "metadata": {},
   "source": [
    "A função cria e retorna um novo objeto Ponto:"
   ]
  },
  {
   "cell_type": "code",
   "execution_count": 24,
   "metadata": {},
   "outputs": [
    {
     "name": "stdout",
     "output_type": "stream",
     "text": [
      "<__main__.Ponto object at 0x108022358>\n"
     ]
    }
   ],
   "source": [
    "p = Ponto(3, 4)\n",
    "q = Ponto(5, 12)\n",
    "r = ponto_medio(p, q)\n",
    "print(r)"
   ]
  },
  {
   "cell_type": "markdown",
   "metadata": {},
   "source": [
    "Agora vamos refazer isso como um **método** da classe Ponto. \n",
    "\n",
    "Suponha que tenhamos um objeto pontual e desejamos encontrar o ponto intermediário entre ele e algum outro ponto alvo:"
   ]
  },
  {
   "cell_type": "code",
   "execution_count": 25,
   "metadata": {},
   "outputs": [],
   "source": [
    "class Ponto:\n",
    "    \"\"\" Cria um novo Ponto, com coordenadas x, y \"\"\"\n",
    "\n",
    "    def __init__(self, x=0, y=0):\n",
    "        \"\"\" Inicializa em x, y o novo ponto criado pela classe \"\"\"\n",
    "        self.x = x\n",
    "        self.y = y\n",
    "\n",
    "    def distancia_da_origem(self):\n",
    "        \"\"\" Calcula minha distânica da origem \"\"\"\n",
    "        return ((self.x ** 2) + (self.y ** 2)) ** 0.5\n",
    "    \n",
    "    def ponto_medio(self, alvo):\n",
    "        \"\"\" Retorna o ponto medio entre esse ponto e o alvo \"\"\"\n",
    "        mx = (self.x + alvo.x)/2\n",
    "        my = (self.y + alvo.y)/2\n",
    "        return Ponto(mx, my)"
   ]
  },
  {
   "cell_type": "code",
   "execution_count": 27,
   "metadata": {},
   "outputs": [
    {
     "name": "stdout",
     "output_type": "stream",
     "text": [
      "<__main__.Ponto object at 0x107fa5b38>\n"
     ]
    }
   ],
   "source": [
    "p = Ponto(3, 4)\n",
    "q = Ponto(5, 12)\n",
    "r = p.ponto_medio(q)\n",
    "print(r)"
   ]
  },
  {
   "cell_type": "markdown",
   "metadata": {},
   "source": [
    "Embora este exemplo atribua cada ponto a uma variável, isso não é necessário. \n",
    "\n",
    "Assim como as chamadas de função são **compostas**, **chamadas de método e instanciação de objetos também são compostas**, levando a essa alternativa que não usa variáveis:"
   ]
  },
  {
   "cell_type": "code",
   "execution_count": 28,
   "metadata": {},
   "outputs": [
    {
     "name": "stdout",
     "output_type": "stream",
     "text": [
      "<__main__.Ponto object at 0x107fa5a20>\n"
     ]
    }
   ],
   "source": [
    "print(Ponto(3,4).ponto_medio(Ponto(5,12)))"
   ]
  },
  {
   "cell_type": "markdown",
   "metadata": {},
   "source": [
    "O método print acima, imprime na tela o endereço da referência ao objeto. Se conseguirmos um método de conversão de instância para string, poderemos imprimir na tela os atributos do objeto do tipo Ponto.\n",
    "\n",
    "## Convertendo uma instância em uma string\n",
    "\n",
    "É uma boa abordagem ter um método para que cada instância possa produzir uma representação de string de si mesmo. \n",
    "\n",
    "Vamos chamá-lo inicialmente de ***para_string***:"
   ]
  },
  {
   "cell_type": "code",
   "execution_count": 1,
   "metadata": {},
   "outputs": [],
   "source": [
    "class Ponto:\n",
    "    \"\"\" Cria um novo Ponto, com coordenadas x, y \"\"\"\n",
    "\n",
    "    def __init__(self, x=0, y=0):\n",
    "        \"\"\" Inicializa em x, y o novo ponto criado pela classe \"\"\"\n",
    "        self.x = x\n",
    "        self.y = y\n",
    "\n",
    "    def distancia_da_origem(self):\n",
    "        \"\"\" Calcula minha distânica da origem \"\"\"\n",
    "        return ((self.x ** 2) + (self.y ** 2)) ** 0.5\n",
    "    \n",
    "    def ponto_medio(self, alvo):\n",
    "        \"\"\" Retorna o ponto medio entre esse ponto e o alvo \"\"\"\n",
    "        mx = (self.x + alvo.x)/2\n",
    "        my = (self.y + alvo.y)/2\n",
    "        return Ponto(mx, my)\n",
    "    \n",
    "    def para_string(self):\n",
    "        return \"({0}, {1})\".format(self.x, self.y)"
   ]
  },
  {
   "cell_type": "code",
   "execution_count": 2,
   "metadata": {},
   "outputs": [
    {
     "name": "stdout",
     "output_type": "stream",
     "text": [
      "(3, 4)\n"
     ]
    }
   ],
   "source": [
    "p = Ponto(3, 4)\n",
    "print(p.para_string())"
   ]
  },
  {
   "cell_type": "markdown",
   "metadata": {},
   "source": [
    "* Mas já não existe em Python um conversor de tipos ***str*** que transforma nosso objeto em uma string? **Sim!** \n",
    "* E a função ***print*** já não usa isso automaticamente ao imprimir na tela? **Sim!!!!** \n",
    "\n",
    "\n",
    "Mas esses mecanismos automáticos ainda não fazem exatamente o que queremos:"
   ]
  },
  {
   "cell_type": "code",
   "execution_count": 31,
   "metadata": {},
   "outputs": [
    {
     "name": "stdout",
     "output_type": "stream",
     "text": [
      "<__main__.Ponto object at 0x108036ef0>\n"
     ]
    },
    {
     "data": {
      "text/plain": [
       "'<__main__.Ponto object at 0x108036ef0>'"
      ]
     },
     "execution_count": 31,
     "metadata": {},
     "output_type": "execute_result"
    }
   ],
   "source": [
    "print(p)\n",
    "str(p)"
   ]
  },
  {
   "cell_type": "markdown",
   "metadata": {},
   "source": [
    "O Python tem um excelente truque para resolver esse problema!\n",
    "\n",
    "Se substituirmos o nome do nosso método ***para_string*** por _ _ str _ _ , o interpretador de Python saberá automaticamente quando converter a instância Ponto para uma string. Considere isso uma **característica** do Python. :-)"
   ]
  },
  {
   "cell_type": "code",
   "execution_count": 40,
   "metadata": {},
   "outputs": [],
   "source": [
    "class Ponto:\n",
    "    \"\"\" Cria um novo Ponto, com coordenadas x, y \"\"\"\n",
    "\n",
    "    def __init__(self, x=0, y=0):\n",
    "        \"\"\" Inicializa em x, y o novo ponto criado pela classe \"\"\"\n",
    "        self.x = x\n",
    "        self.y = y\n",
    "\n",
    "    def distancia_da_origem(self):\n",
    "        \"\"\" Calcula minha distânica da origem \"\"\"\n",
    "        return ((self.x ** 2) + (self.y ** 2)) ** 0.5\n",
    "    \n",
    "    def ponto_medio(self, alvo):\n",
    "        \"\"\" Retorna o ponto medio entre esse ponto e o alvo \"\"\"\n",
    "        mx = (self.x + alvo.x)/2\n",
    "        my = (self.y + alvo.y)/2\n",
    "        return Ponto(mx, my)\n",
    "    \n",
    "    def __str__(self):\n",
    "        return \"({0}, {1})\".format(self.x, self.y)"
   ]
  },
  {
   "cell_type": "code",
   "execution_count": 41,
   "metadata": {},
   "outputs": [
    {
     "name": "stdout",
     "output_type": "stream",
     "text": [
      "(2, 2)\n"
     ]
    },
    {
     "data": {
      "text/plain": [
       "'(2, 2)'"
      ]
     },
     "execution_count": 41,
     "metadata": {},
     "output_type": "execute_result"
    }
   ],
   "source": [
    "print(Ponto(2,2))\n",
    "str(Ponto(2,2))"
   ]
  },
  {
   "cell_type": "markdown",
   "metadata": {},
   "source": [
    "Voltando à nossa função ***ponto_medio***:"
   ]
  },
  {
   "cell_type": "code",
   "execution_count": 42,
   "metadata": {},
   "outputs": [
    {
     "name": "stdout",
     "output_type": "stream",
     "text": [
      "(4.0, 8.0)\n"
     ]
    }
   ],
   "source": [
    "print(Ponto(3,4).ponto_medio(Ponto(5,12)))"
   ]
  },
  {
   "cell_type": "markdown",
   "metadata": {},
   "source": [
    "## Exercícios:\n",
    "\n",
    "1) Escreva uma função que calcula a distância entre dois pontos, usando a classe Ponto que fizemos nessa aula.\n",
    "\n",
    "2) Adicione um método reflexao_x à classe Ponto que retorna uma instância de Ponto, que é o reflexo do Ponto sobre o eixo x. Por exemplo, Point (3, 5) .reflexao_x () é (3, -5)\n",
    "\n",
    "3) Adicione um método ***inclinacao_da_origem*** à classe Ponto, que retorne a inclinação da linha que une a origem ao Ponto. Por exemplo,"
   ]
  },
  {
   "cell_type": "code",
   "execution_count": 8,
   "metadata": {},
   "outputs": [
    {
     "data": {
      "text/plain": [
       "2.5"
      ]
     },
     "execution_count": 8,
     "metadata": {},
     "output_type": "execute_result"
    }
   ],
   "source": [
    "from Ponto import *\n",
    "Ponto(4, 10).inclinacao_origem()\n",
    "2.5"
   ]
  },
  {
   "cell_type": "markdown",
   "metadata": {},
   "source": [
    "O que pode dar errado com esse programa?\n",
    "\n",
    "4) A equação de uma linha reta é “y = ax + b”. Os coeficientes a e b descrevem completamente a linha. Escreva um método na classe Ponto para que, se uma instância Ponto receber outro Ponto, calcule a equação da linha reta que une os dois pontos. Deve retornar os dois coeficientes como uma tupla de dois valores. Por exemplo,"
   ]
  },
  {
   "cell_type": "code",
   "execution_count": 1,
   "metadata": {},
   "outputs": [
    {
     "name": "stdout",
     "output_type": "stream",
     "text": [
      "(2.0, 3.0)\n"
     ]
    }
   ],
   "source": [
    "from Ponto import *\n",
    "print(Ponto(4,11).parametros_reta(Ponto(6,15)))"
   ]
  },
  {
   "cell_type": "markdown",
   "metadata": {},
   "source": [
    "O resultado acima nos diz que a equação da reta é y = 2x + 3. Quando esse método falha?"
   ]
  },
  {
   "cell_type": "code",
   "execution_count": null,
   "metadata": {},
   "outputs": [],
   "source": []
  }
 ],
 "metadata": {
  "kernelspec": {
   "display_name": "Python 3",
   "language": "python",
   "name": "python3"
  },
  "language_info": {
   "codemirror_mode": {
    "name": "ipython",
    "version": 3
   },
   "file_extension": ".py",
   "mimetype": "text/x-python",
   "name": "python",
   "nbconvert_exporter": "python",
   "pygments_lexer": "ipython3",
   "version": "3.7.0"
  }
 },
 "nbformat": 4,
 "nbformat_minor": 2
}
