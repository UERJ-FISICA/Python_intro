{
 "cells": [
  {
   "cell_type": "markdown",
   "metadata": {},
   "source": [
    "# Dicionários\n",
    "\n",
    "Todos os tipos de **dados compostos** (***compounds***) que estudamos em detalhes até agora - strings, listas - são **tipos de sequência**, que usam inteiros como índices para acessar os valores que contêm dentro deles.\n",
    "\n",
    "Os **dicionários** são outro tipo de composto. Eles são o **tipo de mapeamento** integrado do Python. Eles mapeiam **chaves** (**keys**), que podem ser de qualquer **tipo imutável**, para valores, que podem ser de qualquer tipo (heterogêneos), assim como os elementos de uma lista ou tupla. \n",
    "\n",
    "\n",
    "**dicionários: chave -> valor**"
   ]
  },
  {
   "cell_type": "code",
   "execution_count": 3,
   "metadata": {},
   "outputs": [
    {
     "name": "stdout",
     "output_type": "stream",
     "text": [
      "{'one': 'um', 'two': 'dois', 'three': 'tres'}\n"
     ]
    }
   ],
   "source": [
    "tradutor = {}                # atribuição de criação de um dicionário vazio\n",
    "tradutor[\"one\"] = \"um\"       # atribuição do par key:value\n",
    "tradutor[\"two\"] = \"dois\"\n",
    "tradutor[\"three\"] = \"tres\"\n",
    "print(tradutor)"
   ]
  },
  {
   "cell_type": "markdown",
   "metadata": {},
   "source": [
    "Os pares de ***key:valor*** do dicionário são separados por vírgulas. Cada par contém uma ***key*** e um valor separados por dois pontos."
   ]
  },
  {
   "cell_type": "code",
   "execution_count": 18,
   "metadata": {},
   "outputs": [
    {
     "name": "stdout",
     "output_type": "stream",
     "text": [
      "{'maçãs': 430, 'bananas': 312, 'laranjas': 525, 'peras': 217, 'goiabas': 88, 'figos': 108, 'jambos': 249}\n"
     ]
    }
   ],
   "source": [
    "frutas = {\"maçãs\": 430, \"bananas\": 312, \"laranjas\": 525, \"peras\": 217, \"goiabas\": 88, \"figos\": 108, \"jambos\": 249}\n",
    "print (frutas)"
   ]
  },
  {
   "cell_type": "markdown",
   "metadata": {},
   "source": [
    "**Dicionários não são ordenados!!!!**"
   ]
  },
  {
   "cell_type": "code",
   "execution_count": 23,
   "metadata": {},
   "outputs": [
    {
     "name": "stdout",
     "output_type": "stream",
     "text": [
      "{0: 'valor0', 1: 'valor1', 2: 'valor2', 3: 'valor3', 4: 'valor4', 5: 'valor5', 6: 'valor6', 7: 'valor7', 8: 'valor8', 9: 'valor9', 10: 'valor10', 11: 'valor11', 12: 'valor12', 13: 'valor13', 14: 'valor14', 15: 'valor15', 16: 'valor16', 17: 'valor17', 18: 'valor18', 19: 'valor19', 20: 'valor20', 21: 'valor21', 22: 'valor22', 23: 'valor23', 24: 'valor24', 25: 'valor25', 26: 'valor26', 27: 'valor27', 28: 'valor28', 29: 'valor29', 30: 'valor30', 31: 'valor31', 32: 'valor32', 33: 'valor33', 34: 'valor34', 35: 'valor35', 36: 'valor36', 37: 'valor37', 38: 'valor38', 39: 'valor39', 40: 'valor40', 41: 'valor41', 42: 'valor42', 43: 'valor43', 44: 'valor44', 45: 'valor45', 46: 'valor46', 47: 'valor47', 48: 'valor48', 49: 'valor49', 50: 'valor50', 51: 'valor51', 52: 'valor52', 53: 'valor53', 54: 'valor54', 55: 'valor55', 56: 'valor56', 57: 'valor57', 58: 'valor58', 59: 'valor59', 60: 'valor60', 61: 'valor61', 62: 'valor62', 63: 'valor63', 64: 'valor64', 65: 'valor65', 66: 'valor66', 67: 'valor67', 68: 'valor68', 69: 'valor69', 70: 'valor70', 71: 'valor71', 72: 'valor72', 73: 'valor73', 74: 'valor74', 75: 'valor75', 76: 'valor76', 77: 'valor77', 78: 'valor78', 79: 'valor79', 80: 'valor80', 81: 'valor81', 82: 'valor82', 83: 'valor83', 84: 'valor84', 85: 'valor85', 86: 'valor86', 87: 'valor87', 88: 'valor88', 89: 'valor89', 90: 'valor90', 91: 'valor91', 92: 'valor92', 93: 'valor93', 94: 'valor94', 95: 'valor95', 96: 'valor96', 97: 'valor97', 98: 'valor98', 99: 'valor99', 100: 'valor100', 101: 'valor101', 102: 'valor102', 103: 'valor103', 104: 'valor104', 105: 'valor105', 106: 'valor106', 107: 'valor107', 108: 'valor108', 109: 'valor109', 110: 'valor110', 111: 'valor111', 112: 'valor112', 113: 'valor113', 114: 'valor114', 115: 'valor115', 116: 'valor116', 117: 'valor117', 118: 'valor118', 119: 'valor119', 120: 'valor120', 121: 'valor121', 122: 'valor122', 123: 'valor123', 124: 'valor124', 125: 'valor125', 126: 'valor126', 127: 'valor127', 128: 'valor128', 129: 'valor129', 130: 'valor130', 131: 'valor131', 132: 'valor132', 133: 'valor133', 134: 'valor134', 135: 'valor135', 136: 'valor136', 137: 'valor137', 138: 'valor138', 139: 'valor139', 140: 'valor140', 141: 'valor141', 142: 'valor142', 143: 'valor143', 144: 'valor144', 145: 'valor145', 146: 'valor146', 147: 'valor147', 148: 'valor148', 149: 'valor149', 150: 'valor150', 151: 'valor151', 152: 'valor152', 153: 'valor153', 154: 'valor154', 155: 'valor155', 156: 'valor156', 157: 'valor157', 158: 'valor158', 159: 'valor159', 160: 'valor160', 161: 'valor161', 162: 'valor162', 163: 'valor163', 164: 'valor164', 165: 'valor165', 166: 'valor166', 167: 'valor167', 168: 'valor168', 169: 'valor169', 170: 'valor170', 171: 'valor171', 172: 'valor172', 173: 'valor173', 174: 'valor174', 175: 'valor175', 176: 'valor176', 177: 'valor177', 178: 'valor178', 179: 'valor179', 180: 'valor180', 181: 'valor181', 182: 'valor182', 183: 'valor183', 184: 'valor184', 185: 'valor185', 186: 'valor186', 187: 'valor187', 188: 'valor188', 189: 'valor189', 190: 'valor190', 191: 'valor191', 192: 'valor192', 193: 'valor193', 194: 'valor194', 195: 'valor195', 196: 'valor196', 197: 'valor197', 198: 'valor198', 199: 'valor199'}\n"
     ]
    }
   ],
   "source": [
    "dict = {}\n",
    "for i in range(200):\n",
    "    dict[i] = \"valor\" + str(i)\n",
    "print (dict)"
   ]
  },
  {
   "cell_type": "code",
   "execution_count": 24,
   "metadata": {},
   "outputs": [
    {
     "name": "stdout",
     "output_type": "stream",
     "text": [
      "valor48\n"
     ]
    }
   ],
   "source": [
    "print(dict[48])"
   ]
  },
  {
   "cell_type": "code",
   "execution_count": 25,
   "metadata": {},
   "outputs": [
    {
     "name": "stdout",
     "output_type": "stream",
     "text": [
      "dois\n"
     ]
    }
   ],
   "source": [
    "print(tradutor[\"two\"])"
   ]
  },
  {
   "cell_type": "markdown",
   "metadata": {},
   "source": [
    "**Até agora, os tipos de dados que tínhamos visto, eram sequências, como listas e strings. Porém os dicionários não são sequências, sendo assim não podemos indexá-los."
   ]
  },
  {
   "cell_type": "markdown",
   "metadata": {},
   "source": [
    "## Operações com dicionários\n",
    "\n",
    "A instrução ***del*** retira um par key:valor de um dicionário. Por exemplo, o dicionário a seguir contém os nomes de várias frutas e o número de cada fruta em estoque:"
   ]
  },
  {
   "cell_type": "code",
   "execution_count": 26,
   "metadata": {},
   "outputs": [
    {
     "name": "stdout",
     "output_type": "stream",
     "text": [
      "{'maçãs': 430, 'bananas': 312, 'laranjas': 525, 'peras': 217, 'goiabas': 88, 'figos': 108, 'jambos': 249}\n"
     ]
    }
   ],
   "source": [
    "frutas = {\"maçãs\": 430, \"bananas\": 312, \"laranjas\": 525, \"peras\": 217, \"goiabas\": 88, \"figos\": 108, \"jambos\": 249}\n",
    "print(frutas)"
   ]
  },
  {
   "cell_type": "code",
   "execution_count": 27,
   "metadata": {},
   "outputs": [
    {
     "name": "stdout",
     "output_type": "stream",
     "text": [
      "{'maçãs': 430, 'bananas': 312, 'laranjas': 525, 'goiabas': 88, 'figos': 108, 'jambos': 249}\n"
     ]
    }
   ],
   "source": [
    "del frutas[\"peras\"]\n",
    "print(frutas)"
   ]
  },
  {
   "cell_type": "code",
   "execution_count": 28,
   "metadata": {},
   "outputs": [
    {
     "name": "stdout",
     "output_type": "stream",
     "text": [
      "{'maçãs': 430, 'bananas': 312, 'laranjas': 525, 'goiabas': 88, 'figos': 108, 'jambos': 249, 'peras': 0}\n"
     ]
    }
   ],
   "source": [
    "frutas[\"peras\"] = 0\n",
    "print(frutas)"
   ]
  },
  {
   "cell_type": "code",
   "execution_count": 29,
   "metadata": {},
   "outputs": [
    {
     "data": {
      "text/plain": [
       "7"
      ]
     },
     "execution_count": 29,
     "metadata": {},
     "output_type": "execute_result"
    }
   ],
   "source": [
    "len(frutas)  #a função len também funciona com dicionários"
   ]
  },
  {
   "cell_type": "markdown",
   "metadata": {},
   "source": [
    "## Métodos de dicionários\n",
    "\n",
    "Dicionários têm vários métodos úteis.\n",
    "\n",
    "Podemos visualizar as ***keys*** de um dado dicionário:"
   ]
  },
  {
   "cell_type": "code",
   "execution_count": 30,
   "metadata": {},
   "outputs": [
    {
     "data": {
      "text/plain": [
       "dict_keys(['maçãs', 'bananas', 'laranjas', 'goiabas', 'figos', 'jambos', 'peras'])"
      ]
     },
     "execution_count": 30,
     "metadata": {},
     "output_type": "execute_result"
    }
   ],
   "source": [
    "frutas.keys()"
   ]
  },
  {
   "cell_type": "code",
   "execution_count": 41,
   "metadata": {},
   "outputs": [
    {
     "name": "stdout",
     "output_type": "stream",
     "text": [
      "maçãs  =  430\n",
      "bananas  =  312\n",
      "laranjas  =  525\n",
      "goiabas  =  88\n",
      "figos  =  108\n",
      "jambos  =  249\n",
      "peras  =  0\n"
     ]
    }
   ],
   "source": [
    "for fruta in frutas.keys():\n",
    "    print(fruta, ' = ', frutas[fruta])"
   ]
  },
  {
   "cell_type": "code",
   "execution_count": 35,
   "metadata": {},
   "outputs": [
    {
     "name": "stdout",
     "output_type": "stream",
     "text": [
      "{'maçãs': 430, 'bananas': 312, 'laranjas': 525, 'goiabas': 88, 'figos': 108, 'jambos': 249, 'peras': 0}\n"
     ]
    }
   ],
   "source": [
    "print(frutas)"
   ]
  },
  {
   "cell_type": "code",
   "execution_count": 38,
   "metadata": {},
   "outputs": [
    {
     "name": "stdout",
     "output_type": "stream",
     "text": [
      "['maçãs', 'bananas', 'laranjas', 'goiabas', 'figos', 'jambos', 'peras']\n"
     ]
    }
   ],
   "source": [
    "lista_frutas = list(frutas.keys())\n",
    "print(lista_frutas)"
   ]
  },
  {
   "cell_type": "markdown",
   "metadata": {},
   "source": [
    "É tão comum iterar sobre as ***keys*** de um dicionário que podemos omitir a chamada do método de ***keys*** no loop ***for***\n",
    "   * **iterar sobre um dicionário itera implicitamente sobre suas chaves:**"
   ]
  },
  {
   "cell_type": "code",
   "execution_count": 39,
   "metadata": {},
   "outputs": [
    {
     "name": "stdout",
     "output_type": "stream",
     "text": [
      "maçãs 430\n",
      "bananas 312\n",
      "laranjas 525\n",
      "goiabas 88\n",
      "figos 108\n",
      "jambos 249\n",
      "peras 0\n"
     ]
    }
   ],
   "source": [
    "for fruta in frutas:\n",
    "    print(fruta, frutas[fruta])"
   ]
  },
  {
   "cell_type": "code",
   "execution_count": 45,
   "metadata": {},
   "outputs": [
    {
     "name": "stdout",
     "output_type": "stream",
     "text": [
      "['maçãs', 'bananas', 'laranjas', 'goiabas', 'figos', 'jambos', 'peras']\n"
     ]
    }
   ],
   "source": [
    "keys_frutas = [fruta for fruta in frutas] # list comprehension\n",
    "print(keys_frutas)"
   ]
  },
  {
   "cell_type": "code",
   "execution_count": 47,
   "metadata": {},
   "outputs": [
    {
     "name": "stdout",
     "output_type": "stream",
     "text": [
      "[430, 312, 525, 88, 108, 249, 0]\n"
     ]
    }
   ],
   "source": [
    "valores_frutas = [frutas[fruta] for fruta in frutas]\n",
    "print(valores_frutas)"
   ]
  },
  {
   "cell_type": "markdown",
   "metadata": {},
   "source": [
    "O método **values** nos possibilita acessar diretamente os valores do dicionário:"
   ]
  },
  {
   "cell_type": "code",
   "execution_count": 49,
   "metadata": {},
   "outputs": [
    {
     "name": "stdout",
     "output_type": "stream",
     "text": [
      "[430, 312, 525, 88, 108, 249, 0]\n"
     ]
    }
   ],
   "source": [
    "valores = list(frutas.values())\n",
    "print(valores)"
   ]
  },
  {
   "cell_type": "markdown",
   "metadata": {},
   "source": [
    "O método ***items*** retorna uma tupla para cada cada par (***key:valor***):"
   ]
  },
  {
   "cell_type": "code",
   "execution_count": 51,
   "metadata": {},
   "outputs": [
    {
     "data": {
      "text/plain": [
       "[('maçãs', 430),\n",
       " ('bananas', 312),\n",
       " ('laranjas', 525),\n",
       " ('goiabas', 88),\n",
       " ('figos', 108),\n",
       " ('jambos', 249),\n",
       " ('peras', 0)]"
      ]
     },
     "execution_count": 51,
     "metadata": {},
     "output_type": "execute_result"
    }
   ],
   "source": [
    "list(frutas.items())"
   ]
  },
  {
   "cell_type": "markdown",
   "metadata": {},
   "source": [
    "As tuplas podem ser úteis para obter a ***key*** e o valor ao mesmo tempo durante a execução do loop:"
   ]
  },
  {
   "cell_type": "code",
   "execution_count": 52,
   "metadata": {},
   "outputs": [
    {
     "name": "stdout",
     "output_type": "stream",
     "text": [
      "Encontrei a key maçãs que mapeia para o valor 430\n",
      "Encontrei a key bananas que mapeia para o valor 312\n",
      "Encontrei a key laranjas que mapeia para o valor 525\n",
      "Encontrei a key goiabas que mapeia para o valor 88\n",
      "Encontrei a key figos que mapeia para o valor 108\n",
      "Encontrei a key jambos que mapeia para o valor 249\n",
      "Encontrei a key peras que mapeia para o valor 0\n"
     ]
    }
   ],
   "source": [
    "for (k,v) in frutas.items():\n",
    "    print(\"Encontrei a key\",k,\"que mapeia para o valor\",v)"
   ]
  },
  {
   "cell_type": "markdown",
   "metadata": {},
   "source": [
    "Os operadores ***in*** e ***not in*** podem testar se uma chave está no dicionário:"
   ]
  },
  {
   "cell_type": "code",
   "execution_count": 53,
   "metadata": {},
   "outputs": [
    {
     "data": {
      "text/plain": [
       "True"
      ]
     },
     "execution_count": 53,
     "metadata": {},
     "output_type": "execute_result"
    }
   ],
   "source": [
    "\"bananas\" in frutas"
   ]
  },
  {
   "cell_type": "code",
   "execution_count": 54,
   "metadata": {},
   "outputs": [
    {
     "data": {
      "text/plain": [
       "True"
      ]
     },
     "execution_count": 54,
     "metadata": {},
     "output_type": "execute_result"
    }
   ],
   "source": [
    " \"jambos\" in frutas"
   ]
  },
  {
   "cell_type": "markdown",
   "metadata": {},
   "source": [
    "Esse método pode ser bastante útil pois ao tentar acessar uma ***key*** não exitente, Python retorna um erro de execução:"
   ]
  },
  {
   "cell_type": "code",
   "execution_count": 55,
   "metadata": {},
   "outputs": [
    {
     "ename": "KeyError",
     "evalue": "'manga'",
     "output_type": "error",
     "traceback": [
      "\u001b[0;31m---------------------------------------------------------------------------\u001b[0m",
      "\u001b[0;31mKeyError\u001b[0m                                  Traceback (most recent call last)",
      "\u001b[0;32m<ipython-input-55-e214eded2c6d>\u001b[0m in \u001b[0;36m<module>\u001b[0;34m()\u001b[0m\n\u001b[0;32m----> 1\u001b[0;31m \u001b[0mfrutas\u001b[0m\u001b[0;34m[\u001b[0m\u001b[0;34m\"manga\"\u001b[0m\u001b[0;34m]\u001b[0m\u001b[0;34m\u001b[0m\u001b[0m\n\u001b[0m",
      "\u001b[0;31mKeyError\u001b[0m: 'manga'"
     ]
    }
   ],
   "source": [
    "frutas[\"manga\"]"
   ]
  },
  {
   "cell_type": "markdown",
   "metadata": {},
   "source": [
    "O método ***get*** é também bem útil. Ele retorna o valor da ***key*** especificada e caso a ***key*** não exista, retorna o valor indicado como parâmetro:"
   ]
  },
  {
   "cell_type": "code",
   "execution_count": 74,
   "metadata": {},
   "outputs": [
    {
     "data": {
      "text/plain": [
       "3"
      ]
     },
     "execution_count": 74,
     "metadata": {},
     "output_type": "execute_result"
    }
   ],
   "source": [
    "matrix = {(0, 3): 1, (2, 1): 2, (4, 3): 3}\n",
    "matrix.get((4,3))"
   ]
  },
  {
   "cell_type": "code",
   "execution_count": 76,
   "metadata": {},
   "outputs": [
    {
     "name": "stdout",
     "output_type": "stream",
     "text": [
      "{(0, 3): 1, (2, 1): 2, (4, 3): 3}\n"
     ]
    }
   ],
   "source": [
    "matrix.get((2,2))\n",
    "print(matrix)"
   ]
  },
  {
   "cell_type": "code",
   "execution_count": 81,
   "metadata": {},
   "outputs": [
    {
     "data": {
      "text/plain": [
       "0"
      ]
     },
     "execution_count": 81,
     "metadata": {},
     "output_type": "execute_result"
    }
   ],
   "source": [
    "matrix.get((2,2), 0)"
   ]
  },
  {
   "cell_type": "markdown",
   "metadata": {},
   "source": [
    "## Aliasing e cópia\n",
    "\n",
    "Como no caso das listas, porque os **dicionários são mutáveis**, precisamos estar cientes do **aliasing**. \n",
    "\n",
    "Sempre que duas variáveis se referem ao mesmo objeto, as alterações em uma afetam a outra.\n",
    "\n",
    "Se quiser modificar um dicionário e manter uma cópia do original, use o método de **cópia**. \n",
    "\n",
    "Consideremos um dicionário chamado **opostos**, que contém pares de opostos:"
   ]
  },
  {
   "cell_type": "code",
   "execution_count": 71,
   "metadata": {},
   "outputs": [],
   "source": [
    "opostos = {\"up\": \"down\", \"right\": \"wrong\", \"yes\": \"no\"}    # criação de um dicionário\n",
    "alias = opostos                                            # criação de um alias. o dicionário alias e opostos se referem ao mesmo objeto.\n",
    "copia = opostos.copy()                                     # cópia do dicionario opostos        "
   ]
  },
  {
   "cell_type": "markdown",
   "metadata": {},
   "source": [
    "* Os dicionários ***alias*** e ***opostos*** se referem ao **mesmo objeto**; \n",
    "* O dicionário ***copia*** se refere a uma nova cópia do mesmo dicionário. \n",
    "* Se modificarmos o ***alias***, o dicionário ***opostos*** também será alterado:"
   ]
  },
  {
   "cell_type": "code",
   "execution_count": 64,
   "metadata": {},
   "outputs": [
    {
     "name": "stdout",
     "output_type": "stream",
     "text": [
      "{'up': 'down', 'right': 'wrong', 'yes': 'no'}\n"
     ]
    }
   ],
   "source": [
    "print(alias)"
   ]
  },
  {
   "cell_type": "code",
   "execution_count": 66,
   "metadata": {},
   "outputs": [
    {
     "name": "stdout",
     "output_type": "stream",
     "text": [
      "{'up': 'down', 'right': 'left', 'yes': 'no'}\n"
     ]
    }
   ],
   "source": [
    "alias[\"right\"] = \"left\"\n",
    "print(opostos)"
   ]
  },
  {
   "cell_type": "code",
   "execution_count": 67,
   "metadata": {},
   "outputs": [
    {
     "name": "stdout",
     "output_type": "stream",
     "text": [
      "{'up': 'down', 'right': 'wrong', 'yes': 'no'}\n"
     ]
    }
   ],
   "source": [
    "print(copia)"
   ]
  },
  {
   "cell_type": "code",
   "execution_count": 72,
   "metadata": {},
   "outputs": [
    {
     "name": "stdout",
     "output_type": "stream",
     "text": [
      "{'up': 'down', 'right': 'wrong', 'yes': 'no', 'goodbye': 'hello'}\n"
     ]
    }
   ],
   "source": [
    "copia[\"goodbye\"] = \"hello\"\n",
    "print(copia)"
   ]
  },
  {
   "cell_type": "code",
   "execution_count": null,
   "metadata": {},
   "outputs": [],
   "source": []
  },
  {
   "cell_type": "markdown",
   "metadata": {},
   "source": [
    "## Exercícios:\n",
    "\n",
    "1) Utilizando dicionários e o método ***get***: \n",
    "   - a) contrua a seguinte matriz em python e acesse os valores de índices (0,3), (2,1), (4,3) e (2,2).\n",
    "![matrix](pics/matrix_aula12.png)\n",
    "   - b) Generalização: Defina uma classe ```matriz5x5``` que utilize o dicionário acima como estrutura para salvar os elementos, e que tenha um método ```__str__``` para conseguir imprimir na tela com formato adequado, para quaisquer valores dos elementos."
   ]
  },
  {
   "cell_type": "markdown",
   "metadata": {},
   "source": [
    "2) Contagem de Letras: \n",
    "  - a) Utilizando dicionários, escreva uma função que tome como argumento uma palavra (string) e  retorne um dicionário que tem como **key** a letra da palavra e como valor o número de vezes que ela aparece na palavra. Tal dicionário é chamado de **tabela de frequência**. ***Dica***: Utilize o método __get__ dos dicionários.\n",
    "  - b) Utilizando os métodos ```sort()``` (referente a listas) e ```items()``` (referente a dicionários), imprima na tela uma lista ordenada alfabeticamente da tabela de frequência obtida no item a)."
   ]
  },
  {
   "cell_type": "markdown",
   "metadata": {},
   "source": [
    "3) Escreva um programa que leia uma ```string``` e retorne uma tabela das letras do alfabeto que ocorrem na string,  em ordem alfabética,  junto com o número de vezes que cada letra ocorre. Letras maiúsculas devem ser ignoradas. Um exemplo de saída do programa quando o usuário digita os dados _“ThiS is String with Upper and lower case Letters”_, seria o seguinte:\n",
    "\n",
    "a  2\n",
    "\n",
    "c  1\n",
    "\n",
    "\n",
    "d  1\n",
    "\n",
    "\n",
    "e  5\n",
    "\n",
    "\n",
    "g  1\n",
    "\n",
    "\n",
    "h  2\n",
    "\n",
    "\n",
    "i  4\n",
    "\n",
    "\n",
    "l  2\n",
    "\n",
    "\n",
    "n  2\n",
    "\n",
    "\n",
    "o  1\n",
    "\n",
    "\n",
    "p  2\n",
    "\n",
    "\n",
    "r  4\n",
    "\n",
    "\n",
    "s  5\n",
    "\n",
    "\n",
    "t  5\n",
    "\n",
    "\n",
    "u  1\n",
    "\n",
    "\n",
    "w  2"
   ]
  },
  {
   "cell_type": "markdown",
   "metadata": {},
   "source": [
    "4) Usando como base o exercício da aula 9 sobre leitura de arquivo de dados. Modifique seu programa para, caso o arquivo tiver cabeçalho, esse seja o  **key**  para a coluna, e o histograma tenha os nomes dos eixos definidos a partir desses **keys**."
   ]
  },
  {
   "cell_type": "code",
   "execution_count": null,
   "metadata": {},
   "outputs": [],
   "source": []
  }
 ],
 "metadata": {
  "kernelspec": {
   "display_name": "Python 3",
   "language": "python",
   "name": "python3"
  },
  "language_info": {
   "codemirror_mode": {
    "name": "ipython",
    "version": 3
   },
   "file_extension": ".py",
   "mimetype": "text/x-python",
   "name": "python",
   "nbconvert_exporter": "python",
   "pygments_lexer": "ipython3",
   "version": "3.7.0"
  }
 },
 "nbformat": 4,
 "nbformat_minor": 2
}
