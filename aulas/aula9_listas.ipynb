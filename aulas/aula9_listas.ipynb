{
 "cells": [
  {
   "cell_type": "markdown",
   "metadata": {},
   "source": [
    "# Listas \n",
    "\n",
    "Uma lista é uma coleção ordenada de valores. Os valores que compõem uma lista são chamados de seus **elementos** ou seus **itens** . Nós usaremos o termo elemento ou item para significar a mesma coisa. ***A lista mantém a ordem de seus elementos***, portanto podem ser identificadas como **sequências** (como também são sequências as _strings_ (cadeias de carateres, e as tuplas) \n",
    "\n",
    "\n",
    "## Valores de lista\n",
    "Existem várias maneiras de criar uma nova lista; o mais simples é incluir os elementos entre colchetes:\n"
   ]
  },
  {
   "cell_type": "code",
   "execution_count": 1,
   "metadata": {},
   "outputs": [
    {
     "name": "stdout",
     "output_type": "stream",
     "text": [
      "[10, 20, 30, 40]\n",
      "['spam', 'bungee', 'cantar']\n"
     ]
    }
   ],
   "source": [
    "ps  =  [ 10 ,  20 ,  30 ,  40 ] \n",
    "qs  =  [ \"spam\" ,  \"bungee\" ,  \"cantar\" ]\n",
    "print(ps)\n",
    "print(qs)"
   ]
  },
  {
   "cell_type": "markdown",
   "metadata": {},
   "source": [
    "O primeiro exemplo é uma lista de quatro inteiros. O segundo é uma lista de três strings. Os elementos de uma lista não precisam ser do mesmo tipo. A lista a seguir contém uma string, um float, um inteiro e (incrivelmente) outra lista:"
   ]
  },
  {
   "cell_type": "code",
   "execution_count": 2,
   "metadata": {},
   "outputs": [],
   "source": [
    "zs  =  [ \"olá\" ,  2.0 ,  5 ,  [ 10 ,  20 ]]"
   ]
  },
  {
   "cell_type": "markdown",
   "metadata": {},
   "source": [
    "Uma lista dentro de outra lista é dita ***aninhada*** .\n",
    "Finalmente, uma lista sem elementos é chamada de lista vazia e é denotada \\[ \\] .\n",
    "Já vimos que podemos atribuir valores de lista a variáveis ou passar ***listas como parâmetros*** para funções."
   ]
  },
  {
   "cell_type": "code",
   "execution_count": 3,
   "metadata": {},
   "outputs": [
    {
     "name": "stdout",
     "output_type": "stream",
     "text": [
      "['apple', 'cheese', 'dog'] [17, 123] []\n"
     ]
    }
   ],
   "source": [
    "palavras  =  [ \"apple\" ,  \"cheese\" ,  \"dog\" ] \n",
    "numeros  =  [ 17 ,  123 ] \n",
    "lista_vazia  =  [] \n",
    "print ( palavras ,  numeros ,  lista_vazia ) "
   ]
  },
  {
   "cell_type": "markdown",
   "metadata": {},
   "source": [
    "## Acessando elementos \n",
    "A sintaxe para acessar os elementos de uma lista é o operador índice: \\[ \\] (não confundir com uma lista vazia). A expressão dentro dos colchetes especifica o índice. Lembre-se que os índices no Python começam em 0:"
   ]
  },
  {
   "cell_type": "code",
   "execution_count": 4,
   "metadata": {},
   "outputs": [
    {
     "data": {
      "text/plain": [
       "17"
      ]
     },
     "execution_count": 4,
     "metadata": {},
     "output_type": "execute_result"
    }
   ],
   "source": [
    "numeros[0]"
   ]
  },
  {
   "cell_type": "code",
   "execution_count": 5,
   "metadata": {},
   "outputs": [
    {
     "data": {
      "text/plain": [
       "'cheese'"
      ]
     },
     "execution_count": 5,
     "metadata": {},
     "output_type": "execute_result"
    }
   ],
   "source": [
    "palavras[1]"
   ]
  },
  {
   "cell_type": "markdown",
   "metadata": {},
   "source": [
    "Qualquer expressão que avalie para um inteiro pode ser usada como um índice:"
   ]
  },
  {
   "cell_type": "code",
   "execution_count": 6,
   "metadata": {},
   "outputs": [
    {
     "data": {
      "text/plain": [
       "123"
      ]
     },
     "execution_count": 6,
     "metadata": {},
     "output_type": "execute_result"
    }
   ],
   "source": [
    "numeros [ 9 - 8 ] "
   ]
  },
  {
   "cell_type": "code",
   "execution_count": 7,
   "metadata": {},
   "outputs": [
    {
     "ename": "TypeError",
     "evalue": "list indices must be integers or slices, not float",
     "output_type": "error",
     "traceback": [
      "\u001b[0;31m---------------------------------------------------------------------------\u001b[0m",
      "\u001b[0;31mTypeError\u001b[0m                                 Traceback (most recent call last)",
      "\u001b[0;32m<ipython-input-7-b59a1837f01a>\u001b[0m in \u001b[0;36m<module>\u001b[0;34m\u001b[0m\n\u001b[0;32m----> 1\u001b[0;31m \u001b[0mnumeros\u001b[0m \u001b[0;34m[\u001b[0m \u001b[0;36m1.0\u001b[0m \u001b[0;34m]\u001b[0m\u001b[0;34m\u001b[0m\u001b[0m\n\u001b[0m",
      "\u001b[0;31mTypeError\u001b[0m: list indices must be integers or slices, not float"
     ]
    }
   ],
   "source": [
    "numeros [ 1.0 ] "
   ]
  },
  {
   "cell_type": "markdown",
   "metadata": {},
   "source": [
    "Ao tentar acessar o elemento `1.0` temos um erro pois os índices devem ser números de tipo inteiro, não de ponto flutuante. Se tentássemos acessar ou atribuir um elemento que não existe também teremos um erro de execução:"
   ]
  },
  {
   "cell_type": "code",
   "execution_count": 8,
   "metadata": {},
   "outputs": [
    {
     "ename": "IndexError",
     "evalue": "list index out of range",
     "output_type": "error",
     "traceback": [
      "\u001b[0;31m---------------------------------------------------------------------------\u001b[0m",
      "\u001b[0;31mIndexError\u001b[0m                                Traceback (most recent call last)",
      "\u001b[0;32m<ipython-input-8-91860da3118d>\u001b[0m in \u001b[0;36m<module>\u001b[0;34m\u001b[0m\n\u001b[0;32m----> 1\u001b[0;31m \u001b[0mnumeros\u001b[0m\u001b[0;34m[\u001b[0m\u001b[0;36m2\u001b[0m\u001b[0;34m]\u001b[0m\u001b[0;34m\u001b[0m\u001b[0m\n\u001b[0m",
      "\u001b[0;31mIndexError\u001b[0m: list index out of range"
     ]
    }
   ],
   "source": [
    "numeros[2]"
   ]
  },
  {
   "cell_type": "markdown",
   "metadata": {},
   "source": [
    "É comum usar uma variável de loop como um índice de lista.\n"
   ]
  },
  {
   "cell_type": "code",
   "execution_count": 9,
   "metadata": {},
   "outputs": [
    {
     "name": "stdout",
     "output_type": "stream",
     "text": [
      "guerra\n",
      "fome\n",
      "pestilência\n",
      "morte\n"
     ]
    }
   ],
   "source": [
    "cavaleiros  =  [ \"guerra\" ,  \"fome\" ,  \"pestilência\" ,  \"morte\" ] \n",
    "\n",
    "for  i  in  [ 0 ,  1 ,  2 ,  3 ]: \n",
    "    print ( cavaleiros [ i ])"
   ]
  },
  {
   "cell_type": "markdown",
   "metadata": {},
   "source": [
    "Mas o exemplo acima **não** precisa usar o índice `i` para coisa nenhuma além de obter os itens da lista, então esta versão onde o própio loop `for` obtem os elementos acaba sendo mais direta :"
   ]
  },
  {
   "cell_type": "code",
   "execution_count": 10,
   "metadata": {},
   "outputs": [
    {
     "name": "stdout",
     "output_type": "stream",
     "text": [
      "guerra\n",
      "fome\n",
      "pestilência\n",
      "morte\n"
     ]
    }
   ],
   "source": [
    "for problem in cavaleiros  : \n",
    "    print ( problem )"
   ]
  },
  {
   "cell_type": "markdown",
   "metadata": {},
   "source": [
    "## Comprimento de uma lista\n",
    "A utilização dos índices pode ser útil se o objetivo for **atualizar** o valor do elemento. Nesse caso também é possível usar a função `len` sobre a lista para conhecer seu comprimento. P. ex.:"
   ]
  },
  {
   "cell_type": "code",
   "execution_count": 11,
   "metadata": {},
   "outputs": [
    {
     "name": "stdout",
     "output_type": "stream",
     "text": [
      "GUERRA\n",
      "FOME\n",
      "PESTILÊNCIA\n",
      "MORTE\n"
     ]
    }
   ],
   "source": [
    "n = len(cavaleiros)\n",
    "for i in range(n):\n",
    "    cavaleiros[i] = cavaleiros[i].upper()\n",
    "    print(cavaleiros[i])\n",
    "    "
   ]
  },
  {
   "cell_type": "markdown",
   "metadata": {},
   "source": [
    "_(A função `upper` é um ***método*** dos strings que muda as letras minúsculas a maiúsculas)_\n",
    "\n",
    "O último valor do índice `i` do loop acima é `n-1`.  Uma lista pode conter outra lista como elemento, porém esta lista aninhada conta como um só valor."
   ]
  },
  {
   "cell_type": "code",
   "execution_count": 12,
   "metadata": {},
   "outputs": [
    {
     "data": {
      "text/plain": [
       "4"
      ]
     },
     "execution_count": 12,
     "metadata": {},
     "output_type": "execute_result"
    }
   ],
   "source": [
    "listaCarros = [\"marcas de carro\", 1, [\"Ford\", \"Toyota\", \"BMW\"], [1, 2, 3]]\n",
    "len(listaCarros)"
   ]
  },
  {
   "cell_type": "code",
   "execution_count": 13,
   "metadata": {},
   "outputs": [
    {
     "name": "stdout",
     "output_type": "stream",
     "text": [
      "['Ford', 'Toyota', 'BMW'] 3\n"
     ]
    }
   ],
   "source": [
    "print(listaCarros[2],len(listaCarros[2]))"
   ]
  },
  {
   "cell_type": "markdown",
   "metadata": {},
   "source": [
    "## As listas são _mutáveis_\n",
    "\n",
    "Como foi visto acima, os valores dos elementos de uma lista podem ser mudados, e/ou mais elementos adicionados. Isto quer dizer que as listas são mutáveis. Examinemos os exemplos:"
   ]
  },
  {
   "cell_type": "code",
   "execution_count": 14,
   "metadata": {},
   "outputs": [
    {
     "name": "stdout",
     "output_type": "stream",
     "text": [
      "Maria\n",
      "maria\n"
     ]
    }
   ],
   "source": [
    "mylist = [1,2,3,\"maria\"]\n",
    "print(mylist[3].capitalize())\n",
    "print(mylist[3])"
   ]
  },
  {
   "cell_type": "markdown",
   "metadata": {},
   "source": [
    "Aqui ao chamar a função `capitalize()` (outro  método dos strings) esta retorna o string com a primeira letra em maiúscula, mas o quarto elemento da lista (que tem índice 3) não muda.  Porém podemos __atualizar__ o valor desse elemento, ou de outros (como o terceiro, de índice 2)."
   ]
  },
  {
   "cell_type": "code",
   "execution_count": 15,
   "metadata": {},
   "outputs": [
    {
     "name": "stdout",
     "output_type": "stream",
     "text": [
      "[1, 2, 3, 'Maria']\n",
      "[1, 2, 'trois', 'Maria']\n"
     ]
    }
   ],
   "source": [
    "mylist[3]=mylist[3].capitalize()\n",
    "print(mylist)\n",
    "mylist[2]=\"trois\"\n",
    "print(mylist)"
   ]
  },
  {
   "cell_type": "markdown",
   "metadata": {},
   "source": [
    "## _Fatias_ de listas\n",
    "\n",
    "Podemos aplicar operações de fatia para seleçionar sublistas"
   ]
  },
  {
   "cell_type": "code",
   "execution_count": 16,
   "metadata": {},
   "outputs": [
    {
     "data": {
      "text/plain": [
       "[2, 'trois']"
      ]
     },
     "execution_count": 16,
     "metadata": {},
     "output_type": "execute_result"
    }
   ],
   "source": [
    "mylist[1:3]"
   ]
  },
  {
   "cell_type": "markdown",
   "metadata": {},
   "source": [
    "O operador seleciona a sublista incluindo o primeiro índice e excluindo o último (no caso acima, os índices 1 e 2). Ao deixar um lado do operador em branco, selecionamos até o fim (ou desde o começo) da lista:"
   ]
  },
  {
   "cell_type": "code",
   "execution_count": 17,
   "metadata": {},
   "outputs": [
    {
     "data": {
      "text/plain": [
       "['trois', 'Maria']"
      ]
     },
     "execution_count": 17,
     "metadata": {},
     "output_type": "execute_result"
    }
   ],
   "source": [
    "mylist[2:]"
   ]
  },
  {
   "cell_type": "code",
   "execution_count": 18,
   "metadata": {},
   "outputs": [
    {
     "data": {
      "text/plain": [
       "[1, 2]"
      ]
     },
     "execution_count": 18,
     "metadata": {},
     "output_type": "execute_result"
    }
   ],
   "source": [
    "mylist[:2]"
   ]
  },
  {
   "cell_type": "markdown",
   "metadata": {},
   "source": [
    "Com o operador de fatia, podemos atualizar toda uma sub-lista de uma só vez:"
   ]
  },
  {
   "cell_type": "code",
   "execution_count": 3,
   "metadata": {},
   "outputs": [
    {
     "data": {
      "text/plain": [
       "['a', 'x', 'y', 'd', 'e', 'f']"
      ]
     },
     "execution_count": 3,
     "metadata": {},
     "output_type": "execute_result"
    }
   ],
   "source": [
    "a_list = [ \"a\" , \"b\" , \"c\" , \"d\" , \"e\" , \"f\" ]\n",
    "a_list [ 1 : 3 ] = [ \"x\" , \"y\" ]\n",
    "a_list"
   ]
  },
  {
   "cell_type": "markdown",
   "metadata": {},
   "source": [
    "Também podemos remover elementos de uma lista atribuindo uma lista vazia a eles:"
   ]
  },
  {
   "cell_type": "code",
   "execution_count": 4,
   "metadata": {},
   "outputs": [
    {
     "data": {
      "text/plain": [
       "['a', 'd', 'e', 'f']"
      ]
     },
     "execution_count": 4,
     "metadata": {},
     "output_type": "execute_result"
    }
   ],
   "source": [
    "a_list[1:3]=[]\n",
    "a_list"
   ]
  },
  {
   "cell_type": "markdown",
   "metadata": {},
   "source": [
    "Porém tem uma alternativa mais legível e menos propensa a erros, utilizando o comando `del`:"
   ]
  },
  {
   "cell_type": "code",
   "execution_count": 5,
   "metadata": {},
   "outputs": [
    {
     "data": {
      "text/plain": [
       "['um', 'três']"
      ]
     },
     "execution_count": 5,
     "metadata": {},
     "output_type": "execute_result"
    }
   ],
   "source": [
    "a = [\"um\", \"dois\", \"três\"]\n",
    "del a[1]\n",
    "a"
   ]
  },
  {
   "cell_type": "markdown",
   "metadata": {},
   "source": [
    "Este comando também pode ser utlizado com fatias:"
   ]
  },
  {
   "cell_type": "code",
   "execution_count": 6,
   "metadata": {},
   "outputs": [
    {
     "data": {
      "text/plain": [
       "['un', 'deux', 'cinq']"
      ]
     },
     "execution_count": 6,
     "metadata": {},
     "output_type": "execute_result"
    }
   ],
   "source": [
    "b=[\"un\",\"deux\",\"trois\",\"quatre\",\"cinq\"]\n",
    "del b[2:4]\n",
    "b"
   ]
  },
  {
   "cell_type": "markdown",
   "metadata": {},
   "source": [
    "Podemos fatiar em passos:"
   ]
  },
  {
   "cell_type": "code",
   "execution_count": 10,
   "metadata": {},
   "outputs": [
    {
     "name": "stdout",
     "output_type": "stream",
     "text": [
      "['a', 'd', 'e', 'f']\n"
     ]
    },
    {
     "data": {
      "text/plain": [
       "['d', 'f']"
      ]
     },
     "execution_count": 10,
     "metadata": {},
     "output_type": "execute_result"
    }
   ],
   "source": [
    "print(a_list)\n",
    "a_list[1:4:2]"
   ]
  },
  {
   "cell_type": "markdown",
   "metadata": {},
   "source": [
    "Em resumo:"
   ]
  },
  {
   "cell_type": "code",
   "execution_count": 14,
   "metadata": {},
   "outputs": [
    {
     "data": {
      "text/plain": [
       "['a', 'd']"
      ]
     },
     "execution_count": 14,
     "metadata": {},
     "output_type": "execute_result"
    }
   ],
   "source": [
    "start=2\n",
    "stop=3\n",
    "a_list[start:stop]  # items start through stop-1\n",
    "a_list[start:]      # items start through the rest of the array\n",
    "a_list[:stop]       # items from the beginning through stop-1\n",
    "a_list[:]           # a copy of the whole array\n",
    "a_list[-1]    # last item in the array\n",
    "a_list[-2:]   # last two items in the array\n",
    "a_list[:-2]   # everything except the last two items"
   ]
  },
  {
   "cell_type": "markdown",
   "metadata": {},
   "source": [
    "De modo similar, o \"passo\" pode ser um número negativo:\n"
   ]
  },
  {
   "cell_type": "code",
   "execution_count": 15,
   "metadata": {},
   "outputs": [
    {
     "data": {
      "text/plain": [
       "['d', 'a']"
      ]
     },
     "execution_count": 15,
     "metadata": {},
     "output_type": "execute_result"
    }
   ],
   "source": [
    "a_list[::-1]    # all items in the array, reversed\n",
    "a_list[1::-1]   # the first two items, reversed\n",
    "a_list[:-3:-1]  # the last two items, reversed\n",
    "a_list[-3::-1]  # everything except the last two items, reversed"
   ]
  },
  {
   "cell_type": "markdown",
   "metadata": {},
   "source": [
    "Método slice():"
   ]
  },
  {
   "cell_type": "code",
   "execution_count": 16,
   "metadata": {},
   "outputs": [
    {
     "name": "stdout",
     "output_type": "stream",
     "text": [
      "['d', 'f']\n",
      "['d', 'f']\n"
     ]
    }
   ],
   "source": [
    "print(a_list[1:4:2])\n",
    "print(a_list[slice(1, 4, 2)])"
   ]
  },
  {
   "cell_type": "markdown",
   "metadata": {},
   "source": [
    "## Métodos de lista\n",
    "\n",
    "O operador de ponto pode ser usado para acessar métodos internos de objetos de lista. Começaremos com o método mais útil para adicionar algo ao final de uma lista existente, o `append`:"
   ]
  },
  {
   "cell_type": "code",
   "execution_count": 23,
   "metadata": {},
   "outputs": [
    {
     "data": {
      "text/plain": [
       "[10, 25, 5, 35, 30]"
      ]
     },
     "execution_count": 23,
     "metadata": {},
     "output_type": "execute_result"
    }
   ],
   "source": [
    "milista=[]\n",
    "\n",
    "milista.append(10)\n",
    "milista.append(25)\n",
    "milista.append(5)\n",
    "milista.append(35)\n",
    "milista.append(30)\n",
    "\n",
    "milista"
   ]
  },
  {
   "cell_type": "markdown",
   "metadata": {},
   "source": [
    "Este método de lista adiciona o argumento passado para o __final__ da lista. Nós vamos usá-lo frequentemente para  criar novas listas. "
   ]
  },
  {
   "cell_type": "markdown",
   "metadata": {},
   "source": [
    "# Listas (continuação)\n",
    "\n",
    "Até aqui vimos que listas são coleções de ordenadas sequenciais de valores. Vimos:\n",
    "* como criar listas,\n",
    "* como acessar elementos de uma lista,\n",
    "* comprimento de uma lista,\n",
    "* listas são **mutáveis**, \n",
    "* ***fatias*** de lista\n",
    "* métodos de lista\n",
    "\n",
    "\n",
    "Hoje veremos:\n",
    "\n",
    "* referências a listas\n",
    "* **clonagem** de listas\n",
    "* listas como parâmetro de funções\n",
    "* funções **puras** e **modificadores**\n",
    "\n",
    "\n",
    "## Objetos e referências\n",
    "\n",
    "Se executarmos os seguintes comandos:"
   ]
  },
  {
   "cell_type": "code",
   "execution_count": 17,
   "metadata": {},
   "outputs": [],
   "source": [
    "a = \"banana\"\n",
    "b = \"banana\""
   ]
  },
  {
   "cell_type": "markdown",
   "metadata": {},
   "source": [
    "Sabemos que ***a*** e ***b*** se referirão a uma ***string*** mas não sabemos se eles apontam para o mesmo objeto de Python.\n",
    "\n",
    "O interpretador pode organizar sua memória de duas maneiras:\n",
    "\n",
    "* referir ***a*** e ***b*** a dois objetos distintos com os mesmos valores\n",
    "* referir ***a*** e ***b*** ao mesmo objeto\n",
    "\n",
    "![refstring](pics/ref_string.png)\n",
    "\n",
    "Podemos testar se duas variáveis se referem ao mesmo objeto:"
   ]
  },
  {
   "cell_type": "code",
   "execution_count": 18,
   "metadata": {},
   "outputs": [
    {
     "data": {
      "text/plain": [
       "True"
      ]
     },
     "execution_count": 18,
     "metadata": {},
     "output_type": "execute_result"
    }
   ],
   "source": [
    "a is b"
   ]
  },
  {
   "cell_type": "markdown",
   "metadata": {},
   "source": [
    "Nesse caso, ***a*** e ***b*** têm o mesmo valor mas não se referem ao mesmo objeto.\n",
    "\n",
    "![refstring](pics/ref_list.png)\n",
    "\n",
    "## Alias\n",
    "\n",
    "Podemos forçar ***a*** e ***b*** a se referirem ao mesmo objeto. Com isso, criamos um **alias** (apelido)."
   ]
  },
  {
   "cell_type": "code",
   "execution_count": 19,
   "metadata": {},
   "outputs": [
    {
     "data": {
      "text/plain": [
       "False"
      ]
     },
     "execution_count": 19,
     "metadata": {},
     "output_type": "execute_result"
    }
   ],
   "source": [
    "a = [4, 5, 6]\n",
    "b = [4, 5, 6]\n",
    "a is b"
   ]
  },
  {
   "cell_type": "code",
   "execution_count": 20,
   "metadata": {},
   "outputs": [
    {
     "data": {
      "text/plain": [
       "True"
      ]
     },
     "execution_count": 20,
     "metadata": {},
     "output_type": "execute_result"
    }
   ],
   "source": [
    "a = b\n",
    "a is b"
   ]
  },
  {
   "cell_type": "code",
   "execution_count": 21,
   "metadata": {},
   "outputs": [
    {
     "name": "stdout",
     "output_type": "stream",
     "text": [
      "a =  [4, 5, 6, 88] , b =  [4, 5, 6, 88]\n"
     ]
    }
   ],
   "source": [
    "a.append(88)\n",
    "print('a = ', a, ', b = ', b)"
   ]
  },
  {
   "cell_type": "markdown",
   "metadata": {},
   "source": [
    "### O que aconteceu???\n",
    "\n",
    "![difflists](pics/diff_lists.png)\n",
    "![samelists](pics/same_lists.png)\n",
    "\n",
    "\n",
    "### Recomendações em relação a **aliases**:\n",
    "Em geral, é mais seguro evitar fazer um **alias** de objetos **mutáveis**, como listas. Para objetos **imutáveis**, como strings, não há restrições de se fazer **aliases**.\n",
    "\n",
    "## Clonagem de listas\n",
    "\n",
    "Se quisermos modificar uma lista e ao mesmo tempo mantermos uma cópia inalterada dessa lista, devemos **cloná-la**:"
   ]
  },
  {
   "cell_type": "code",
   "execution_count": 22,
   "metadata": {},
   "outputs": [
    {
     "data": {
      "text/plain": [
       "[1, 2, 3]"
      ]
     },
     "execution_count": 22,
     "metadata": {},
     "output_type": "execute_result"
    }
   ],
   "source": [
    "lista = [1, 2, 3]\n",
    "clone_lista = lista[:]\n",
    "clone_lista"
   ]
  },
  {
   "cell_type": "markdown",
   "metadata": {},
   "source": [
    "Podemos então criar uma nova lista ao tomar uma **fatia** de **toda a lista**.\n",
    "\n",
    "![reflist](pics/ref_list.png)\n",
    "\n",
    "\n",
    "E agora, como cada uma das listas é uma referência a um objeto diferente, podemos modificar uma variável, sem modificar a outra:"
   ]
  },
  {
   "cell_type": "code",
   "execution_count": 23,
   "metadata": {},
   "outputs": [
    {
     "name": "stdout",
     "output_type": "stream",
     "text": [
      "a:  [1, 2, 3, 88] , b:  [1, 2, 3]\n",
      "a:  [1, 2, 3, 88] , b:  [1, 2, 199]\n"
     ]
    }
   ],
   "source": [
    "a = [1, 2, 3]\n",
    "b = a[:]\n",
    "a.append(88)\n",
    "print ('a: ', a, ', b: ', b)\n",
    "\n",
    "b[2] = 199\n",
    "print ('a: ', a, ', b: ', b)"
   ]
  },
  {
   "cell_type": "markdown",
   "metadata": {},
   "source": [
    "## Listas e loops ***for***\n",
    "\n",
    "Suponha que temos duas listas. Se elas forem de tamanhos iguais, queremos imprimir seus valores em um único loop."
   ]
  },
  {
   "cell_type": "code",
   "execution_count": 24,
   "metadata": {},
   "outputs": [
    {
     "data": {
      "text/plain": [
       "True"
      ]
     },
     "execution_count": 24,
     "metadata": {},
     "output_type": "execute_result"
    }
   ],
   "source": [
    "lista1 = [1,3,5,7,9,11,13,15]\n",
    "lista2 = [2,4,6,8,10,12,14,16]\n",
    "\n",
    "# as listas têm o mesmo tamanho?\n",
    "len(lista1) == len(lista2)"
   ]
  },
  {
   "cell_type": "code",
   "execution_count": 25,
   "metadata": {},
   "outputs": [
    {
     "name": "stdout",
     "output_type": "stream",
     "text": [
      "range(0, 8)\n",
      "1\n",
      "2\n",
      "3\n",
      "4\n",
      "5\n",
      "6\n",
      "7\n",
      "8\n",
      "9\n",
      "10\n",
      "11\n",
      "12\n",
      "13\n",
      "14\n",
      "15\n",
      "16\n"
     ]
    }
   ],
   "source": [
    "# se as listas têm o mesmo número de elementos, imprima todos os elementos de cada uma das listas\n",
    "if (len(lista1) == len(lista2)):\n",
    "    print(range(len(lista1)))\n",
    "    for i in range(len(lista1)):\n",
    "        print(lista1[i])\n",
    "        print(lista2[i])"
   ]
  },
  {
   "cell_type": "code",
   "execution_count": 26,
   "metadata": {},
   "outputs": [
    {
     "name": "stdout",
     "output_type": "stream",
     "text": [
      "Ana  tem  16  anos\n",
      "Luiz  tem  18  anos\n",
      "Maria  tem  17  anos\n",
      "Joana  tem  19  anos\n"
     ]
    }
   ],
   "source": [
    "alunos = ['Ana', 'Luiz', 'Maria', 'Joana']\n",
    "idades = [16, 18, 17, 19]\n",
    "\n",
    "if (len(alunos)==len(idades)):\n",
    "    for (i, valor) in enumerate(alunos):\n",
    "        print(valor, ' tem ', idades[i], ' anos')"
   ]
  },
  {
   "cell_type": "markdown",
   "metadata": {},
   "source": [
    "## Métodos de listas\n",
    "\n",
    "As listas são um tipo de dados de python. Sendo assim têm métodos (funções) associadas a elas, que são acessadas através do ponto:"
   ]
  },
  {
   "cell_type": "code",
   "execution_count": 27,
   "metadata": {},
   "outputs": [
    {
     "data": {
      "text/plain": [
       "[5, 27, 3, 12]"
      ]
     },
     "execution_count": 27,
     "metadata": {},
     "output_type": "execute_result"
    }
   ],
   "source": [
    "mylist = []\n",
    "mylist.append(5)\n",
    "mylist.append(27)\n",
    "mylist.append(3)\n",
    "mylist.append(12)\n",
    "mylist"
   ]
  },
  {
   "cell_type": "code",
   "execution_count": 28,
   "metadata": {},
   "outputs": [
    {
     "data": {
      "text/plain": [
       "[5, 12, 27, 3, 12]"
      ]
     },
     "execution_count": 28,
     "metadata": {},
     "output_type": "execute_result"
    }
   ],
   "source": [
    "mylist.insert(1, 12) # insere o item 12 na posição 1. Todos os outros itens da lista são desolcados para cima.\n",
    "mylist"
   ]
  },
  {
   "cell_type": "code",
   "execution_count": 29,
   "metadata": {},
   "outputs": [
    {
     "data": {
      "text/plain": [
       "2"
      ]
     },
     "execution_count": 29,
     "metadata": {},
     "output_type": "execute_result"
    }
   ],
   "source": [
    "mylist.count(12) # conta quantas vezes o valor 12 aparece na lista"
   ]
  },
  {
   "cell_type": "code",
   "execution_count": 30,
   "metadata": {},
   "outputs": [
    {
     "data": {
      "text/plain": [
       "[5, 12, 27, 3, 12, 5, 9, 5, 11]"
      ]
     },
     "execution_count": 30,
     "metadata": {},
     "output_type": "execute_result"
    }
   ],
   "source": [
    "mylist.extend([5, 9, 5, 11])  # coloca toda a lista do argumento no final da lista mylist\n",
    "mylist"
   ]
  },
  {
   "cell_type": "code",
   "execution_count": 31,
   "metadata": {},
   "outputs": [
    {
     "data": {
      "text/plain": [
       "6"
      ]
     },
     "execution_count": 31,
     "metadata": {},
     "output_type": "execute_result"
    }
   ],
   "source": [
    "mylist.index(9) # encontra o índice do primeiro valor 9 de mylist"
   ]
  },
  {
   "cell_type": "code",
   "execution_count": 32,
   "metadata": {},
   "outputs": [
    {
     "data": {
      "text/plain": [
       "[11, 5, 9, 5, 12, 3, 27, 12, 5]"
      ]
     },
     "execution_count": 32,
     "metadata": {},
     "output_type": "execute_result"
    }
   ],
   "source": [
    "mylist.reverse() # reverte todos os objetos de mylist\n",
    "mylist"
   ]
  },
  {
   "cell_type": "code",
   "execution_count": 33,
   "metadata": {},
   "outputs": [
    {
     "data": {
      "text/plain": [
       "[3, 5, 5, 5, 9, 11, 12, 12, 27]"
      ]
     },
     "execution_count": 33,
     "metadata": {},
     "output_type": "execute_result"
    }
   ],
   "source": [
    "mylist.sort()  # ordena os valores de uma lista\n",
    "mylist"
   ]
  },
  {
   "cell_type": "code",
   "execution_count": 34,
   "metadata": {},
   "outputs": [
    {
     "data": {
      "text/plain": [
       "[3, 5, 5, 5, 9, 11, 12, 27]"
      ]
     },
     "execution_count": 34,
     "metadata": {},
     "output_type": "execute_result"
    }
   ],
   "source": [
    "mylist.remove(12)  # remove o primeiro elemento de valor 12 de mylist\n",
    "mylist"
   ]
  },
  {
   "cell_type": "markdown",
   "metadata": {},
   "source": [
    "## Strings e listas\n",
    "\n",
    "Dois dos métodos mais úteis em ***strings*** envolvem conversão de ***strings*** para ***listas*** de substrings e vice-versa. \n",
    "\n",
    "\n",
    "O método ***split*** divide uma ***string*** em uma ***lista*** de palavras. O padrão é considerar caracteres de espaço em branco como **delimitador** de palavras:"
   ]
  },
  {
   "cell_type": "code",
   "execution_count": 35,
   "metadata": {},
   "outputs": [
    {
     "data": {
      "text/plain": [
       "['O', 'sol', 'há', 'de', 'brilhar', 'mais', 'uma', 'vez']"
      ]
     },
     "execution_count": 35,
     "metadata": {},
     "output_type": "execute_result"
    }
   ],
   "source": [
    "musica = \"O sol há de brilhar mais uma vez\"\n",
    "palavras = musica.split()\n",
    "palavras"
   ]
  },
  {
   "cell_type": "markdown",
   "metadata": {},
   "source": [
    "Podemos especificar um **delimitador**. Por exemplo, podemos escolher a letra 'a' como **delimitador**, no lugar do padrão."
   ]
  },
  {
   "cell_type": "code",
   "execution_count": 36,
   "metadata": {},
   "outputs": [
    {
     "data": {
      "text/plain": [
       "['O sol há de brilh', 'r m', 'is um', ' vez']"
      ]
     },
     "execution_count": 36,
     "metadata": {},
     "output_type": "execute_result"
    }
   ],
   "source": [
    "palavras = musica.split('a')\n",
    "palavras"
   ]
  },
  {
   "cell_type": "markdown",
   "metadata": {},
   "source": [
    "O inverso do método ***split*** é o ***join***. Para juntar as strings, escolhemos um **separador** como parâmetro."
   ]
  },
  {
   "cell_type": "code",
   "execution_count": 38,
   "metadata": {},
   "outputs": [
    {
     "data": {
      "text/plain": [
       "'O sol há de brilhar mais uma vez'"
      ]
     },
     "execution_count": 38,
     "metadata": {},
     "output_type": "execute_result"
    }
   ],
   "source": [
    "cola = 'a'\n",
    "palavras_coladas = cola.join(palavras)\n",
    "palavras_coladas"
   ]
  },
  {
   "cell_type": "markdown",
   "metadata": {},
   "source": [
    "## List Comprehension\n",
    "\n",
    "A compreensão de listas fornece uma maneira concisa de criar listas. \n",
    "Aplicações comuns são fazer novas listas onde cada elemento é o resultado de algumas operações aplicadas a cada membro de outra seqüência ou iterável, ou criar uma subsequência daqueles elementos que satisfazem uma determinada condição."
   ]
  },
  {
   "cell_type": "code",
   "execution_count": 39,
   "metadata": {},
   "outputs": [
    {
     "data": {
      "text/plain": [
       "[0, 1, 4, 9, 16, 25, 36, 49, 64, 81]"
      ]
     },
     "execution_count": 39,
     "metadata": {},
     "output_type": "execute_result"
    }
   ],
   "source": [
    "squares = []\n",
    "for x in range(10):\n",
    "    squares.append(x**2)\n",
    "\n",
    "squares\n",
    "[0, 1, 4, 9, 16, 25, 36, 49, 64, 81]"
   ]
  },
  {
   "cell_type": "code",
   "execution_count": 40,
   "metadata": {},
   "outputs": [
    {
     "name": "stdout",
     "output_type": "stream",
     "text": [
      "[0, 1, 4, 9, 16, 25, 36, 49, 64, 81]\n"
     ]
    }
   ],
   "source": [
    "squares2 = [x**2 for x in range(10)]\n",
    "print(squares2)"
   ]
  },
  {
   "cell_type": "code",
   "execution_count": 41,
   "metadata": {},
   "outputs": [
    {
     "data": {
      "text/plain": [
       "[(1, 3), (1, 4), (2, 3), (2, 1), (2, 4), (3, 1), (3, 4)]"
      ]
     },
     "execution_count": 41,
     "metadata": {},
     "output_type": "execute_result"
    }
   ],
   "source": [
    "[(x, y) for x in [1,2,3] for y in [3,1,4] if x != y]"
   ]
  },
  {
   "cell_type": "code",
   "execution_count": 42,
   "metadata": {},
   "outputs": [
    {
     "data": {
      "text/plain": [
       "['3.1', '3.14', '3.142', '3.1416', '3.14159']"
      ]
     },
     "execution_count": 42,
     "metadata": {},
     "output_type": "execute_result"
    }
   ],
   "source": [
    "from math import pi\n",
    "[str(round(pi, i)) for i in range(1, 6)]"
   ]
  },
  {
   "cell_type": "markdown",
   "metadata": {},
   "source": [
    "## Exercícios\n",
    "\n",
    "1) Considere a função abaixo. Esse tipo de função é considerada uma **função modificadora** pois modifica o objeto que é passado como argumento. "
   ]
  },
  {
   "cell_type": "code",
   "execution_count": 43,
   "metadata": {},
   "outputs": [
    {
     "name": "stdout",
     "output_type": "stream",
     "text": [
      "[2, 4, 6]\n",
      "[4, 8, 12]\n"
     ]
    }
   ],
   "source": [
    "def dobrar_elementos(uma_lista):\n",
    "    \"\"\" Reescreve os elementos de uma_lista com o dobro de seus valores originais.\n",
    "    \"\"\"\n",
    "    for (i, valor) in enumerate(uma_lista):\n",
    "        novo_elem = 2 * valor\n",
    "        uma_lista[i] = novo_elem\n",
    "\n",
    "    return uma_lista\n",
    "\n",
    "minha_lista = [2, 4, 6]\n",
    "print(minha_lista)\n",
    "dobrar_elementos(minha_lista)\n",
    "print(minha_lista)"
   ]
  },
  {
   "cell_type": "markdown",
   "metadata": {},
   "source": [
    "a) Modifique a função para retornar uma **nova lista**, sem modificar a lista usada como parâmetro. Esse tipo de função é chamado de **função pura**.\n",
    "\n",
    "\n",
    "b) Modifique a documentação de ajuda da nova função, de tal forma que quando se chame a função ***help*** da nova função, se obtenha a descrição adequada.\n",
    "\n",
    "\n",
    "c) Insira essa função como método de uma classe (que você criará) dentro de um módulo, importe o módulo em um script e chame a função a partir do script."
   ]
  },
  {
   "cell_type": "code",
   "execution_count": 44,
   "metadata": {},
   "outputs": [
    {
     "name": "stdout",
     "output_type": "stream",
     "text": [
      "Help on function dobrar_elementos in module __main__:\n",
      "\n",
      "dobrar_elementos(uma_lista)\n",
      "    Reescreve os elementos de uma_lista com o dobro de seus valores originais.\n",
      "\n"
     ]
    }
   ],
   "source": [
    "help(dobrar_elementos)"
   ]
  },
  {
   "cell_type": "markdown",
   "metadata": {},
   "source": [
    "2) Crie uma lista com números sequenciais com incrementos de uma unidade, de 1 até 10000. ***Dica***: use a função ***range***."
   ]
  },
  {
   "cell_type": "markdown",
   "metadata": {},
   "source": [
    "3) Escreva uma função que, dado um número ***n***, encontre o primeiro inteiro positivo entre 101 e menor que ***n***, que seja divisível por 21. ***Dica***: use a função ***range***."
   ]
  },
  {
   "cell_type": "markdown",
   "metadata": {},
   "source": [
    "4) Represente a matriz \\eta abaixo em Python e acesse o elemento de matriz \\eta_{33} (linha 3, coluna 3). ***Dica***: use uma lista de listas!"
   ]
  },
  {
   "cell_type": "code",
   "execution_count": null,
   "metadata": {},
   "outputs": [],
   "source": []
  }
 ],
 "metadata": {
  "kernelspec": {
   "display_name": "Python 3",
   "language": "python",
   "name": "python3"
  },
  "language_info": {
   "codemirror_mode": {
    "name": "ipython",
    "version": 3
   },
   "file_extension": ".py",
   "mimetype": "text/x-python",
   "name": "python",
   "nbconvert_exporter": "python",
   "pygments_lexer": "ipython3",
   "version": "3.6.4"
  }
 },
 "nbformat": 4,
 "nbformat_minor": 2
}
