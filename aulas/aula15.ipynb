{
 "cells": [
  {
   "cell_type": "markdown",
   "metadata": {},
   "source": [
    "# Continuação exercício arquivo-dicionário-módulo-histograma\n",
    "\n",
    "O exercício da aula anterior consiste, conceitualmente, em reorganizar dados que vem ordenados em filas (observações, ou \"eventos\" ou, nesse caso, alunos) para separar por colunas (variaveis: altura, idade e massa). Isto pode ser entendido como  uma transposição de uma matriz.\n"
   ]
  },
  {
   "cell_type": "code",
   "execution_count": 1,
   "metadata": {},
   "outputs": [
    {
     "name": "stdout",
     "output_type": "stream",
     "text": [
      "18\t1.68\t80\n",
      "\n"
     ]
    }
   ],
   "source": [
    "arquivo = open(\"dados_alunos.txt\")\n",
    "linhas = arquivo.readlines()\n",
    "arquivo.close()\n",
    "print(linhas[0])"
   ]
  },
  {
   "cell_type": "markdown",
   "metadata": {},
   "source": [
    "Se imaginarmos esse conjunto de dados como uma matriz, podemos construi-la usando listas:"
   ]
  },
  {
   "cell_type": "code",
   "execution_count": 2,
   "metadata": {},
   "outputs": [
    {
     "name": "stdout",
     "output_type": "stream",
     "text": [
      "3 18 <class 'str'>\n",
      "3 18.0 <class 'float'>\n",
      "3 18 <class 'str'>\n",
      "3 18.0 <class 'float'>\n",
      "3 18 <class 'str'>\n",
      "3 18.0 <class 'float'>\n",
      "3 18 <class 'str'>\n",
      "3 18.0 <class 'float'>\n",
      "3 19 <class 'str'>\n",
      "3 19.0 <class 'float'>\n",
      "3 18 <class 'str'>\n",
      "3 18.0 <class 'float'>\n",
      "3 21 <class 'str'>\n",
      "3 21.0 <class 'float'>\n",
      "3 18 <class 'str'>\n",
      "3 18.0 <class 'float'>\n",
      "3 18 <class 'str'>\n",
      "3 18.0 <class 'float'>\n",
      "3 18 <class 'str'>\n",
      "3 18.0 <class 'float'>\n",
      "3 17 <class 'str'>\n",
      "3 17.0 <class 'float'>\n",
      "3 18 <class 'str'>\n",
      "3 18.0 <class 'float'>\n",
      "3 18 <class 'str'>\n",
      "3 18.0 <class 'float'>\n",
      "3 17 <class 'str'>\n",
      "3 17.0 <class 'float'>\n",
      "3 19 <class 'str'>\n",
      "3 19.0 <class 'float'>\n",
      "3 22 <class 'str'>\n",
      "3 22.0 <class 'float'>\n",
      "3 18 <class 'str'>\n",
      "3 18.0 <class 'float'>\n",
      "3 19 <class 'str'>\n",
      "3 19.0 <class 'float'>\n",
      "3 18 <class 'str'>\n",
      "3 18.0 <class 'float'>\n",
      "3 20 <class 'str'>\n",
      "3 20.0 <class 'float'>\n",
      "3 17 <class 'str'>\n",
      "3 17.0 <class 'float'>\n",
      "3 18 <class 'str'>\n",
      "3 18.0 <class 'float'>\n",
      "3 18 <class 'str'>\n",
      "3 18.0 <class 'float'>\n",
      "3 17 <class 'str'>\n",
      "3 17.0 <class 'float'>\n",
      "3 19 <class 'str'>\n",
      "3 19.0 <class 'float'>\n",
      "3 18 <class 'str'>\n",
      "3 18.0 <class 'float'>\n",
      "3 34 <class 'str'>\n",
      "3 34.0 <class 'float'>\n",
      "3 18 <class 'str'>\n",
      "3 18.0 <class 'float'>\n",
      "3 19 <class 'str'>\n",
      "3 19.0 <class 'float'>\n",
      "3 18 <class 'str'>\n",
      "3 18.0 <class 'float'>\n",
      "3 18 <class 'str'>\n",
      "3 18.0 <class 'float'>\n",
      "3 20 <class 'str'>\n",
      "3 20.0 <class 'float'>\n",
      "3 18 <class 'str'>\n",
      "3 18.0 <class 'float'>\n",
      "3 23 <class 'str'>\n",
      "3 23.0 <class 'float'>\n",
      "3 18 <class 'str'>\n",
      "3 18.0 <class 'float'>\n",
      "3 18 <class 'str'>\n",
      "3 18.0 <class 'float'>\n",
      "3 17 <class 'str'>\n",
      "3 17.0 <class 'float'>\n",
      "3 19 <class 'str'>\n",
      "3 19.0 <class 'float'>\n",
      "3 18 <class 'str'>\n",
      "3 18.0 <class 'float'>\n",
      "3 18 <class 'str'>\n",
      "3 18.0 <class 'float'>\n",
      "3 19 <class 'str'>\n",
      "3 19.0 <class 'float'>\n",
      "3 19 <class 'str'>\n",
      "3 19.0 <class 'float'>\n",
      "3 28 <class 'str'>\n",
      "3 28.0 <class 'float'>\n",
      "3 19 <class 'str'>\n",
      "3 19.0 <class 'float'>\n",
      "3 26 <class 'str'>\n",
      "3 26.0 <class 'float'>\n",
      "3 19 <class 'str'>\n",
      "3 19.0 <class 'float'>\n",
      "3 19 <class 'str'>\n",
      "3 19.0 <class 'float'>\n",
      "3 20 <class 'str'>\n",
      "3 20.0 <class 'float'>\n",
      "3 20 <class 'str'>\n",
      "3 20.0 <class 'float'>\n",
      "3 19 <class 'str'>\n",
      "3 19.0 <class 'float'>\n",
      "3 22 <class 'str'>\n",
      "3 22.0 <class 'float'>\n",
      "3 19 <class 'str'>\n",
      "3 19.0 <class 'float'>\n",
      "3 18 <class 'str'>\n",
      "3 18.0 <class 'float'>\n",
      "3 28 <class 'str'>\n",
      "3 28.0 <class 'float'>\n",
      "3 20 <class 'str'>\n",
      "3 20.0 <class 'float'>\n",
      "3 44 <class 'str'>\n",
      "3 44.0 <class 'float'>\n",
      "3 18 <class 'str'>\n",
      "3 18.0 <class 'float'>\n"
     ]
    }
   ],
   "source": [
    "A=[]\n",
    "for line in linhas:\n",
    "    #aqui vamos obter os dados linha por linha, quer dizer idade altura e peso aluno por aluno\n",
    "    dados = line.split()\n",
    "    print(len(dados),dados[0],type(dados[0]))\n",
    "    fdados = [float(x) for x in dados]\n",
    "    print(len(fdados),fdados[0],type(fdados[0]))\n",
    "    A.append(fdados)    "
   ]
  },
  {
   "cell_type": "markdown",
   "metadata": {},
   "source": [
    "O objeto `a` é uma lista de 57 elementos, onde cada elemento corresponde a uma lista de  3 \"dados\" de um único aluno/a. Os dados podem ser accessados individualmente usando 2 índices, o primeiro é o número de fila (aluno)e o segundo o da coluna (variavel)"
   ]
  },
  {
   "cell_type": "code",
   "execution_count": 3,
   "metadata": {},
   "outputs": [
    {
     "name": "stdout",
     "output_type": "stream",
     "text": [
      "18.0 1.68 80.0 18.0 1.7\n"
     ]
    }
   ],
   "source": [
    "len(A)\n",
    "print (A[0][0] , A[0][1] , A[0][2] , A[3][0], A[49][1]) "
   ]
  },
  {
   "cell_type": "markdown",
   "metadata": {},
   "source": [
    "Uma possível forma de separar os dados seria percorrendo as colunas individualmente, p.ex.:"
   ]
  },
  {
   "cell_type": "code",
   "execution_count": 4,
   "metadata": {},
   "outputs": [],
   "source": [
    "idades = [ x[0] for x in A ] # for x in a percorre os 57 elementos de A, que sao na sua vez tambem listas\n",
    "alturas = [ x[1] for x in A]\n",
    "massas = [ x[2] for x in A]"
   ]
  },
  {
   "cell_type": "code",
   "execution_count": 6,
   "metadata": {},
   "outputs": [
    {
     "data": {
      "text/plain": [
       "(array([43.,  8.,  1.,  1.,  2.,  0.,  1.,  0.,  0.,  1.]),\n",
       " array([17. , 19.7, 22.4, 25.1, 27.8, 30.5, 33.2, 35.9, 38.6, 41.3, 44. ]),\n",
       " <a list of 10 Patch objects>)"
      ]
     },
     "execution_count": 6,
     "metadata": {},
     "output_type": "execute_result"
    },
    {
     "data": {
      "image/png": "[encoded data removed]",
      "text/plain": [
       "<Figure size 432x288 with 1 Axes>"
      ]
     },
     "metadata": {
      "needs_background": "light"
     },
     "output_type": "display_data"
    }
   ],
   "source": [
    "import matplotlib.pyplot as plt\n",
    "plt.xlabel(\"idades (anos)\")\n",
    "plt.ylabel(\"frequencia (n. de alunos)\")\n",
    "plt.title(\"histograma das idades\")\n",
    "plt.hist(idades)"
   ]
  },
  {
   "cell_type": "markdown",
   "metadata": {},
   "source": [
    "Mas a solução acima não prevê um número arbitrário de colunas. Para isto podemos tentar ___transpor___ a matriz `A`, isto levaria em conta dimensões arbitrárias da matriz. \n",
    "\n",
    "### Exercício : Crie uma função que faça a transposição de uma matriz salva como uma lista de listas (lista de linhas). Utilize-a a partir de um módulo."
   ]
  },
  {
   "cell_type": "code",
   "execution_count": 7,
   "metadata": {},
   "outputs": [
    {
     "name": "stdout",
     "output_type": "stream",
     "text": [
      "[[0, 1, 0], [3, 5, 8], [12, 15, 55]]\n",
      "[[0, 3, 12], [1, 5, 15], [0, 8, 55]]\n"
     ]
    }
   ],
   "source": [
    "from  moduloT  import transpor\n",
    "B=[[0,1,0],[3,5,8],[12,15,55]]\n",
    "print(B)\n",
    "print(transpor(B))\n"
   ]
  },
  {
   "cell_type": "markdown",
   "metadata": {},
   "source": [
    "Logo, assignar as listas de variáveis a um dicionário com ___key___ o número de coluna agora é trivial:\n"
   ]
  },
  {
   "cell_type": "code",
   "execution_count": 9,
   "metadata": {},
   "outputs": [
    {
     "name": "stdout",
     "output_type": "stream",
     "text": [
      "{0: [18.0, 18.0, 18.0, 18.0, 19.0, 18.0, 21.0, 18.0, 18.0, 18.0, 17.0, 18.0, 18.0, 17.0, 19.0, 22.0, 18.0, 19.0, 18.0, 20.0, 17.0, 18.0, 18.0, 17.0, 19.0, 18.0, 34.0, 18.0, 19.0, 18.0, 18.0, 20.0, 18.0, 23.0, 18.0, 18.0, 17.0, 19.0, 18.0, 18.0, 19.0, 19.0, 28.0, 19.0, 26.0, 19.0, 19.0, 20.0, 20.0, 19.0, 22.0, 19.0, 18.0, 28.0, 20.0, 44.0, 18.0], 1: [1.68, 1.94, 1.7, 1.76, 1.73, 1.66, 1.8, 1.6, 1.67, 1.73, 1.73, 1.61, 1.69, 1.71, 1.78, 1.68, 1.7, 1.64, 1.64, 1.8, 1.75, 1.78, 1.75, 1.69, 1.78, 1.7, 1.75, 1.64, 1.75, 1.67, 1.7, 1.8, 1.63, 1.89, 1.71, 1.65, 1.72, 1.65, 1.75, 1.7, 1.81, 1.65, 1.52, 1.79, 1.79, 1.75, 1.8, 1.75, 1.73, 1.7, 1.78, 1.77, 1.53, 1.54, 1.83, 1.85, 1.6], 2: [80.0, 60.0, 80.0, 66.0, 87.5, 58.0, 92.0, 57.0, 64.0, 57.0, 75.0, 59.0, 90.0, 67.0, 60.0, 72.0, 73.0, 86.0, 75.0, 95.0, 60.0, 75.0, 65.0, 60.0, 73.0, 63.0, 78.0, 64.0, 50.0, 61.0, 70.0, 60.0, 57.0, 110.0, 71.0, 65.0, 67.0, 58.0, 90.0, 64.0, 70.0, 43.0, 50.0, 78.0, 82.0, 61.0, 70.0, 70.0, 70.0, 50.0, 72.0, 55.0, 58.0, 50.0, 70.0, 90.0, 51.0]}\n"
     ]
    }
   ],
   "source": [
    "AT = transpor(A)\n",
    "dicionario={}\n",
    "\n",
    "for i  in  range (0,len(AT)):\n",
    "    dicionario[i] = AT[i]\n",
    "print(dicionario[0])\n",
    "    "
   ]
  },
  {
   "cell_type": "code",
   "execution_count": 10,
   "metadata": {},
   "outputs": [
    {
     "name": "stdout",
     "output_type": "stream",
     "text": [
      "{'idade': [18.0, 18.0, 18.0, 18.0, 19.0, 18.0, 21.0, 18.0, 18.0, 18.0, 17.0, 18.0, 18.0, 17.0, 19.0, 22.0, 18.0, 19.0, 18.0, 20.0, 17.0, 18.0, 18.0, 17.0, 19.0, 18.0, 34.0, 18.0, 19.0, 18.0, 18.0, 20.0, 18.0, 23.0, 18.0, 18.0, 17.0, 19.0, 18.0, 18.0, 19.0, 19.0, 28.0, 19.0, 26.0, 19.0, 19.0, 20.0, 20.0, 19.0, 22.0, 19.0, 18.0, 28.0, 20.0, 44.0, 18.0], 'altura': [1.68, 1.94, 1.7, 1.76, 1.73, 1.66, 1.8, 1.6, 1.67, 1.73, 1.73, 1.61, 1.69, 1.71, 1.78, 1.68, 1.7, 1.64, 1.64, 1.8, 1.75, 1.78, 1.75, 1.69, 1.78, 1.7, 1.75, 1.64, 1.75, 1.67, 1.7, 1.8, 1.63, 1.89, 1.71, 1.65, 1.72, 1.65, 1.75, 1.7, 1.81, 1.65, 1.52, 1.79, 1.79, 1.75, 1.8, 1.75, 1.73, 1.7, 1.78, 1.77, 1.53, 1.54, 1.83, 1.85, 1.6], 'massa': [80.0, 60.0, 80.0, 66.0, 87.5, 58.0, 92.0, 57.0, 64.0, 57.0, 75.0, 59.0, 90.0, 67.0, 60.0, 72.0, 73.0, 86.0, 75.0, 95.0, 60.0, 75.0, 65.0, 60.0, 73.0, 63.0, 78.0, 64.0, 50.0, 61.0, 70.0, 60.0, 57.0, 110.0, 71.0, 65.0, 67.0, 58.0, 90.0, 64.0, 70.0, 43.0, 50.0, 78.0, 82.0, 61.0, 70.0, 70.0, 70.0, 50.0, 72.0, 55.0, 58.0, 50.0, 70.0, 90.0, 51.0]}\n"
     ]
    }
   ],
   "source": [
    "nome_coluna=[\"idade\",\"altura\",\"massa\"]\n",
    "diciNome={}\n",
    "\n",
    "for i  in  range (0,len(AT)):\n",
    "    diciNome[nome_coluna[i]] = AT[i]\n",
    "print(diciNome)"
   ]
  },
  {
   "cell_type": "code",
   "execution_count": 11,
   "metadata": {},
   "outputs": [
    {
     "data": {
      "text/plain": [
       "(array([ 3.,  2.,  5.,  8., 11., 13., 11.,  2.,  1.,  1.]),\n",
       " array([1.52 , 1.562, 1.604, 1.646, 1.688, 1.73 , 1.772, 1.814, 1.856,\n",
       "        1.898, 1.94 ]),\n",
       " <a list of 10 Patch objects>)"
      ]
     },
     "execution_count": 11,
     "metadata": {},
     "output_type": "execute_result"
    },
    {
     "data": {
      "image/png": "[encoded data removed]",
      "text/plain": [
       "<Figure size 432x288 with 1 Axes>"
      ]
     },
     "metadata": {
      "needs_background": "light"
     },
     "output_type": "display_data"
    }
   ],
   "source": [
    "plt.xlabel(\"altura (m)\")\n",
    "plt.hist(diciNome[\"altura\"])"
   ]
  },
  {
   "cell_type": "code",
   "execution_count": null,
   "metadata": {},
   "outputs": [],
   "source": []
  }
 ],
 "metadata": {
  "kernelspec": {
   "display_name": "Python 3",
   "language": "python",
   "name": "python3"
  },
  "language_info": {
   "codemirror_mode": {
    "name": "ipython",
    "version": 3
   },
   "file_extension": ".py",
   "mimetype": "text/x-python",
   "name": "python",
   "nbconvert_exporter": "python",
   "pygments_lexer": "ipython3",
   "version": "3.7.0"
  }
 },
 "nbformat": 4,
 "nbformat_minor": 2
}
