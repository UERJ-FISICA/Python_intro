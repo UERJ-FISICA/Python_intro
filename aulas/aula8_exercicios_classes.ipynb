{
 "cells": [
  {
   "cell_type": "markdown",
   "metadata": {},
   "source": [
    "# Exercícios da aula passada:\n",
    "\n",
    "1) Escreva uma função que calcula a distância entre dois pontos, usando a classe Ponto que fizemos nessa aula.\n",
    "\n",
    "2) Adicione um método reflexao_x à classe Ponto que retorna uma instância de Ponto, que é o reflexo do Ponto sobre o eixo x. Por exemplo, Point (3, 5) .reflexao_x () é (3, -5)\n",
    "\n",
    "3) Adicione um método ***inclinacao_da_origem*** à classe Ponto, que retorne a inclinação da linha que une a origem ao Ponto. Por exemplo,"
   ]
  },
  {
   "cell_type": "code",
   "execution_count": 5,
   "metadata": {},
   "outputs": [
    {
     "data": {
      "text/plain": [
       "2.5"
      ]
     },
     "execution_count": 5,
     "metadata": {},
     "output_type": "execute_result"
    }
   ],
   "source": [
    "from Ponto import *\n",
    "Ponto(4, 10).inclinacao_origem()"
   ]
  },
  {
   "cell_type": "markdown",
   "metadata": {},
   "source": [
    "O que pode dar errado com esse programa?\n",
    "\n",
    "4) A equação de uma linha reta é “y = ax + b”. Os coeficientes a e b descrevem completamente a linha. Escreva um método na classe Ponto para que, se uma instância Ponto receber outro Ponto, calcule a equação da linha reta que une os dois pontos. Deve retornar os dois coeficientes como uma tupla de dois valores. Por exemplo,"
   ]
  },
  {
   "cell_type": "code",
   "execution_count": 6,
   "metadata": {},
   "outputs": [
    {
     "name": "stdout",
     "output_type": "stream",
     "text": [
      "(2.0, 3.0)\n"
     ]
    }
   ],
   "source": [
    "from Ponto import *\n",
    "print(Ponto(4,11).parametros_reta(Ponto(6,15)))"
   ]
  },
  {
   "cell_type": "markdown",
   "metadata": {},
   "source": [
    "O resultado acima nos diz que a equação da reta é y = 2x + 3. Quando esse método falha?"
   ]
  },
  {
   "cell_type": "markdown",
   "metadata": {},
   "source": [
    "# Exercícios da aula de hoje:\n",
    "\n",
    "5) Usando a classe **Ponto** criada na última aula escreva uma classe **Retangulo**. A definição da classe Retangulo é:\n",
    "**Dica**: use o método criado no exercício 1)."
   ]
  },
  {
   "cell_type": "code",
   "execution_count": 7,
   "metadata": {},
   "outputs": [],
   "source": [
    "class Rectangle:\n",
    "    \"\"\"Representa um retangulo. \n",
    "\n",
    "    atributos: \n",
    "    - largura, do tipo float\n",
    "    - altura, do tipo float \n",
    "    - canto, do tipo Ponto.\n",
    "    \"\"\""
   ]
  },
  {
   "cell_type": "markdown",
   "metadata": {},
   "source": [
    "6) Escreva uma definição para uma classe chamada **Circulo** com atributos ***centro*** e ***raio***, em que ***centro*** é um objeto do tipo **Ponto** e ***raio*** é um número.\n",
    "   * Instancie um objeto **Circulo** que represente um círculo com seu centro em (150, 100) e raio 75 e imprima na tela as coordenadas (x,y) do centro do círculo.\n",
    "   * Escreva uma função chamada ponto_no_circulo que use um Circulo e um Ponto e retorne True se o Ponto estiver dentro do círculo ou no limite do mesmo.\n",
    "   \n",
    "7) Escreva uma função chamada **desenhar_ret** que use um objeto ***Turtle*** e um ***Retangulo*** e use o Turtle para desenhar o retângulo.\n",
    "\n",
    "8) Escreva uma função chamada desenhar_circulo que use uma ***Turtle*** e um ***Circulo*** e desenhe o ***Circulo***."
   ]
  },
  {
   "cell_type": "code",
   "execution_count": null,
   "metadata": {},
   "outputs": [],
   "source": []
  }
 ],
 "metadata": {
  "kernelspec": {
   "display_name": "Python 3",
   "language": "python",
   "name": "python3"
  },
  "language_info": {
   "codemirror_mode": {
    "name": "ipython",
    "version": 3
   },
   "file_extension": ".py",
   "mimetype": "text/x-python",
   "name": "python",
   "nbconvert_exporter": "python",
   "pygments_lexer": "ipython3",
   "version": "3.7.0"
  }
 },
 "nbformat": 4,
 "nbformat_minor": 2
}
