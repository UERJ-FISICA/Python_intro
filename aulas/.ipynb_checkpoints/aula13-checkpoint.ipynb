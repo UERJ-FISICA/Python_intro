{
 "cells": [
  {
   "cell_type": "markdown",
   "metadata": {},
   "source": [
    "# Arquivos e Módulos\n",
    "\n",
    "Este capítulo introduz a ideia de programas **“persistentes”** que mantêm os dados em armazenamento permanente e mostra como usar diferentes tipos de armazenamento permanente, como arquivos.\n",
    "\n",
    "\n",
    "## Persistência\n",
    "\n",
    "* A maioria dos programas que vimos até agora é **transitória**:\n",
    "   * são executados por um curto período de tempo e produzem alguma saída, mas quando terminam, seus dados desaparecem. \n",
    "   * Se você executar o programa novamente, ele começa do zero.\n",
    "\n",
    "* Outros programas são **persistentes**: \n",
    "   * são executados por um longo período (ou o tempo todo); \n",
    "   * mantêm pelo menos alguns dos seus dados em armazenamento permanente (um disco rígido, por exemplo); \n",
    "   * se eles desligarem e reiniciarem, eles continuam de onde pararam.\n",
    "   \n",
    "\n",
    "* Uma das formas mais simples de programas manterem seus dados é lendo e gravando arquivos de texto.\n",
    "* Outra alternativa é o uso de banco de dados, porém não abordaremos esse assunto aqui.\n",
    "\n",
    "\n",
    "## Leitura e escrita de arquivos\n",
    "\n",
    "Um arquivo de texto é uma sequência de caracteres armazenados em um meio permanente, como um disco rígido, uma memória flash ou um CD-ROM. \n",
    "\n",
    "### Leitura de um arquivo de texto\n",
    "Consideremos um arquivo já existente, 'dados_alunos.txt'\n",
    "Para ler o arquivo, usamos a seguinte sintaxe"
   ]
  },
  {
   "cell_type": "code",
   "execution_count": 2,
   "metadata": {},
   "outputs": [
    {
     "data": {
      "text/plain": [
       "'18\\t1.68\\t80\\n'"
      ]
     },
     "execution_count": 2,
     "metadata": {},
     "output_type": "execute_result"
    }
   ],
   "source": [
    "fin = open('dados_alunos.txt')\n",
    "fin.readline()"
   ]
  },
  {
   "cell_type": "markdown",
   "metadata": {},
   "source": [
    "O método .readline() se atualiza para cada linha lida:"
   ]
  },
  {
   "cell_type": "code",
   "execution_count": 3,
   "metadata": {},
   "outputs": [
    {
     "data": {
      "text/plain": [
       "'18\\t1.94\\t60\\n'"
      ]
     },
     "execution_count": 3,
     "metadata": {},
     "output_type": "execute_result"
    }
   ],
   "source": [
    "fin.readline()"
   ]
  },
  {
   "cell_type": "code",
   "execution_count": 4,
   "metadata": {},
   "outputs": [
    {
     "data": {
      "text/plain": [
       "'18\\t1.7\\t80'"
      ]
     },
     "execution_count": 4,
     "metadata": {},
     "output_type": "execute_result"
    }
   ],
   "source": [
    "linha = fin.readline()\n",
    "linha.strip()"
   ]
  },
  {
   "cell_type": "markdown",
   "metadata": {},
   "source": [
    "##### Lendo um arquivo com várias colunas:"
   ]
  },
  {
   "cell_type": "code",
   "execution_count": 14,
   "metadata": {},
   "outputs": [
    {
     "name": "stdout",
     "output_type": "stream",
     "text": [
      "['18\\t1.68\\t80\\n', '18\\t1.94\\t60\\n', '18\\t1.7\\t80\\n', '18\\t1.76\\t66\\n', '19\\t1.73\\t87.5\\n', '18\\t1.66\\t58\\n', '21\\t1.8\\t92\\n', '18\\t1.6\\t57\\n', '18\\t1.67\\t64\\n', '18\\t1.73\\t57\\n', '17\\t1.73\\t75\\n', '18\\t1.61\\t59\\n', '18\\t1.69\\t90\\n', '17\\t1.71\\t67\\n', '19\\t1.78\\t60\\n', '22\\t1.68\\t72\\n', '18\\t1.7\\t73\\n', '19\\t1.64\\t86\\n', '18\\t1.64\\t75\\n', '20\\t1.8\\t95\\n', '17\\t1.75\\t60\\n', '18\\t1.78\\t75\\n', '18\\t1.75\\t65\\n', '17\\t1.69\\t60\\n', '19\\t1.78\\t73\\n', '18\\t1.7\\t63\\n', '34\\t1.75\\t78\\n', '18\\t1.64\\t64\\n', '19\\t1.75\\t50\\n', '18\\t1.67\\t61\\n', '18\\t1.7\\t70\\n', '20\\t1.8\\t60\\n', '18\\t1.63\\t57\\n', '23\\t1.89\\t110\\n', '18\\t1.71\\t71\\n', '18\\t1.65\\t65\\n', '17\\t1.72\\t67\\n', '19\\t1.65\\t58\\n', '18\\t1.75\\t90\\n', '18\\t1.7\\t64\\n', '19\\t1.81\\t70\\n', '19\\t1.65\\t43\\n', '28\\t1.52\\t50\\n', '19\\t1.79\\t78\\n', '26\\t1.79\\t82\\n', '19\\t1.75\\t61\\n', '19\\t1.8\\t70\\n', '20\\t1.75\\t70\\n', '20\\t1.73\\t70\\n', '19\\t1.7\\t50\\n', '22\\t1.78\\t72\\n', '19\\t1.77\\t55\\n', '18\\t1.53\\t58\\n', '28\\t1.54\\t50\\n', '20\\t1.83\\t70\\n', '44\\t1.85\\t90\\n', '18\\t1.6\\t51\\n']\n"
     ]
    }
   ],
   "source": [
    "fin = open('dados_alunos.txt')\n",
    "linhas = fin.readlines()\n",
    "print (linhas)"
   ]
  },
  {
   "cell_type": "code",
   "execution_count": 15,
   "metadata": {},
   "outputs": [
    {
     "name": "stdout",
     "output_type": "stream",
     "text": [
      "['18', '1.68', '80']\n",
      "['18', '1.94', '60']\n",
      "['18', '1.7', '80']\n",
      "['18', '1.76', '66']\n",
      "['19', '1.73', '87.5']\n",
      "['18', '1.66', '58']\n",
      "['21', '1.8', '92']\n",
      "['18', '1.6', '57']\n",
      "['18', '1.67', '64']\n",
      "['18', '1.73', '57']\n",
      "['17', '1.73', '75']\n",
      "['18', '1.61', '59']\n",
      "['18', '1.69', '90']\n",
      "['17', '1.71', '67']\n",
      "['19', '1.78', '60']\n",
      "['22', '1.68', '72']\n",
      "['18', '1.7', '73']\n",
      "['19', '1.64', '86']\n",
      "['18', '1.64', '75']\n",
      "['20', '1.8', '95']\n",
      "['17', '1.75', '60']\n",
      "['18', '1.78', '75']\n",
      "['18', '1.75', '65']\n",
      "['17', '1.69', '60']\n",
      "['19', '1.78', '73']\n",
      "['18', '1.7', '63']\n",
      "['34', '1.75', '78']\n",
      "['18', '1.64', '64']\n",
      "['19', '1.75', '50']\n",
      "['18', '1.67', '61']\n",
      "['18', '1.7', '70']\n",
      "['20', '1.8', '60']\n",
      "['18', '1.63', '57']\n",
      "['23', '1.89', '110']\n",
      "['18', '1.71', '71']\n",
      "['18', '1.65', '65']\n",
      "['17', '1.72', '67']\n",
      "['19', '1.65', '58']\n",
      "['18', '1.75', '90']\n",
      "['18', '1.7', '64']\n",
      "['19', '1.81', '70']\n",
      "['19', '1.65', '43']\n",
      "['28', '1.52', '50']\n",
      "['19', '1.79', '78']\n",
      "['26', '1.79', '82']\n",
      "['19', '1.75', '61']\n",
      "['19', '1.8', '70']\n",
      "['20', '1.75', '70']\n",
      "['20', '1.73', '70']\n",
      "['19', '1.7', '50']\n",
      "['22', '1.78', '72']\n",
      "['19', '1.77', '55']\n",
      "['18', '1.53', '58']\n",
      "['28', '1.54', '50']\n",
      "['20', '1.83', '70']\n",
      "['44', '1.85', '90']\n",
      "['18', '1.6', '51']\n"
     ]
    }
   ],
   "source": [
    "for line in linhas:\n",
    "    #print (line)\n",
    "    column = line.strip().split('\\t')\n",
    "    print (column)"
   ]
  },
  {
   "cell_type": "markdown",
   "metadata": {},
   "source": [
    "## Escrita de um arquivo de texto\n",
    "\n",
    "Para escrever um arquivo, você precisa abri-lo com o modo 'w' como segundo parâmetro:"
   ]
  },
  {
   "cell_type": "code",
   "execution_count": 21,
   "metadata": {},
   "outputs": [],
   "source": [
    "fw = open('output.txt', 'w')"
   ]
  },
  {
   "cell_type": "markdown",
   "metadata": {},
   "source": [
    "Se o arquivo já existir, abri-lo no modo de escrita limpa os dados antigos e começa de novo. Se o arquivo não existir, um novo será criado.\n",
    "\n",
    "\n",
    "* ***open*** retorna um objeto de arquivo que fornece métodos para trabalhar com o arquivo. \n",
    "* O método ***write*** coloca dados no arquivo."
   ]
  },
  {
   "cell_type": "code",
   "execution_count": 22,
   "metadata": {},
   "outputs": [],
   "source": [
    "linha1 = fw.write('primeira linha do arquivo. \\n')\n",
    "linha2 = fw.write('segunda linha do arquivo. \\n')\n",
    "fw.close()"
   ]
  },
  {
   "cell_type": "markdown",
   "metadata": {},
   "source": [
    "## Operador de formatação\n",
    "\n",
    "O argumento do método ***write*** deve ser uma string, então, se quisermos colocar outros valores em um arquivo, temos que convertê-los em strings. A maneira mais fácil de fazer isso é com str."
   ]
  },
  {
   "cell_type": "code",
   "execution_count": 26,
   "metadata": {},
   "outputs": [
    {
     "data": {
      "text/plain": [
       "2"
      ]
     },
     "execution_count": 26,
     "metadata": {},
     "output_type": "execute_result"
    }
   ],
   "source": [
    "fout = open('ex_aula13.txt', 'w')\n",
    "x = 52\n",
    "fout.write(str(x))"
   ]
  },
  {
   "cell_type": "markdown",
   "metadata": {},
   "source": [
    "Uma alternativa é usar o operador de formatação,%. \n",
    "   * Quando aplicado a números inteiros,% é o operador de módulo. \n",
    "   * Quando o primeiro operando é uma string,% é o operador de formatação.\n",
    "\n",
    "\n",
    "Por exemplo, a seqüência de formato '% d' significa que o segundo operando deve ser formatado como um inteiro decimal:"
   ]
  },
  {
   "cell_type": "code",
   "execution_count": 27,
   "metadata": {},
   "outputs": [
    {
     "data": {
      "text/plain": [
       "'42'"
      ]
     },
     "execution_count": 27,
     "metadata": {},
     "output_type": "execute_result"
    }
   ],
   "source": [
    "camels = 42\n",
    "'%d' % camels\n",
    "'42'"
   ]
  },
  {
   "cell_type": "markdown",
   "metadata": {},
   "source": [
    "Uma seqüência de formato pode aparecer em qualquer lugar da string, então você pode inserir um valor em uma frase:"
   ]
  },
  {
   "cell_type": "code",
   "execution_count": 36,
   "metadata": {},
   "outputs": [
    {
     "data": {
      "text/plain": [
       "'Temos ainda pelo menos 1 projeto antes do final de 2018.2'"
      ]
     },
     "execution_count": 36,
     "metadata": {},
     "output_type": "execute_result"
    }
   ],
   "source": [
    "'Temos ainda pelo menos %i projeto antes do final de %4.1f' % (1, 2018.2) "
   ]
  },
  {
   "cell_type": "markdown",
   "metadata": {},
   "source": [
    "#### Outra forma de formatação é usando a função o método de string 'format':"
   ]
  },
  {
   "cell_type": "code",
   "execution_count": 43,
   "metadata": {},
   "outputs": [
    {
     "data": {
      "text/plain": [
       "'Temos ainda pelo menos 1 projeto antes do final de 2018.2'"
      ]
     },
     "execution_count": 43,
     "metadata": {},
     "output_type": "execute_result"
    }
   ],
   "source": [
    "'Temos ainda pelo menos {0} projeto antes do final de {1:4.1f}'.format(1, 2018.2)"
   ]
  },
  {
   "cell_type": "markdown",
   "metadata": {},
   "source": [
    "## Nomes de arquivo e caminhos\n",
    "\n",
    "Através do módulo ***os*** podemos ter acesso a informação sobre diretórios e arquivos: "
   ]
  },
  {
   "cell_type": "code",
   "execution_count": 45,
   "metadata": {},
   "outputs": [
    {
     "data": {
      "text/plain": [
       "'/Users/helenamalbouisson/cernbox/Work/UERJ/Aulas/PYTHON/2018-2/Python_intro/aulas'"
      ]
     },
     "execution_count": 45,
     "metadata": {},
     "output_type": "execute_result"
    }
   ],
   "source": [
    "import os\n",
    "cwd = os.getcwd()    #current working directory (diretório de trabalho)\n",
    "cwd"
   ]
  },
  {
   "cell_type": "markdown",
   "metadata": {},
   "source": [
    "O módulo ***os*** fornece vários métodos úteis de verificação de ***path*** e listagem de arquivos em um dado diretório:"
   ]
  },
  {
   "cell_type": "code",
   "execution_count": 47,
   "metadata": {},
   "outputs": [
    {
     "data": {
      "text/plain": [
       "'/Users/helenamalbouisson/cernbox/Work/UERJ/Aulas/PYTHON/2018-2/Python_intro/aulas/ex_aula13.txt'"
      ]
     },
     "execution_count": 47,
     "metadata": {},
     "output_type": "execute_result"
    }
   ],
   "source": [
    "os.path.abspath('ex_aula13.txt')"
   ]
  },
  {
   "cell_type": "code",
   "execution_count": 48,
   "metadata": {},
   "outputs": [
    {
     "data": {
      "text/plain": [
       "True"
      ]
     },
     "execution_count": 48,
     "metadata": {},
     "output_type": "execute_result"
    }
   ],
   "source": [
    "os.path.exists('ex_aula13.txt')"
   ]
  },
  {
   "cell_type": "code",
   "execution_count": 49,
   "metadata": {},
   "outputs": [
    {
     "data": {
      "text/plain": [
       "False"
      ]
     },
     "execution_count": 49,
     "metadata": {},
     "output_type": "execute_result"
    }
   ],
   "source": [
    "os.path.isdir('ex_aula13.txt')"
   ]
  },
  {
   "cell_type": "code",
   "execution_count": 50,
   "metadata": {},
   "outputs": [
    {
     "data": {
      "text/plain": [
       "True"
      ]
     },
     "execution_count": 50,
     "metadata": {},
     "output_type": "execute_result"
    }
   ],
   "source": [
    "os.path.isdir('/Users/helenamalbouisson/cernbox/Work/UERJ/Aulas/PYTHON/2018-2/Python_intro/aulas/')"
   ]
  },
  {
   "cell_type": "code",
   "execution_count": 51,
   "metadata": {},
   "outputs": [
    {
     "data": {
      "text/plain": [
       "True"
      ]
     },
     "execution_count": 51,
     "metadata": {},
     "output_type": "execute_result"
    }
   ],
   "source": [
    "os.path.isfile('ex_aula13.txt')"
   ]
  },
  {
   "cell_type": "code",
   "execution_count": 52,
   "metadata": {},
   "outputs": [
    {
     "data": {
      "text/plain": [
       "['.ipynb_checkpoints',\n",
       " 'aula10.ipynb',\n",
       " 'aula11.ipynb',\n",
       " 'aula12.ipynb',\n",
       " 'aula13.ipynb',\n",
       " 'aula1_o_que_e_python.ipynb',\n",
       " 'aula2.ipynb',\n",
       " 'aula3.ipynb',\n",
       " 'aula4.ipynb',\n",
       " 'aula5.ipynb',\n",
       " 'aula6.ipynb',\n",
       " 'aula7.ipynb',\n",
       " 'aula8.ipynb',\n",
       " 'aula9.ipynb',\n",
       " 'dados_alunos.txt',\n",
       " 'ex_aula13.txt',\n",
       " 'output.txt',\n",
       " 'pics']"
      ]
     },
     "execution_count": 52,
     "metadata": {},
     "output_type": "execute_result"
    }
   ],
   "source": [
    "os.listdir(cwd)   # lista os arquivos e subdiretórios do diretório atual"
   ]
  },
  {
   "cell_type": "markdown",
   "metadata": {},
   "source": [
    "## Capturando exceções\n",
    "\n",
    "Há formas de prever e lidar com erros exceções. \n",
    "\n",
    "Alguns exemplos de exceções:"
   ]
  },
  {
   "cell_type": "code",
   "execution_count": 53,
   "metadata": {},
   "outputs": [
    {
     "ename": "FileNotFoundError",
     "evalue": "[Errno 2] No such file or directory: 'bad_file'",
     "output_type": "error",
     "traceback": [
      "\u001b[0;31m---------------------------------------------------------------------------\u001b[0m",
      "\u001b[0;31mFileNotFoundError\u001b[0m                         Traceback (most recent call last)",
      "\u001b[0;32m<ipython-input-53-a7d7d7ad396b>\u001b[0m in \u001b[0;36m<module>\u001b[0;34m()\u001b[0m\n\u001b[0;32m----> 1\u001b[0;31m \u001b[0mfin\u001b[0m \u001b[0;34m=\u001b[0m \u001b[0mopen\u001b[0m\u001b[0;34m(\u001b[0m\u001b[0;34m'bad_file'\u001b[0m\u001b[0;34m)\u001b[0m\u001b[0;34m\u001b[0m\u001b[0m\n\u001b[0m",
      "\u001b[0;31mFileNotFoundError\u001b[0m: [Errno 2] No such file or directory: 'bad_file'"
     ]
    }
   ],
   "source": [
    "fin = open('bad_file')    # quando o arquivo não existe"
   ]
  },
  {
   "cell_type": "code",
   "execution_count": 54,
   "metadata": {},
   "outputs": [
    {
     "ename": "PermissionError",
     "evalue": "[Errno 13] Permission denied: '/etc/passwd'",
     "output_type": "error",
     "traceback": [
      "\u001b[0;31m---------------------------------------------------------------------------\u001b[0m",
      "\u001b[0;31mPermissionError\u001b[0m                           Traceback (most recent call last)",
      "\u001b[0;32m<ipython-input-54-f2769c1a93f5>\u001b[0m in \u001b[0;36m<module>\u001b[0;34m()\u001b[0m\n\u001b[0;32m----> 1\u001b[0;31m \u001b[0mfout\u001b[0m \u001b[0;34m=\u001b[0m \u001b[0mopen\u001b[0m\u001b[0;34m(\u001b[0m\u001b[0;34m'/etc/passwd'\u001b[0m\u001b[0;34m,\u001b[0m \u001b[0;34m'w'\u001b[0m\u001b[0;34m)\u001b[0m  \u001b[0;31m# quando não temos permissão de escrever no diretório\u001b[0m\u001b[0;34m\u001b[0m\u001b[0m\n\u001b[0m",
      "\u001b[0;31mPermissionError\u001b[0m: [Errno 13] Permission denied: '/etc/passwd'"
     ]
    }
   ],
   "source": [
    "fout = open('/etc/passwd', 'w')  # quando não temos permissão de escrever no diretório"
   ]
  },
  {
   "cell_type": "code",
   "execution_count": 55,
   "metadata": {},
   "outputs": [
    {
     "ename": "IsADirectoryError",
     "evalue": "[Errno 21] Is a directory: '/home'",
     "output_type": "error",
     "traceback": [
      "\u001b[0;31m---------------------------------------------------------------------------\u001b[0m",
      "\u001b[0;31mIsADirectoryError\u001b[0m                         Traceback (most recent call last)",
      "\u001b[0;32m<ipython-input-55-9d2bc6c8f5af>\u001b[0m in \u001b[0;36m<module>\u001b[0;34m()\u001b[0m\n\u001b[0;32m----> 1\u001b[0;31m \u001b[0mfin\u001b[0m \u001b[0;34m=\u001b[0m \u001b[0mopen\u001b[0m\u001b[0;34m(\u001b[0m\u001b[0;34m'/home'\u001b[0m\u001b[0;34m)\u001b[0m  \u001b[0;31m# tentativa de abrir um diretório para leitura\u001b[0m\u001b[0;34m\u001b[0m\u001b[0m\n\u001b[0m",
      "\u001b[0;31mIsADirectoryError\u001b[0m: [Errno 21] Is a directory: '/home'"
     ]
    }
   ],
   "source": [
    "fin = open('/home')  # tentativa de abrir um diretório para leitura"
   ]
  },
  {
   "cell_type": "markdown",
   "metadata": {},
   "source": [
    "**Para evitar esses erros, você poderia usar funções como *os.path.exists* e *os.path.isfile*, mas levaria muito tempo e código para verificar todas as possibilidades (se “Errno 21” for qualquer indicação, há pelo menos 21 coisas que podem dar errado).**\n",
    "\n",
    "É melhor fazer uma tentativa e lidar com possíveis problemas. A declaração **try** faz isso!!!!"
   ]
  },
  {
   "cell_type": "code",
   "execution_count": 57,
   "metadata": {},
   "outputs": [
    {
     "name": "stdout",
     "output_type": "stream",
     "text": [
      "Algo de errado aconteceu.\n"
     ]
    }
   ],
   "source": [
    "try:    \n",
    "    fin = open('bad_file')\n",
    "except:\n",
    "    print('Algo de errado aconteceu.')"
   ]
  },
  {
   "cell_type": "markdown",
   "metadata": {},
   "source": [
    "* O Python começa executando a cláusula ***try***. \n",
    "   * Se tudo correr bem:\n",
    "      * ele pula a cláusula ***except*** e continua. \n",
    "   * Se ocorrer uma exceção: \n",
    "      * ele sai da cláusula ***try*** e executa a cláusula ***except***.\n",
    "      \n",
    "\n",
    "* Manipular uma exceção com uma instrução ***try*** é chamado de **captura de uma exceção**. "
   ]
  },
  {
   "cell_type": "markdown",
   "metadata": {},
   "source": [
    "## Tubos (pipes)\n",
    "\n",
    "A maioria dos sistemas operacionais fornece uma **interface de linha de comando**, também conhecida como **shell**. As shells geralmente fornecem comandos para navegar no sistema de arquivos e iniciar aplicativos.\n",
    "\n",
    "\n",
    "Qualquer programa que você pode iniciar a partir da shell também pode ser iniciado a partir do Python usando um objeto **pipe**, que representa um programa em execução.\n",
    "\n",
    "Por exemplo, o comando Unix *ls -l* exibe o conteúdo do diretório atual em formato longo. Você pode iniciar o *ls* com ***os.popen***:"
   ]
  },
  {
   "cell_type": "code",
   "execution_count": 61,
   "metadata": {},
   "outputs": [],
   "source": [
    "cmd = 'ls -lh'\n",
    "fp = os.popen(cmd)"
   ]
  },
  {
   "cell_type": "markdown",
   "metadata": {},
   "source": [
    "* O argumento é uma string que contém um comando shell. \n",
    "* O valor de retorno é um objeto que se comporta como um arquivo aberto. \n",
    "* Você pode ler a saída do processo *ls* uma linha de cada vez com ***readline*** ou obter tudo de uma vez com ***read***:"
   ]
  },
  {
   "cell_type": "code",
   "execution_count": 60,
   "metadata": {},
   "outputs": [
    {
     "data": {
      "text/plain": [
       "'-rw-r--r--   1 helenamalbouisson  staff  17558 Nov  6 15:32 aula10.ipynb\\n-rw-r--r--   1 helenamalbouisson  staff  15807 Nov 21 16:21 aula11.ipynb\\n-rw-r--r--   1 helenamalbouisson  staff  21816 Nov 21 16:16 aula12.ipynb\\n-rw-r--r--   1 helenamalbouisson  staff  20369 Nov 28 15:21 aula13.ipynb\\n-rw-r--r--   1 helenamalbouisson  staff  24196 Sep 28 11:08 aula1_o_que_e_python.ipynb\\n-rw-r--r--   1 helenamalbouisson  staff  39762 Oct  3 15:53 aula2.ipynb\\n-rw-r--r--   1 helenamalbouisson  staff  16565 Oct 17 15:53 aula3.ipynb\\n-rw-r--r--   1 helenamalbouisson  staff  26729 Oct 17 15:53 aula4.ipynb\\n-rw-r--r--   1 helenamalbouisson  staff   1206 Oct 17 16:16 aula5.ipynb\\n-rw-r--r--@  1 helenamalbouisson  staff  14441 Oct 24 16:02 aula6.ipynb\\n-rw-r--r--   1 helenamalbouisson  staff  11958 Oct 24 16:33 aula7.ipynb\\n-rw-r--r--   1 helenamalbouisson  staff  16115 Oct 26 12:49 aula8.ipynb\\n-rw-r--r--   1 helenamalbouisson  staff  30268 Nov  6 10:43 aula9.ipynb\\n-rw-r--r--@  1 helenamalbouisson  staff    618 Nov 28 13:51 dados_alunos.txt\\n-rw-r--r--   1 helenamalbouisson  staff      0 Nov 28 14:25 ex_aula13.txt\\n-rw-r--r--   1 helenamalbouisson  staff     55 Nov 28 14:20 output.txt\\ndrwxr-xr-x  20 helenamalbouisson  staff    680 Nov 21 15:09 pics\\n'"
      ]
     },
     "execution_count": 60,
     "metadata": {},
     "output_type": "execute_result"
    }
   ],
   "source": [
    "fp.read()"
   ]
  },
  {
   "cell_type": "code",
   "execution_count": 63,
   "metadata": {},
   "outputs": [
    {
     "name": "stdout",
     "output_type": "stream",
     "text": [
      "None\n"
     ]
    }
   ],
   "source": [
    "stat = fp.close()\n",
    "print(stat)"
   ]
  },
  {
   "cell_type": "markdown",
   "metadata": {},
   "source": [
    "O valor de retorno é o status final do processo ls; ***None*** significa que terminou normalmente (sem erros)."
   ]
  },
  {
   "cell_type": "markdown",
   "metadata": {},
   "source": [
    "## Módulos de escrita\n",
    "\n",
    "Qualquer arquivo que contenha código Python pode ser importado como um módulo. Por exemplo, suponha que você tenha um arquivo chamado wc.py com o seguinte código:"
   ]
  },
  {
   "cell_type": "code",
   "execution_count": 66,
   "metadata": {},
   "outputs": [
    {
     "name": "stdout",
     "output_type": "stream",
     "text": [
      "7\n"
     ]
    }
   ],
   "source": [
    "def linecount(filename):\n",
    "    count = 0\n",
    "    for line in open(filename):\n",
    "        count += 1\n",
    "    return count\n",
    "\n",
    "print(linecount('wc.py'))"
   ]
  },
  {
   "cell_type": "markdown",
   "metadata": {},
   "source": [
    "Se você executar este programa, ele lê a si mesmo e imprime o número de linhas no arquivo, que é 7. \n",
    "\n",
    "Você também pode importá-lo:"
   ]
  },
  {
   "cell_type": "code",
   "execution_count": 69,
   "metadata": {},
   "outputs": [],
   "source": [
    "import wc"
   ]
  },
  {
   "cell_type": "markdown",
   "metadata": {},
   "source": [
    "Agora temos um **objeto** wc com seus métodos associados."
   ]
  },
  {
   "cell_type": "code",
   "execution_count": 70,
   "metadata": {},
   "outputs": [
    {
     "data": {
      "text/plain": [
       "57"
      ]
     },
     "execution_count": 70,
     "metadata": {},
     "output_type": "execute_result"
    }
   ],
   "source": [
    "wc.linecount('dados_alunos.txt')"
   ]
  },
  {
   "cell_type": "markdown",
   "metadata": {},
   "source": [
    "* O único problema com este exemplo é que quando você importa o módulo, ele executa o código de teste na parte inferior. \n",
    "\n",
    "* Normalmente, quando você importa um módulo, ele define novas funções, mas não as executa.\n",
    "\n",
    "Programas que serão importados como módulos geralmente usam o seguinte idioma:"
   ]
  },
  {
   "cell_type": "code",
   "execution_count": 71,
   "metadata": {},
   "outputs": [
    {
     "name": "stdout",
     "output_type": "stream",
     "text": [
      "7\n"
     ]
    }
   ],
   "source": [
    "if __name__ == '__main__':\n",
    "    print(linecount('wc.py'))"
   ]
  },
  {
   "cell_type": "markdown",
   "metadata": {},
   "source": [
    "__name__ é uma variável interna que é configurada quando o programa é iniciado. \n",
    "\n",
    "Se o programa estiver sendo executado como um script, __name__ tem o valor '__main__'; \n",
    "\n",
    "Nesse caso, o código de teste é executado. \n",
    "\n",
    "Caso contrário, se o módulo estiver sendo importado, o código de teste será ignorado."
   ]
  },
  {
   "cell_type": "markdown",
   "metadata": {},
   "source": [
    "## Exercícios:\n",
    "\n",
    "1) Utilizando um arquivo de dados com várias colunas (por exemplo, o arquivo dados_alunos.txt), faça um histograma com os dados de cada uma das colunas. **Dica**: utilize o ***matplotlib*** para fazer os histogramas.\n",
    "\n",
    "2) Estudo os métodos do módulo ***os*** e faça um script que liste todos os arquivos de um dado diretório assim como de seus subdiretórios. **Dica**: use o método ***walk***\n",
    "\n",
    "3) Reescreva o script dessa aula, wc.py na forma de uma módulo. Qual o valor da variável __name__ quando o módulo é importado?"
   ]
  },
  {
   "cell_type": "code",
   "execution_count": null,
   "metadata": {},
   "outputs": [],
   "source": []
  }
 ],
 "metadata": {
  "kernelspec": {
   "display_name": "Python 3",
   "language": "python",
   "name": "python3"
  },
  "language_info": {
   "codemirror_mode": {
    "name": "ipython",
    "version": 3
   },
   "file_extension": ".py",
   "mimetype": "text/x-python",
   "name": "python",
   "nbconvert_exporter": "python",
   "pygments_lexer": "ipython3",
   "version": "3.6.4"
  }
 },
 "nbformat": 4,
 "nbformat_minor": 2
}
