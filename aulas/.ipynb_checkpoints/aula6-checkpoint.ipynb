{
 "cells": [
  {
   "cell_type": "markdown",
   "metadata": {},
   "source": [
    "# Tartarugas!\n",
    "\n",
    "AVISO: essa aula foi feita em sua quase totalidade como tradução do capítulo 3 do livro texto: http://openbookproject.net/thinkcs/python/english3e/index.html\n",
    "\n",
    "Referência: http://greenteapress.com/thinkpython2/html/thinkpython2005.html#sec42"
   ]
  },
  {
   "cell_type": "markdown",
   "metadata": {},
   "source": [
    "Existem **muitos** módulos em Python que fornecem recursos muito poderosos que podemos usar. \n",
    "   * Alguns enviam e-mails ou buscam páginas da web;\n",
    "   * outros fazem histogramas\n",
    "   * ou cálculo matricial\n",
    "   * ou gráficos\n",
    "   * ou até mesmo jogos, entre vários outros.\n",
    "   \n",
    "O módulo que veremos neste capítulo nos permite criar **tartarugas** e fazê-las desenhar formas e padrões.\n",
    "\n",
    "A maior parte do Python aqui abordado será explorada com mais profundidade posteriormente."
   ]
  },
  {
   "cell_type": "markdown",
   "metadata": {},
   "source": [
    "## Nosso primeiro programa de tartaruga\n",
    "\n",
    "Criaremos em Python uma nova tartaruga e vamos **desenhar um retângulo**. \n",
    "\n",
    "Nossa tartaruguinha se chamará joana."
   ]
  },
  {
   "cell_type": "code",
   "execution_count": 1,
   "metadata": {},
   "outputs": [],
   "source": [
    "import turtle             # nos permite usar as tartarugas (turtles)\n",
    "jn = turtle.Screen()      # Abre uma janela onde as tartarugas vão caminhar\n",
    "joana = turtle.Turtle()    # Cria uma tartaruga, atribui a joana\n",
    "\n",
    "joana.forward(50)          # diz para joana andar para frente por 50 unidades\n",
    "joana.left(90)             # diz para joana virar de 90 graus\n",
    "joana.forward(30)          # Completa o segundo lado do retângulo\n",
    "\n",
    "jn.mainloop()             # Espera o usuário fechar a janela"
   ]
  },
  {
   "cell_type": "markdown",
   "metadata": {},
   "source": [
    "O que acontece ao rodar o programa acima?"
   ]
  },
  {
   "cell_type": "markdown",
   "metadata": {},
   "source": [
    "### Observações sobre o código acima\n",
    "\n",
    "* ***import turtle***: carregar um módulo chamado tartaruga. \n",
    "   * Esse módulo nos traz dois novos **tipos** que podemos usar: **o tipo Turtle e o tipo Screen**. \n",
    "   * A notação de ponto ***turtle.Turtle*** significa “O tipo de tartaruga que é definido dentro do módulo de tartaruga”.\n",
    "\n",
    "\n",
    "\n",
    "* ***jn = turtle.Screen()***: criar e abrir o que chamamos de janela, que atribuímos à variável jn. \n",
    "   * Cada janela contém uma **canvas**(tela), que é a área dentro da janela na qual podemos desenhar.\n",
    "\n",
    "\n",
    "\n",
    "* ***joana = turtle.Turtle()***: criar uma tartaruga. A variável ****joana*** é declarada para se referir a esta tartaruga.\n",
    "\n",
    "\n",
    "\n",
    "* Essas três primeiras linhas se encarregaram das defições. Estamos prontos para fazer com que nossa tartaruga desenhe na tela.\n",
    "\n",
    "\n",
    "\n",
    "* **Invocar ou ativar os métodos do objeto joana**: fazer joana se mover e a girar. \n",
    "   * joana.forward(50)\n",
    "   * joana.left(90) \n",
    "   \n",
    "   \n",
    "   \n",
    "* método mainloop: o programa só terminará quando o usuário fechar a janela.\n",
    "\n",
    "\n",
    "\n",
    "* **Um objeto pode ter vários métodos** - coisas que ele pode fazer - **e também pode ter atributos**  \n",
    "   * cada tartaruga tem um atributo de **cor**: A invocação do método joana.color (\"red\") tornará joana vermelha (red), e o desenho será vermelho também.\n",
    "\n",
    "\n",
    "\n",
    "* **Estado** atual da tartaruga: é o conjunto de atributos atuais, e também posição, rotação, etc, ...\n",
    "   * O objeto da janela tem uma cor de fundo, texto na barra de título e um tamanho e posição na tela. Tudo isso faz parte do **estado do objeto** da janela.\n",
    "\n",
    "\n",
    "\n",
    "* Existe um grande número de **métodos que nos permitem modificar a tartaruga e os objetos da janela**. \n",
    "\n"
   ]
  },
  {
   "cell_type": "code",
   "execution_count": 3,
   "metadata": {},
   "outputs": [],
   "source": [
    "import turtle\n",
    "jn = turtle.Screen()\n",
    "jn.bgcolor(\"lightgreen\")      # Definir a cor de fundo da janela\n",
    "jn.title(\"Olá, Tess!\")      # Definir o título da janela\n",
    "\n",
    "teca = turtle.Turtle()\n",
    "teca.color(\"blue\")            # Dizer à Teca para mudar sua cor (atributo)\n",
    "teca.pensize(3)               # Diga a Teca para ajustar a largura da caneta (atributo)\n",
    "\n",
    "teca.forward(50)\n",
    "teca.left(120)\n",
    "teca.forward(50)\n",
    "\n",
    "jn.mainloop()"
   ]
  },
  {
   "cell_type": "markdown",
   "metadata": {},
   "source": [
    "## Instâncias - uma manada de tartarugas\n",
    "\n",
    "Assim como podemos ter muitos inteiros diferentes em um programa, podemos ter muitas tartarugas. \n",
    "\n",
    "* **Cada tartaruga é chamada de uma *instância*** . \n",
    "   * Cada instância tem seus próprios **atributos** e **métodos**"
   ]
  },
  {
   "cell_type": "code",
   "execution_count": 5,
   "metadata": {},
   "outputs": [],
   "source": [
    "import turtle\n",
    "jn = turtle.Screen()         # Configurar a janela e seus atributos\n",
    "jn.bgcolor(\"lightblue\")\n",
    "jn.title(\"Tess & Alex\")\n",
    "\n",
    "teca = turtle.Turtle()       # Criar e configurar alguns atributos de Teca\n",
    "teca.color(\"hotpink\")\n",
    "teca.pensize(5)\n",
    "\n",
    "joana = turtle.Turtle()       # Criar Joana\n",
    "\n",
    "teca.forward(80)             # Fazer Teca desenhar um triângulo equilátero\n",
    "teca.left(120)\n",
    "teca.forward(80)\n",
    "teca.left(120)\n",
    "teca.forward(80)\n",
    "teca.left(120)               # Completar o triângulo\n",
    "\n",
    "teca.right(180)              # Fazer Teca dar meia volta\n",
    "teca.forward(80)             # Movê-la para longe da origem\n",
    "\n",
    "joana.forward(50)             # Fazer Joana desenhar um quadrado\n",
    "joana.left(90)\n",
    "joana.forward(50)\n",
    "joana.left(90)\n",
    "joana.forward(50)\n",
    "joana.left(90)\n",
    "joana.forward(50)\n",
    "joana.left(90)\n",
    "\n",
    "jn.mainloop()\n"
   ]
  },
  {
   "cell_type": "markdown",
   "metadata": {},
   "source": [
    "### O faz o código acima?\n",
    "Tente você mesmo!\n",
    "\n",
    "\n",
    "Ok, duas tartarugas podem não ser suficientes para um rebanho. \n",
    "\n",
    "Mas a ideia importante é que o módulo de tartaruga nos proporciona uma espécie de fábrica que nos permite criar tantas tartarugas quanto precisamos. \n",
    "\n",
    "\n",
    "***Cada instância tem seu próprio estado e comportamento.***"
   ]
  },
  {
   "cell_type": "markdown",
   "metadata": {},
   "source": [
    "## O *loop* for\n",
    "\n",
    "Quando desenhamos o quadrado, tivemos que repetir explicitamente os passos de se mover e girar ***quatro vezes***. Se estivéssemos desenhando um hexágono ou um polígono com 42 lados, teria sido pior.\n",
    "\n",
    "\n",
    "\n",
    "Portanto, um bloco de construção básico de todos os programas é poder **repetir alguns códigos repetidas vezes.**\n",
    "\n",
    "\n",
    "\n",
    "O ***loop*** de Python resolve isso. \n",
    "\n",
    "Digamos que temos alguns amigos e gostaríamos de enviar a eles um e-mail convidando-os para a nossa festa. Ainda não sabemos como enviar e-mails, então, por enquanto, apenas imprimiremos uma mensagem para cada amigo:"
   ]
  },
  {
   "cell_type": "code",
   "execution_count": 6,
   "metadata": {},
   "outputs": [
    {
     "name": "stdout",
     "output_type": "stream",
     "text": [
      "Oi José.  Você está convidadx para minha festa no Sábado!\n",
      "Oi Zoe.  Você está convidadx para minha festa no Sábado!\n",
      "Oi Bruno.  Você está convidadx para minha festa no Sábado!\n",
      "Oi Angélica.  Você está convidadx para minha festa no Sábado!\n",
      "Oi Zacarias.  Você está convidadx para minha festa no Sábado!\n",
      "Oi Thandi.  Você está convidadx para minha festa no Sábado!\n",
      "Oi Paris.  Você está convidadx para minha festa no Sábado!\n"
     ]
    }
   ],
   "source": [
    "for f in [\"José\",\"Zoe\",\"Bruno\",\"Angélica\",\"Zacarias\",\"Thandi\",\"Paris\"]:\n",
    "    convite = \"Oi \" + f + \".  Você está convidadx para minha festa no Sábado!\"\n",
    "    print(convite)"
   ]
  },
  {
   "cell_type": "markdown",
   "metadata": {},
   "source": [
    "* A variável ***f*** na instrução for na linha 1 é chamada de **variável de loop**. Pode ser qualquer nome de variável.\n",
    "\n",
    "\n",
    "* As linhas 2 e 3 são o **corpo do loop**. O corpo do loop é sempre ***indentado***. O recuo determina exatamente quais instruções estão “no corpo do loop”.\n",
    "\n",
    "\n",
    "* Em cada **iteração** (ou passagem do loop):\n",
    "   * uma verificação é feita para ver se ainda há mais itens a serem processados. \n",
    "   \n",
    "   * Caso não haja nenhum item a se processado, o loop terminou. Isso é chamado de **condição de terminação do loop**. \n",
    "   \n",
    "   * A execução do programa continua na próxima instrução após o corpo do loop.\n",
    "   \n",
    "   * Se ainda houver itens a serem processados, a variável de loop será atualizada para se referir ao próximo item da lista. Isto significa, neste caso, que o corpo do loop é executado aqui 7 vezes, e cada vez f se referirá a um amigo diferente.\n",
    "   \n",
    "   * No final de cada execução do corpo do loop, o Python retorna à instrução for, para ver se há mais itens a serem manipulados e para atribuir o próximo a f."
   ]
  },
  {
   "cell_type": "markdown",
   "metadata": {},
   "source": [
    "## Fluxo de Execução do loop for\n",
    "\n",
    "Conforme um programa é executado, o interpretador sempre registra qual declaração está prestes a ser executada. Chamamos isso de **fluxo de controle**, do **fluxo de execução do programa**.\n",
    "\n",
    "O **fluxo de controle** é geralmente fácil de visualizar e entender se desenharmos um **fluxograma**. Isso mostra as etapas exatas e a lógica de como a instrução ***for*** é executada.\n",
    "\n",
    "![title](pics/fluxograma.png)"
   ]
  },
  {
   "cell_type": "markdown",
   "metadata": {},
   "source": [
    "## O loop simplifica nosso programa de tartarugas\n",
    "\n",
    "Podemos usar apenas 3 linhas ao invés de oito, para desenhar o quadrado de ***joana***"
   ]
  },
  {
   "cell_type": "code",
   "execution_count": 8,
   "metadata": {},
   "outputs": [],
   "source": [
    "jn = turtle.Screen()\n",
    "joana = turtle.Turtle()\n",
    "for i in [0,1,2,3]:\n",
    "    joana.forward(50)\n",
    "    joana.left(90)\n",
    "jn.mainloop()"
   ]
  },
  {
   "cell_type": "markdown",
   "metadata": {},
   "source": [
    "O importante aqui é **encontrar um padrão de repetição de declarações** e reorganizar o programa levando esses padrões em consideração.\n",
    "\n",
    "\n",
    "Podemos reescrever as linhas acima, usando uma função *built-in* do python, *range*. \n",
    "\n",
    "\n",
    "Em, python, começamos toda indexação em 0 (zero)."
   ]
  },
  {
   "cell_type": "code",
   "execution_count": 10,
   "metadata": {},
   "outputs": [],
   "source": [
    "jn = turtle.Screen()\n",
    "joana = turtle.Turtle()\n",
    "for i in range(4):\n",
    "    joana.forward(50)\n",
    "    joana.left(90)\n",
    "jn.mainloop()"
   ]
  },
  {
   "cell_type": "markdown",
   "metadata": {},
   "source": [
    "#### Caso queira desenhar cada lado do quadrado com uma cor:"
   ]
  },
  {
   "cell_type": "code",
   "execution_count": 15,
   "metadata": {},
   "outputs": [],
   "source": [
    "jn = turtle.Screen()\n",
    "joana = turtle.Turtle()\n",
    "cores = [\"yellow\", \"red\", \"purple\", \"blue\"]\n",
    "for i in cores:\n",
    "    joana.color(i)\n",
    "    joana.forward(50)\n",
    "    joana.left(90)"
   ]
  },
  {
   "cell_type": "markdown",
   "metadata": {},
   "source": [
    "### Exercícios:\n",
    "1. Modifique o programa da tartaruga (primeiro exemplo) para que, antes de criar a janela, ele solicite que o usuário insira a cor de fundo desejada. Ele deve armazenar as respostas do usuário em uma variável e modificar a cor da janela de acordo com os desejos do usuário. \n",
    "   * ***Dicas***: faça uso da função ***input***, built-in do python\n",
    "   * você pode encontrar uma lista de nomes de cores permitidos em http://www.tcl.tk/man/tcl8.4/TkCmd/colors.htm. Inclui alguns bem incomuns, como “peach puff” e “HotPink” ”***\n",
    "   \n",
    "1. Faça modificações similares para permitir que o usuário mude a cor da tartaruga durante a execução do programa.\n",
    "   1. Faça o mesmo para a largura da caneta da tartaruga. *Dica: seu diálogo com o usuário retornará uma string, mas o método **pensize** espera que seu argumento seja um **int**. Então, você precisará converter a **string** em um **int** antes de passá-la para **pensize**.*   \n",
    "   \n",
    "1. Investiguem os métodos e tipos do módulo turtle;\n",
    "\n",
    "1. Desenhe um quadrado, usando a forma de tartaruga, ao invés da flecha, para desenhar.\n",
    "   1. mude a velocidade com que a tartaruga faz o desenho\n",
    "   \n",
    "1. Sabendo que o ângulo interno da ponta de uma estrela de 5 pontas é de 36 graus, desenhe uma estrela em uma janela.\n",
    "![title](pics/estrela.png)\n",
    "\n",
    "1. Sabendo o ângulo interno da ponta de uma estrela, desenhe quatro estrelas em uma janela, com uma certa distância entre elas. Dica: use a função penup() e pendown() do módulo turtle"
   ]
  },
  {
   "cell_type": "markdown",
   "metadata": {},
   "source": [
    "### Exercícios em preparação para os próximos capítulos\n",
    "\n",
    "1. Escreva uma função chamada `square`, que toma um parâmetro `t`, que é uma `Turtle`. Essa função deve usar o `turtle` para desenhar um quadrado. Escreva uma chamada de função que passe `bob` como argumento para `square` e rode o programa novamente. \n",
    "\n",
    "1. Adicione um outro parâmetro, chamado `length`, à função `square`. Modifique o corpo da função de tal forma que o comprimento dos lados do quadrado seja `length` e então modifique a chamada da função para que seja passado o segundo argumento. Rode o programa novamente. Teste o seu programa com diversos valores para `length`.\n",
    "\n",
    "1. Faça uma cópia da função `square` e mude o nome para `polygon`. Adicione um outro parâmetro chamado `n` e modifique o corpo da função para que ela desenhe um polígono regular de `n` lados. Dica: Os ângulos externos de um polígono regular de `n` lados são de `360/n` graus.  \n",
    "\n",
    "1. Escreva uma função chamada `circle` que toma como argumento uma `Turtle`, `t`, e um raio, `r`, e desenha um círculo aproximado ao chamar a função `polygon` com `length` e número `n` de lados apropriados. Teste sua função com um intervalo de valores de `r`. Dica: Determine a circunferência do círculo e se certifique que `comprimento * n = circunferência`.\n",
    "\n",
    "1. Faça uma versão mais geral da função `circle`, chamada `arc`, que toma um parâmetro adicional, `angle`, que determina qual a fração do circulo a ser desenhada. `angle` está em unidades de graus, logo quando `angle=360`, a função `arc` deve desenhar um cículo completo.\n"
   ]
  },
  {
   "cell_type": "markdown",
   "metadata": {},
   "source": [
    "## Encapsulamento \n",
    "O primeiro exercício pede que você coloque seu código de desenho de um quadrado em uma definição de função, p.ex.  ```square (t)```,  e então chame a função, passando a tartaruga como um parâmetro.  Uma possível solução :\n"
   ]
  },
  {
   "cell_type": "code",
   "execution_count": 3,
   "metadata": {},
   "outputs": [],
   "source": [
    "def square(t):\n",
    "    for i in range(4):\n",
    "        t.forward(100)\n",
    "        t.left(90)        "
   ]
  },
  {
   "cell_type": "markdown",
   "metadata": {},
   "source": [
    "Se chamarmos ```square(joana)``` as instruções internas da função são executadas pela tartaruga joana, mas também poderiam ser executadas por qualquer objeto tartaruga, a idéia de escrever a função é justamente que ```t``` pode ser qualquer tartaruga.  Então podemos criar uma segunda tartaruga e passá-la como argumento para o a função ```square``` :"
   ]
  },
  {
   "cell_type": "code",
   "execution_count": 4,
   "metadata": {},
   "outputs": [],
   "source": [
    "import turtle\n",
    "jn = turtle.Screen()\n",
    "alice = turtle.Turtle () \n",
    "square (alice)"
   ]
  },
  {
   "cell_type": "markdown",
   "metadata": {},
   "source": [
    "Envolver um pedaço de código em uma função é chamado de __encapsulamento__. Um dos benefícios do encapsulamento é que ele anexa um nome ao código, que serve como um tipo de documentação. Outra vantagem é que, se você reutilizar o código, é mais conciso chamar uma função duas vezes do que copiar e colar o corpo!"
   ]
  },
  {
   "cell_type": "markdown",
   "metadata": {},
   "source": [
    "## Generalização\n",
    "O próximo passo é adicionar um parâmetro de comprimento à função ```square```. Uma possibilidade:"
   ]
  },
  {
   "cell_type": "code",
   "execution_count": 5,
   "metadata": {},
   "outputs": [],
   "source": [
    "def square(t,length):\n",
    "    for i in range(4):\n",
    "        t.forward(length)\n",
    "        t.left(90)\n",
    "square(alice,50)"
   ]
  },
  {
   "cell_type": "markdown",
   "metadata": {},
   "source": [
    "Adicionar um (ou mais) parâmetro(s) a uma função é chamado de __generalização__, pois torna a função mais geral: na versão anterior, o quadrado é sempre do mesmo tamanho; nesta versão pode ser de qualquer tamanho.\n",
    "O próximo passo é também uma generalização. Em vez de desenhar só quadrados, a função ```polygon``` desenha polígonos regulares com qualquer número de lados. Aqui está uma solução:"
   ]
  },
  {
   "cell_type": "code",
   "execution_count": 6,
   "metadata": {},
   "outputs": [],
   "source": [
    "def polygon(t,length,n):\n",
    "    alfa = 360/n\n",
    "    for i in range(n):\n",
    "        t.forward(length)\n",
    "        t.left(alfa)\n",
    "#desenhar um hexagono regular com lado de comprimento 70\n",
    "polygon(alice,70,6)"
   ]
  },
  {
   "cell_type": "markdown",
   "metadata": {},
   "source": [
    "Quando uma função tem mais do que alguns argumentos numéricos, é fácil esquecer o que eles são, ou em que ordem eles devem estar. Nesse caso, é sempre uma boa idéia incluir os nomes dos parâmetros na lista de argumentos ao chamar a função:\n",
    "```\n",
    "polygon (bob, n = 7, length = 70)\n",
    "```\n",
    "\n",
    "Eles são chamados de argumentos de palavras-chave (___keyword___) porque incluem os nomes de parâmetros como “palavras-chave” (não confundir com palavras-chave do Python como ```while``` e ```def``` ).\n",
    "\n",
    "Essa sintaxe torna o programa mais legível. Também é um lembrete sobre como os argumentos e parâmetros funcionam: quando você chama uma função, os argumentos são atribuídos aos parâmetros."
   ]
  },
  {
   "cell_type": "markdown",
   "metadata": {},
   "source": [
    "##  Design de interface\n",
    "O próximo passo é escrever um círculo , que usa um raio ```r``` como parâmetro. Aqui está uma solução simples que usa a função ```polygon``` para desenhar um polígono de 50 lados:"
   ]
  },
  {
   "cell_type": "code",
   "execution_count": 7,
   "metadata": {},
   "outputs": [],
   "source": [
    "import math \n",
    "def circle(t, r): \n",
    "    circumference = 2 * math.pi * r \n",
    "    n = 50 \n",
    "    length = circumference / n \n",
    "    polygon(t, length, n)"
   ]
  },
  {
   "cell_type": "markdown",
   "metadata": {},
   "source": [
    "A primeira linha calcula a circunferência de um círculo com raio ```r``` usando a fórmula 2 $\\pi$ r . Como usamos math.pi , temos que importar matemática. Por convenção, as instruções de importação geralmente estão no início do script.\n",
    "\n",
    "```n``` é o número de segmentos de linha em nossa aproximação de um círculo, então ```length``` é o comprimento de cada segmento. Assim, a função ```polygon``` desenha um polígono de 50 lados que se aproxima de um círculo com raio r.\n",
    "\n",
    "Uma limitação dessa solução é que ```n``` é uma constante, o que significa que, para círculos muito grandes, os segmentos de linha são muito longos e, para círculos pequenos, perdemos tempo desenhando segmentos muito pequenos. Uma solução seria generalizar a função usando ```n``` como parâmetro. Isso daria ao usuário (quem chama a função) mais controle, mas a interface seria menos limpa.\n",
    "\n",
    "A __interface__ de uma função é um ___resumo___ de como ela é usada: quais são os parâmetros? O que a função faz? E qual é o valor de retorno? Uma interface é dita “limpa” se permite que o chamador faça o que quiser sem lidar com detalhes desnecessários.\n",
    "\n",
    "Neste exemplo, ```r``` pertence à interface porque especifica o círculo a ser desenhado, mas ```n``` é menos apropriado porque se refere aos detalhes de como o círculo deve ser renderizado. Em vez de sobrecarregar a interface, é melhor escolher um valor apropriado de ```n``` dependendo da circunferência :"
   ]
  },
  {
   "cell_type": "code",
   "execution_count": 8,
   "metadata": {},
   "outputs": [],
   "source": [
    "def circle(t, r): \n",
    "    circumference = 2 * math.pi * r \n",
    "    n = int(circumference / 3 + 3)\n",
    "    length = circumference / n \n",
    "    polygon(t, length ,n)\n",
    "circle(alice,40)"
   ]
  },
  {
   "cell_type": "markdown",
   "metadata": {},
   "source": [
    "## Documentação da função: docstring\n",
    "\n",
    "Uma **docstring** é uma string no início de uma função que explica a interface (“doc” é a abreviação de “documentation”). Aqui está um exemplo:"
   ]
  },
  {
   "cell_type": "code",
   "execution_count": 9,
   "metadata": {},
   "outputs": [],
   "source": [
    "def polyline(t, n, length, angle):\n",
    "    \"\"\"Draws n line segments with the given length and\n",
    "    angle (in degrees) between them.  t is a turtle.\n",
    "    \"\"\"    \n",
    "    for i in range(n):\n",
    "        t.fd(length)\n",
    "        t.lt(angle)"
   ]
  },
  {
   "cell_type": "markdown",
   "metadata": {},
   "source": [
    "Por convenção, todas as docstrings são strings de aspas triplas. Elas aspas triplas permitem que a string abranja mais de uma linha.\n",
    "\n",
    "É conciso, mas contém as informações essenciais que alguém precisaria para usar essa função. Explica de forma concisa o que a função faz (sem entrar nos detalhes de como ela faz isso). Explica o efeito que cada parâmetro tem sobre o comportamento da função e qual o tipo de parâmetro deve ser (se não for óbvio).\n",
    "\n",
    "Escrever esse tipo de documentação é uma parte importante do design da interface. Uma interface bem projetada deve ser simples de explicar; Se você tiver dificuldade em explicar uma de suas funções, talvez a interface possa ser melhorada.\n",
    "\n",
    "## Refatoração\n",
    "O  processo de reorganizar um programa para melhorar as interfaces e facilitar a reutilização de código é chamado de __refatoração__ (_refactoring_ em inglês).  \n",
    "A função ```polyline``` acima é uma forma de refatorizar, utilizando ela é possível reescrever por exemplo a função do ```polygon``` como:\n"
   ]
  },
  {
   "cell_type": "code",
   "execution_count": 10,
   "metadata": {},
   "outputs": [],
   "source": [
    "def polygon(t, n, length): \n",
    "    angle = 360.0 / n \n",
    "    polyline(t, n, length, angle) \n"
   ]
  },
  {
   "cell_type": "markdown",
   "metadata": {},
   "source": [
    "Polyline desenha só uma sequencia de uniforme de n linhas e  n giros para um comprimento e angulos definidos. Ela também pode ser utilizada para redefinir o arco:"
   ]
  },
  {
   "cell_type": "code",
   "execution_count": 11,
   "metadata": {},
   "outputs": [],
   "source": [
    "def arc(t, r, angle):\n",
    "    arc_length = 2 * math.pi * r * angle / 360 \n",
    "    n = int(arc_length / 3) + 1 \n",
    "    step_length = arc_length / n \n",
    "    step_angle = float(angle) / n \n",
    "    polyline(t, n, step_length, step_angle)"
   ]
  },
  {
   "cell_type": "markdown",
   "metadata": {},
   "source": [
    "De forma que uma nova versão do círculo seria definida simplesmente:"
   ]
  },
  {
   "cell_type": "code",
   "execution_count": 13,
   "metadata": {},
   "outputs": [],
   "source": [
    "def circle(t, r): \n",
    "    arc(t, r, 360)\n",
    "    \n",
    "#desenhar um circulo vermelho de raio 50\n",
    "alice.color(\"red\")\n",
    "circle(alice,50)"
   ]
  },
  {
   "cell_type": "markdown",
   "metadata": {},
   "source": [
    "## Exercícios:\n",
    "  \n",
    "1. Escreva um conjunto apropriadamente geral de funções que possam desenhar flores como na Figura abaixo:\n",
    "![flowers](pics/flowers.png)\n",
    "1. Escreva um conjunto apropriadamente geral de funções que podem desenhar formas como na figura abaixo:\n",
    "\n",
    "![shapes](pics/shapes_turtle.png)\n",
    "\n",
    "\n",
    "Veja mais exercícios em: http://greenteapress.com/thinkpython2/html/thinkpython2005.html#sec42\n",
    "e: http://dfnae.fis.uerj.br/twiki/bin/view/DFNAE/IntroPython#Aula_6"
   ]
  },
  {
   "cell_type": "code",
   "execution_count": null,
   "metadata": {},
   "outputs": [],
   "source": []
  }
 ],
 "metadata": {
  "kernelspec": {
   "display_name": "Python 3",
   "language": "python",
   "name": "python3"
  },
  "language_info": {
   "codemirror_mode": {
    "name": "ipython",
    "version": 3
   },
   "file_extension": ".py",
   "mimetype": "text/x-python",
   "name": "python",
   "nbconvert_exporter": "python",
   "pygments_lexer": "ipython3",
   "version": "3.7.0"
  }
 },
 "nbformat": 4,
 "nbformat_minor": 2
}
