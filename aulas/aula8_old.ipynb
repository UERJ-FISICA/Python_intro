{
 "cells": [
  {
   "cell_type": "markdown",
   "metadata": {},
   "source": [
    "# Iteração\n",
    "\n",
    "aula baseada no livro: http://openbookproject.net/thinkcs/python/english3e/iteration.html\n",
    "\n",
    "Os computadores costumam ser usados para automatizar tarefas repetitivas. Repetir tarefas idênticas ou similares sem cometer erros é algo que os computadores fazem bem e as pessoas fazem mal.\n",
    "\n",
    "A execução repetida de um conjunto de instruções é chamada de **iteração**. \n",
    "\n",
    "\n",
    "Já vimos a declaração ***for*** no capítulo 3. Essa é a forma de iteração que você provavelmente usará com mais frequência. \n",
    "\n",
    "\n",
    "Mas neste capítulo, vamos ver a declaração ***while*** - outra maneira de fazer o seu programa fazer iteração, útil em circunstâncias ligeiramente diferentes.\n",
    "\n",
    "Antes de fazermos isso, vamos revisar algumas ideias ..."
   ]
  },
  {
   "cell_type": "markdown",
   "metadata": {},
   "source": [
    "## Declaração\n",
    "\n",
    "É possível fazer várias declarações da mesma variável:"
   ]
  },
  {
   "cell_type": "code",
   "execution_count": 2,
   "metadata": {},
   "outputs": [
    {
     "name": "stdout",
     "output_type": "stream",
     "text": [
      "15\n",
      "17\n"
     ]
    }
   ],
   "source": [
    "a = 15\n",
    "print(a)\n",
    "a = 17\n",
    "print(17)"
   ]
  },
  {
   "cell_type": "markdown",
   "metadata": {},
   "source": [
    "Em Python, uma **instrução de atribuição** pode tornar duas variáveis iguais, mas como outras atribuições podem alterar uma delas, elas não precisam se manter iguais:"
   ]
  },
  {
   "cell_type": "code",
   "execution_count": 3,
   "metadata": {},
   "outputs": [
    {
     "name": "stdout",
     "output_type": "stream",
     "text": [
      "5\n",
      "5\n",
      "x:  5 y:  8\n"
     ]
    }
   ],
   "source": [
    "x = 5\n",
    "print(x)\n",
    "y = x\n",
    "print(y)\n",
    "y = 8\n",
    "print ('x: ', x, 'y: ', y)"
   ]
  },
  {
   "cell_type": "markdown",
   "metadata": {},
   "source": [
    "## Atualizando variáveis\n",
    "\n",
    "Quando uma instrução de atribuição é executada, o interpretador de python segue os seguintes passos:\n",
    "* a expressão do lado direito (ou seja, a expressão que vem depois do token de atribuição ***=***) é avaliada primeiro. Isso produz um valor. \n",
    "* Em seguida, a atribuição é feita, de modo que a variável no lado esquerdo agora se refere ao novo valor.\n",
    "\n",
    "Uma das formas mais comuns de atribuição é uma **atualização**, em que **o novo valor da variável depende de seu valor antigo**. "
   ]
  },
  {
   "cell_type": "code",
   "execution_count": 5,
   "metadata": {},
   "outputs": [
    {
     "name": "stdout",
     "output_type": "stream",
     "text": [
      "16\n"
     ]
    }
   ],
   "source": [
    "n = 5\n",
    "n = 3 * n + 1\n",
    "print(n)"
   ]
  },
  {
   "cell_type": "markdown",
   "metadata": {},
   "source": [
    "### Inicialização\n",
    "\n",
    "É preciso inicializar uma variável antes de usá-la pela primeira vez:"
   ]
  },
  {
   "cell_type": "code",
   "execution_count": 7,
   "metadata": {},
   "outputs": [
    {
     "ename": "NameError",
     "evalue": "name 't' is not defined",
     "output_type": "error",
     "traceback": [
      "\u001b[0;31m---------------------------------------------------------------------------\u001b[0m",
      "\u001b[0;31mNameError\u001b[0m                                 Traceback (most recent call last)",
      "\u001b[0;32m<ipython-input-7-c893c0f36f93>\u001b[0m in \u001b[0;36m<module>\u001b[0;34m()\u001b[0m\n\u001b[0;32m----> 1\u001b[0;31m \u001b[0mw\u001b[0m \u001b[0;34m=\u001b[0m \u001b[0mt\u001b[0m \u001b[0;34m+\u001b[0m \u001b[0;36m4\u001b[0m\u001b[0;34m\u001b[0m\u001b[0m\n\u001b[0m",
      "\u001b[0;31mNameError\u001b[0m: name 't' is not defined"
     ]
    }
   ],
   "source": [
    "w = t + 4\n",
    "print(w)"
   ]
  },
  {
   "cell_type": "code",
   "execution_count": 9,
   "metadata": {},
   "outputs": [
    {
     "name": "stdout",
     "output_type": "stream",
     "text": [
      "12\n"
     ]
    }
   ],
   "source": [
    "t = 8\n",
    "w = t + 4\n",
    "print(w)"
   ]
  },
  {
   "cell_type": "markdown",
   "metadata": {},
   "source": [
    "## O loop ***for*** revisitado\n",
    "\n",
    "Podemos atualizar uma variável dentro de um loop ***for***.\n",
    "\n",
    "Para tal, vamos escrever uma função que calcula a soma de todos os ítens de uma lista."
   ]
  },
  {
   "cell_type": "code",
   "execution_count": 20,
   "metadata": {},
   "outputs": [
    {
     "name": "stdout",
     "output_type": "stream",
     "text": [
      "20\n"
     ]
    }
   ],
   "source": [
    "def mysum(xs):\n",
    "    \"\"\" Soma todos os numeros em uma dada lista, e retorna o total. \"\"\"\n",
    "    total = 0                # inicialização da variável total\n",
    "    for x in xs:             # para cada item da lista xs\n",
    "        total = total + x    # somar o valor anterior ao item atual da lista\n",
    "    return total\n",
    "\n",
    "print(mysum([2,4,6,8]))\n",
    "\n",
    "assert mysum([2, 4, 6, 8])  # declaração para testar a validade das condições da função mysum. Veremos mais a seguir."
   ]
  },
  {
   "cell_type": "markdown",
   "metadata": {},
   "source": [
    "## A declaração ***while***"
   ]
  },
  {
   "cell_type": "code",
   "execution_count": 14,
   "metadata": {},
   "outputs": [
    {
     "name": "stdout",
     "output_type": "stream",
     "text": [
      "36\n"
     ]
    }
   ],
   "source": [
    "def soma_ate(n):\n",
    "    \"\"\" Retorna a soma de 1+2+3 ... n \"\"\"\n",
    "    ss  = 0\n",
    "    v = 1\n",
    "    while v <= n:      \n",
    "        ss = ss + v\n",
    "        v = v + 1\n",
    "    return ss\n",
    "\n",
    "print(soma_ate(8))"
   ]
  },
  {
   "cell_type": "markdown",
   "metadata": {},
   "source": [
    "Mais formalmente, aqui está o fluxo preciso de execução para uma declaração while:\n",
    "\n",
    "* Avalia a condição na linha 5, gerando um valor ***True*** ou ***False***.\n",
    "* Se o valor for ***False***, saia da instrução ***while*** e continue a execução na próxima instrução (linha 8 neste caso).\n",
    "* Se o valor for ***True***, execute cada uma das instruções no corpo (linhas 6 e 7) e, em seguida, volte para a instrução ***while*** na linha 5.\n",
    "\n",
    "\n",
    "**Atenção**\n",
    "O corpo do loop tem que mudar o valor de uma ou mais variáveis para assegurar que em algum momento a condição do loop será ***False***. Caso contrário, pode-se produzir um **loop infinito**."
   ]
  },
  {
   "cell_type": "markdown",
   "metadata": {},
   "source": [
    "## Escolhendo entre ***for*** e ***while***\n",
    "\n",
    "* Use um loop ***for*** se você souber, antes de iniciar o loop, o número máximo de vezes que precisará executar o corpo. \n",
    "   * **iteração definida**\n",
    "\n",
    "\n",
    "\n",
    "* Se você precisar repetir algum cálculo até que alguma condição seja atendida e não puder calcular antecipadamente quando (ou se) isso acontecer, você precisará de um loop ***while***.\n",
    "   * **iteração indefinida**\n",
    "\n"
   ]
  },
  {
   "cell_type": "markdown",
   "metadata": {},
   "source": [
    "## Contadores\n",
    "\n",
    "Para contar os digitos decimais de um dado número ***n***, podemos escrever uma função:"
   ]
  },
  {
   "cell_type": "code",
   "execution_count": 16,
   "metadata": {},
   "outputs": [
    {
     "data": {
      "text/plain": [
       "3"
      ]
     },
     "execution_count": 16,
     "metadata": {},
     "output_type": "execute_result"
    }
   ],
   "source": [
    "def counter(n):\n",
    "    count = 0\n",
    "    while n!=0:\n",
    "        count = count + 1\n",
    "        n = n // 10         # divisão de inteiros\n",
    "    return count\n",
    "\n",
    "counter(710)"
   ]
  },
  {
   "cell_type": "markdown",
   "metadata": {},
   "source": [
    "Esta função demonstra um importante padrão de computação chamado **contador**. \n",
    "\n",
    "* A contagem de variáveis é inicializada em 0 e, em seguida, incrementada toda vez que o corpo do loop é executado. \n",
    "* Quando o loop acaba, a variável ***count*** contém o resultado - o número total de vezes que o corpo do loop foi executado, que é o mesmo que o número de dígitos."
   ]
  },
  {
   "cell_type": "markdown",
   "metadata": {},
   "source": [
    "Podemos testar a função com a declaração ***assert***:"
   ]
  },
  {
   "cell_type": "code",
   "execution_count": 10,
   "metadata": {
    "collapsed": true
   },
   "outputs": [],
   "source": [
    "assert valor_modulo(-1002)"
   ]
  },
  {
   "cell_type": "code",
   "execution_count": 11,
   "metadata": {},
   "outputs": [
    {
     "ename": "AssertionError",
     "evalue": "",
     "output_type": "error",
     "traceback": [
      "\u001b[0;31m---------------------------------------------------------------------------\u001b[0m",
      "\u001b[0;31mAssertionError\u001b[0m                            Traceback (most recent call last)",
      "\u001b[0;32m<ipython-input-11-37f128402f90>\u001b[0m in \u001b[0;36m<module>\u001b[0;34m()\u001b[0m\n\u001b[0;32m----> 1\u001b[0;31m \u001b[0;32massert\u001b[0m \u001b[0mvalor_modulo\u001b[0m\u001b[0;34m(\u001b[0m\u001b[0;36m0\u001b[0m\u001b[0;34m)\u001b[0m\u001b[0;34m\u001b[0m\u001b[0m\n\u001b[0m",
      "\u001b[0;31mAssertionError\u001b[0m: "
     ]
    }
   ],
   "source": [
    "assert valor_modulo(0)"
   ]
  },
  {
   "cell_type": "markdown",
   "metadata": {},
   "source": [
    "## Encapsulamento e generalização\n",
    "\n",
    "O **encapsulamento** é o processo de envolver uma parte do código em uma função, permitindo que você tire proveito de todas as vantagens das funções. \n",
    "\n",
    "\n",
    "**Generalização** significa tomar algo específico, como imprimir os múltiplos de 2 e torná-lo mais geral, como imprimir os múltiplos de qualquer inteiro."
   ]
  },
  {
   "cell_type": "markdown",
   "metadata": {},
   "source": [
    "## Variáveis locais \n",
    "\n",
    "Variáveis criadas dentro de uma definição de função são **locais**; não é possível acessar uma variável local de fora de sua função inicial. \n",
    "\n",
    "Isso significa que você está livre para ter múltiplas variáveis com o mesmo nome, desde que elas não estejam na mesma função.\n",
    "\n",
    "O Python examina todas as instruções em uma função - se alguma delas atribuir um valor a uma variável, essa é a pista que o Python usa para tornar a variável uma variável local.\n",
    "\n",
    "É comum e perfeitamente legal ter diferentes variáveis locais com o mesmo nome. Em particular, nomes como ***i*** e ***j*** são usados freqüentemente como variáveis de loop. Se você evitar usá-los em uma função só porque os usou em outro lugar, provavelmente tornará o programa mais difícil de ler."
   ]
  },
  {
   "cell_type": "markdown",
   "metadata": {},
   "source": [
    "## A declaração ***break***\n",
    "\n",
    "A instrução break é usada para deixar imediatamente o corpo do loop. A próxima instrução a ser executada é a primeira após o corpo:"
   ]
  },
  {
   "cell_type": "code",
   "execution_count": 17,
   "metadata": {},
   "outputs": [
    {
     "name": "stdout",
     "output_type": "stream",
     "text": [
      "12\n",
      "16\n",
      "done\n"
     ]
    }
   ],
   "source": [
    "for i in [12, 16, 17, 24, 29]:\n",
    "    if i % 2 == 1:  # If the number is odd\n",
    "       break        #  ... immediately exit the loop\n",
    "    print(i)\n",
    "print(\"done\")"
   ]
  },
  {
   "cell_type": "markdown",
   "metadata": {},
   "source": [
    "## A declaração ***continue***\n",
    "\n",
    "Esta é uma instrução de fluxo de controle que faz com que o programa pule imediatamente o processamento do resto do corpo do loop, ***para a iteração atual***. Mas o loop ainda continua correndo pelas iterações restantes:"
   ]
  },
  {
   "cell_type": "code",
   "execution_count": 19,
   "metadata": {},
   "outputs": [
    {
     "name": "stdout",
     "output_type": "stream",
     "text": [
      "12\n",
      "16\n",
      "24\n",
      "30\n",
      "done\n"
     ]
    }
   ],
   "source": [
    "for i in [12, 16, 17, 24, 29, 30]:\n",
    "    if i % 2 == 1:      # If the number is odd\n",
    "       continue         # Don't process it\n",
    "    print(i)\n",
    "print(\"done\")"
   ]
  },
  {
   "cell_type": "markdown",
   "metadata": {},
   "source": [
    "## Exercícios\n",
    "\n",
    "1) A **conjectura de Collatz**, diz que \"Todos os inteiros positivos irão eventualmente convergir para 1 usando as regras do Collatz\". Faça um programa que verifique a conjectura de Collatz para alguns valores. As regras de Collatz são: Dado um número ***n***: \n",
    "   * se ***n*** for par, divida-o por ***2***;\n",
    "   * Se ***n*** for ímpar, atualize-o para 3*n + 1\n",
    "  \n",
    "  \n",
    "2) Modifique a função counter para contar o número de vezes que os dígitos 0 e 5 aparecem em um dado número n. Por exemplo, n = 10568, tem 2 dígitos 0 ou 5. \n",
    "\n",
    "3) Encapsule e generalize a seguinte declaração:"
   ]
  },
  {
   "cell_type": "code",
   "execution_count": 18,
   "metadata": {},
   "outputs": [
    {
     "name": "stdout",
     "output_type": "stream",
     "text": [
      "12\n",
      "16\n",
      "done\n"
     ]
    }
   ],
   "source": [
    "for i in [12, 16, 17, 24, 29]:\n",
    "    if i % 2 == 1:  # If the number is odd\n",
    "       break        #  ... immediately exit the loop\n",
    "    print(i)\n",
    "print(\"done\")"
   ]
  },
  {
   "cell_type": "markdown",
   "metadata": {},
   "source": [
    "4) O método de Newton para raiz quadrada. Suponha que você queira calcular a raiz quadrada de ***n***. Se você começar com quase qualquer aproximação, poderá calcular uma aproximação melhor (mais próxima da resposta real) com a seguinte fórmula: melhor = (approx + n/approx)/2\n",
    "\n",
    "\n",
    "Usando um loop e repetindo esta fórmula até que a melhor aproximação se aproxime o suficiente da anterior (podemos considerar uma diferença de 0,001), podemos escrever uma função para calcular a raiz quadrada.\n",
    "\n",
    "\n",
    "Esse é um exemplo de repetição **indefinida**. Com qual tipo de loop você deve escrever o seu programa?"
   ]
  },
  {
   "cell_type": "markdown",
   "metadata": {},
   "source": [
    "# Debugar com print\n",
    "\n",
    "É de extrema importância saber prever possíveis bugs e quando econtrá-los, saber debugar. A primeira ferramenta é utilizando o print em pontos estratégicos do programa.\n",
    "\n",
    "Outra forma de debugar é usando a declaração built-in do Python, ***assert***.\n",
    "\n",
    "\n",
    "Consideramos a seguinte função, que calcula o valor absoluto de um número."
   ]
  },
  {
   "cell_type": "code",
   "execution_count": 9,
   "metadata": {},
   "outputs": [
    {
     "name": "stdout",
     "output_type": "stream",
     "text": [
      "88\n",
      "12\n"
     ]
    }
   ],
   "source": [
    "def valor_modulo(x):\n",
    "    if (x < 0):\n",
    "        return -x\n",
    "    elif (x > 0):\n",
    "        return x\n",
    "\n",
    "print (valor_modulo(-88))\n",
    "\n",
    "print (valor_modulo(12))"
   ]
  }
 ],
 "metadata": {
  "kernelspec": {
   "display_name": "Python 3",
   "language": "python",
   "name": "python3"
  },
  "language_info": {
   "codemirror_mode": {
    "name": "ipython",
    "version": 3
   },
   "file_extension": ".py",
   "mimetype": "text/x-python",
   "name": "python",
   "nbconvert_exporter": "python",
   "pygments_lexer": "ipython3",
   "version": "3.6.4"
  }
 },
 "nbformat": 4,
 "nbformat_minor": 2
}
