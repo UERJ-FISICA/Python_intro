{
 "cells": [
  {
   "cell_type": "markdown",
   "metadata": {},
   "source": [
    "# AVISO\n",
    "\n",
    "Essa aula é toda baseada no livro \"Think Python\". \n",
    "\n",
    "A versão em português do livro está disponível nesse link: https://penseallen.github.io/PensePython2e/"
   ]
  },
  {
   "cell_type": "markdown",
   "metadata": {},
   "source": [
    "# Funções"
   ]
  },
  {
   "cell_type": "markdown",
   "metadata": {},
   "source": [
    "Em programação, uma **função é uma sequência de declarações**, à qual atribuímos um nome, que realiza uma tarefa.\n",
    "\n",
    "Ao criar uma função, deve-se especificar o nome da função e a sequência de declarações.\n",
    "\n",
    "## Chamada de funções\n",
    "Já vimos pelo menos um exemplo de chamada de função:"
   ]
  },
  {
   "cell_type": "code",
   "execution_count": 154,
   "metadata": {},
   "outputs": [
    {
     "data": {
      "text/plain": [
       "int"
      ]
     },
     "execution_count": 154,
     "metadata": {},
     "output_type": "execute_result"
    }
   ],
   "source": [
    "type(40)"
   ]
  },
  {
   "cell_type": "markdown",
   "metadata": {},
   "source": [
    "* **nome** da função: *type*\n",
    "* **argumento**: 40\n",
    "* **valor de retorno** da função: é o resultado que a função retorna. Nesse exemplo, a função de nome *type*, retorna o tipo do *argumento* passado na função."
   ]
  },
  {
   "cell_type": "markdown",
   "metadata": {},
   "source": [
    "## Funções de conversão de tipo\n",
    "O Python fornece funções internas (*built-in*) que convertem valores de um tipo para outro ==> **casting**. \n",
    "A função *int* recebe qualquer valor e o converte em um inteiro, se puder:"
   ]
  },
  {
   "cell_type": "code",
   "execution_count": 1,
   "metadata": {},
   "outputs": [
    {
     "data": {
      "text/plain": [
       "2"
      ]
     },
     "execution_count": 1,
     "metadata": {},
     "output_type": "execute_result"
    }
   ],
   "source": [
    "int(2.8)"
   ]
  },
  {
   "cell_type": "markdown",
   "metadata": {},
   "source": [
    "ou reclama quando não é possível fazer a conversão:"
   ]
  },
  {
   "cell_type": "code",
   "execution_count": 2,
   "metadata": {},
   "outputs": [
    {
     "ename": "ValueError",
     "evalue": "invalid literal for int() with base 10: 'Oi'",
     "output_type": "error",
     "traceback": [
      "\u001b[0;31m---------------------------------------------------------------------------\u001b[0m",
      "\u001b[0;31mValueError\u001b[0m                                Traceback (most recent call last)",
      "\u001b[0;32m<ipython-input-2-fe057eac90f9>\u001b[0m in \u001b[0;36m<module>\u001b[0;34m()\u001b[0m\n\u001b[0;32m----> 1\u001b[0;31m \u001b[0mint\u001b[0m\u001b[0;34m(\u001b[0m\u001b[0;34m'Oi'\u001b[0m\u001b[0;34m)\u001b[0m\u001b[0;34m\u001b[0m\u001b[0m\n\u001b[0m",
      "\u001b[0;31mValueError\u001b[0m: invalid literal for int() with base 10: 'Oi'"
     ]
    }
   ],
   "source": [
    "int('Oi')"
   ]
  },
  {
   "cell_type": "markdown",
   "metadata": {},
   "source": [
    "A função *float* converte inteiros e strings em *floats*:"
   ]
  },
  {
   "cell_type": "code",
   "execution_count": 157,
   "metadata": {},
   "outputs": [
    {
     "data": {
      "text/plain": [
       "32.0"
      ]
     },
     "execution_count": 157,
     "metadata": {},
     "output_type": "execute_result"
    }
   ],
   "source": [
    "float(32)"
   ]
  },
  {
   "cell_type": "code",
   "execution_count": 158,
   "metadata": {},
   "outputs": [
    {
     "data": {
      "text/plain": [
       "3.14159"
      ]
     },
     "execution_count": 158,
     "metadata": {},
     "output_type": "execute_result"
    }
   ],
   "source": [
    "float('3.14159')"
   ]
  },
  {
   "cell_type": "markdown",
   "metadata": {},
   "source": [
    "A função *str* converte seu argumento em *strings*:"
   ]
  },
  {
   "cell_type": "code",
   "execution_count": 159,
   "metadata": {},
   "outputs": [
    {
     "data": {
      "text/plain": [
       "'32'"
      ]
     },
     "execution_count": 159,
     "metadata": {},
     "output_type": "execute_result"
    }
   ],
   "source": [
    "str(32)"
   ]
  },
  {
   "cell_type": "code",
   "execution_count": 160,
   "metadata": {},
   "outputs": [
    {
     "data": {
      "text/plain": [
       "'3.14159'"
      ]
     },
     "execution_count": 160,
     "metadata": {},
     "output_type": "execute_result"
    }
   ],
   "source": [
    "str(3.14159)"
   ]
  },
  {
   "cell_type": "markdown",
   "metadata": {},
   "source": [
    "## Funções matemáticas"
   ]
  },
  {
   "cell_type": "markdown",
   "metadata": {},
   "source": [
    "O Python possui um **módulo matemático** que fornece a maioria das funções matemáticas familiares. \n",
    "\n",
    "Um **módulo** de python é um arquivo que contém uma coleção de funções relacionadas.\n",
    "\n",
    "Antes de poder usar um certo módulo, temos que ***importá-lo***:"
   ]
  },
  {
   "cell_type": "code",
   "execution_count": 3,
   "metadata": {},
   "outputs": [],
   "source": [
    "import math"
   ]
  },
  {
   "cell_type": "markdown",
   "metadata": {},
   "source": [
    "A declaração acima **cria um objeto de módulo** chamado **math**.\n",
    "\n",
    "Você pode imprimir o objeto de módulo:"
   ]
  },
  {
   "cell_type": "code",
   "execution_count": 4,
   "metadata": {},
   "outputs": [
    {
     "name": "stdout",
     "output_type": "stream",
     "text": [
      "<module 'math' from '/anaconda3/lib/python3.6/lib-dynload/math.cpython-36m-darwin.so'>\n"
     ]
    }
   ],
   "source": [
    "print(math)"
   ]
  },
  {
   "cell_type": "markdown",
   "metadata": {},
   "source": [
    "O objeto do módulo contém as funções e variáveis definidas no módulo. \n",
    "\n",
    "Para acessar uma das funções do módulo usamos a seguinte expressão:\n",
    "\n",
    "* *nome_do_objeto_do_modulo**.**nome_da_funcao*\n",
    "\n",
    "\n",
    "Esse formato é chamado de **notação de ponto**."
   ]
  },
  {
   "cell_type": "code",
   "execution_count": 2,
   "metadata": {},
   "outputs": [
    {
     "name": "stdout",
     "output_type": "stream",
     "text": [
      "1.1071487177940906 em radianos\n"
     ]
    }
   ],
   "source": [
    "import math\n",
    "cateto_oposto = 4\n",
    "cateto_adjacente = 2\n",
    "tg_theta = cateto_oposto/cateto_adjacente\n",
    "theta = math.atan(tg_theta)\n",
    "print(theta, 'em radianos')"
   ]
  },
  {
   "cell_type": "markdown",
   "metadata": {},
   "source": [
    "As funções trigonométricas pegam os argumentos em radianos.\n",
    "\n",
    "Podemos converter de radianos para graus com uma função do objeto de módulo:"
   ]
  },
  {
   "cell_type": "code",
   "execution_count": 3,
   "metadata": {},
   "outputs": [
    {
     "data": {
      "text/plain": [
       "63.43494882292202"
      ]
     },
     "execution_count": 3,
     "metadata": {},
     "output_type": "execute_result"
    }
   ],
   "source": [
    "math.degrees(theta)"
   ]
  },
  {
   "cell_type": "markdown",
   "metadata": {},
   "source": [
    "Ou:"
   ]
  },
  {
   "cell_type": "code",
   "execution_count": 4,
   "metadata": {},
   "outputs": [
    {
     "name": "stdout",
     "output_type": "stream",
     "text": [
      "63.43494882292202\n"
     ]
    }
   ],
   "source": [
    "theta_graus = theta*180/math.pi\n",
    "print(theta_graus)"
   ]
  },
  {
   "cell_type": "markdown",
   "metadata": {},
   "source": [
    "Acessamos o valor de $\\pi$ determinado no módulo matemático através da variável math.pi. O valor dessa variável é uma aproximação de π, com precisão de cerca de 15 dígitos."
   ]
  },
  {
   "cell_type": "markdown",
   "metadata": {},
   "source": [
    "**Exercício:** Quantos graus tem o ângulo $\\theta$ correspondente a $cos\\theta = \\sqrt2/2$ ?"
   ]
  },
  {
   "cell_type": "code",
   "execution_count": 5,
   "metadata": {},
   "outputs": [
    {
     "data": {
      "text/plain": [
       "45.0"
      ]
     },
     "execution_count": 5,
     "metadata": {},
     "output_type": "execute_result"
    }
   ],
   "source": [
    "math.degrees(math.acos(math.sqrt(2)/2))"
   ]
  },
  {
   "cell_type": "markdown",
   "metadata": {},
   "source": [
    "## Composição\n",
    "\n",
    "Até agora, analisamos os elementos de um programa - variáveis, expressões e declarações - isoladamente, sem falar sobre como combiná-los.\n",
    "\n",
    "Um dos recursos mais úteis das linguagens de programação é a capacidade de usar blocos de construção pequenos e **compô-los**. \n",
    "\n",
    "Por exemplo, ***o argumento de uma função pode ser qualquer tipo de expressão***, incluindo operadores aritméticos:"
   ]
  },
  {
   "cell_type": "code",
   "execution_count": 10,
   "metadata": {},
   "outputs": [
    {
     "name": "stdout",
     "output_type": "stream",
     "text": [
      "0.8944271909999159\n"
     ]
    }
   ],
   "source": [
    "x = math.sin((theta_graus/360.0) * 2 * math.pi)\n",
    "print(x)"
   ]
  },
  {
   "cell_type": "markdown",
   "metadata": {},
   "source": [
    "E até mesmo chamadas de função:"
   ]
  },
  {
   "cell_type": "code",
   "execution_count": 11,
   "metadata": {},
   "outputs": [
    {
     "name": "stdout",
     "output_type": "stream",
     "text": [
      "0.894427190999916\n"
     ]
    }
   ],
   "source": [
    "x2 = math.sin(math.radians(theta_graus))\n",
    "print(x2)"
   ]
  },
  {
   "cell_type": "markdown",
   "metadata": {},
   "source": [
    "* **Em quase todo lugar onde é possível usar um valor, também é possível usar uma expressão arbitrária**\n",
    "* Porém, o lado esquerdo de uma **declaração de atribuição** deve ser sempre um ***nome de variável***. "
   ]
  },
  {
   "cell_type": "code",
   "execution_count": 169,
   "metadata": {},
   "outputs": [],
   "source": [
    "horas = 2\n",
    "minutos = horas * 60"
   ]
  },
  {
   "cell_type": "code",
   "execution_count": 170,
   "metadata": {},
   "outputs": [
    {
     "ename": "SyntaxError",
     "evalue": "can't assign to operator (<ipython-input-170-30179fa6741f>, line 1)",
     "output_type": "error",
     "traceback": [
      "\u001b[0;36m  File \u001b[0;32m\"<ipython-input-170-30179fa6741f>\"\u001b[0;36m, line \u001b[0;32m1\u001b[0m\n\u001b[0;31m    horas * 60 = minutos\u001b[0m\n\u001b[0m                         ^\u001b[0m\n\u001b[0;31mSyntaxError\u001b[0m\u001b[0;31m:\u001b[0m can't assign to operator\n"
     ]
    }
   ],
   "source": [
    "horas * 60 = minutos "
   ]
  },
  {
   "cell_type": "markdown",
   "metadata": {},
   "source": [
    "## Adicionando novas funções\n",
    "\n",
    "* Até agora, só usamos as funções do Python, mas também é possível adicionar novas funções. \n",
    "* Para definir uma função, é necessário:\n",
    "   * determinar o nome da função \n",
    "   * determinar a sequência de instruções a serem executadas quando a função é chamada.\n",
    "\n",
    "A sintaxe para a definição de uma função é:"
   ]
  },
  {
   "cell_type": "code",
   "execution_count": 3,
   "metadata": {},
   "outputs": [],
   "source": [
    "def nome_da_funcao(argumentos_da_funcao):   #cabeçário (header) da função\n",
    "    declaracao = 'esse é o CORPO da função. É onde são feitas as declarações da função'  # as declarações da funções devem ser INDENTADAS."
   ]
  },
  {
   "cell_type": "markdown",
   "metadata": {},
   "source": [
    "Um exemplo de função:"
   ]
  },
  {
   "cell_type": "code",
   "execution_count": 17,
   "metadata": {},
   "outputs": [],
   "source": [
    "def print_poema():\n",
    "    print('Caminante, no hay camino,')\n",
    "    print('se hace camino al andar.')"
   ]
  },
  {
   "cell_type": "markdown",
   "metadata": {},
   "source": [
    "Ao definir uma função, se cria uma variável com o mesmo nome."
   ]
  },
  {
   "cell_type": "code",
   "execution_count": 22,
   "metadata": {},
   "outputs": [
    {
     "name": "stdout",
     "output_type": "stream",
     "text": [
      "<function print_poema at 0x10513bc80>\n"
     ]
    }
   ],
   "source": [
    "print(print_poema)"
   ]
  },
  {
   "cell_type": "code",
   "execution_count": 24,
   "metadata": {},
   "outputs": [
    {
     "data": {
      "text/plain": [
       "function"
      ]
     },
     "execution_count": 24,
     "metadata": {},
     "output_type": "execute_result"
    }
   ],
   "source": [
    "type(print_poema)"
   ]
  },
  {
   "cell_type": "markdown",
   "metadata": {},
   "source": [
    "O valor de print_poema é um **objeto de função**, que possui o ***tipo*** 'function'.\n",
    "\n",
    "A sintaxe para chamar a nova função é a mesma das funções integradas (built-in):"
   ]
  },
  {
   "cell_type": "code",
   "execution_count": 23,
   "metadata": {},
   "outputs": [
    {
     "name": "stdout",
     "output_type": "stream",
     "text": [
      "Caminante, no hay camino,\n",
      "se hace camino al andar.\n"
     ]
    }
   ],
   "source": [
    "print_poema()"
   ]
  },
  {
   "cell_type": "markdown",
   "metadata": {},
   "source": [
    "Uma vez definida a função, podemos usá-la dentro de outra função:"
   ]
  },
  {
   "cell_type": "code",
   "execution_count": 26,
   "metadata": {},
   "outputs": [],
   "source": [
    "def verso_poema():\n",
    "    print('Caminante, son tus huellas')\n",
    "    print('el camino y nada más;')\n",
    "    \n",
    "    print_poema()\n",
    "    \n",
    "    print('Al andar se hace el camino,')\n",
    "    print('y al volver la vista atrás,')\n",
    "    print('se ve la senda que nunca')\n",
    "    print('se ha de volver a pisar.')\n",
    "    print('Caminante no hay camino')\n",
    "    print('sino estelas en la mar.')"
   ]
  },
  {
   "cell_type": "markdown",
   "metadata": {},
   "source": [
    "E chamá-la:"
   ]
  },
  {
   "cell_type": "code",
   "execution_count": 27,
   "metadata": {},
   "outputs": [
    {
     "name": "stdout",
     "output_type": "stream",
     "text": [
      "Caminante, son tus huellas\n",
      "el camino y nada más;\n",
      "Caminante, no hay camino,\n",
      "se hace camino al andar.\n",
      "Al andar se hace el camino,\n",
      "y al volver la vista atrás,\n",
      "se ve la senda que nunca\n",
      "se ha de volver a pisar.\n",
      "Caminante no hay camino\n",
      "sino estelas en la mar.\n"
     ]
    }
   ],
   "source": [
    "verso_poema()"
   ]
  },
  {
   "cell_type": "markdown",
   "metadata": {},
   "source": [
    "## Definições e usos\n",
    "\n",
    "Até agora, definimos duas funções e as chamamos. \n",
    "Ao colocarmos as funções e chamada em um programa, temos:"
   ]
  },
  {
   "cell_type": "code",
   "execution_count": 28,
   "metadata": {},
   "outputs": [
    {
     "name": "stdout",
     "output_type": "stream",
     "text": [
      "Caminante, son tus huellas\n",
      "el camino y nada más;\n",
      "Caminante, no hay camino,\n",
      "se hace camino al andar.\n",
      "Al andar se hace el camino,\n",
      "y al volver la vista atrás,\n",
      "se ve la senda que nunca\n",
      "se ha de volver a pisar.\n",
      "Caminante no hay camino\n",
      "sino estelas en la mar.\n"
     ]
    }
   ],
   "source": [
    "def print_poema():\n",
    "    print('Caminante, no hay camino,')\n",
    "    print('se hace camino al andar.')\n",
    "    \n",
    "def verso_poema():\n",
    "    print('Caminante, son tus huellas')\n",
    "    print('el camino y nada más;')\n",
    "    \n",
    "    print_poema()\n",
    "    \n",
    "    print('Al andar se hace el camino,')\n",
    "    print('y al volver la vista atrás,')\n",
    "    print('se ve la senda que nunca')\n",
    "    print('se ha de volver a pisar.')\n",
    "    print('Caminante no hay camino')\n",
    "    print('sino estelas en la mar.')\n",
    "\n",
    "verso_poema()"
   ]
  },
  {
   "cell_type": "markdown",
   "metadata": {},
   "source": [
    "***Este programa contém duas definições de função: print_poema e verso_poema.*** \n",
    "\n",
    "* As definições de função são executadas exatamente como outras instruções, mas o efeito é criar ***objetos de função***. \n",
    "* As instruções dentro da função só são executadas quando a função é chamada.\n",
    "* Somente a definição (sem a chamada) da função não gera saída.\n",
    "\n",
    "\n",
    "\n",
    "* A função deve ser definida **antes** de poder ser executada. "
   ]
  },
  {
   "cell_type": "markdown",
   "metadata": {},
   "source": [
    "## Exercícios:\n",
    "1. Crie uma funcão que tome um argumento e imprima o valor e o tipo dele.\n",
    "1. Crie uma função que calcule e imprima velocidade media de um objeto a partir de uma posição inicial, a final e o tempo transcorrido para um objeto em MRU. Também crie uma funcão que calcule e imprima a velocidade de um objeto a partir da aceleração constante e o tempo (MRUA) (p.ex. queda libre).\n",
    "1. Crie uma funcão para calcular o ángulo zenital do sol (da semana passada) tomando como argumento as medidas da altura e o comprimento da sombra.\n",
    "1. Crie uma função que faça a conversão de uma medida inicialmente em milhas para m, e outra para o inverso; uma de horas para segundos, e o inverso. Utilize estas funções para resolver novamente o primeiro exercício da semana passada (da corrida). Se uma pessoa demora 30 minutos em 4 milhas, qual velocidade media em km/h ? e o tempo medio por kilometro?\n",
    "1. Crie funções para calcular os outros exemplos das aulas anteriores: IMC, volume de uma esfera, distancia entre pontos de máximos de difração. Decida quais serão os argumentos e o valor retornado.\n"
   ]
  },
  {
   "cell_type": "code",
   "execution_count": null,
   "metadata": {},
   "outputs": [],
   "source": []
  }
 ],
 "metadata": {
  "kernelspec": {
   "display_name": "Python 3",
   "language": "python",
   "name": "python3"
  },
  "language_info": {
   "codemirror_mode": {
    "name": "ipython",
    "version": 3
   },
   "file_extension": ".py",
   "mimetype": "text/x-python",
   "name": "python",
   "nbconvert_exporter": "python",
   "pygments_lexer": "ipython3",
   "version": "3.6.4"
  }
 },
 "nbformat": 4,
 "nbformat_minor": 2
}
