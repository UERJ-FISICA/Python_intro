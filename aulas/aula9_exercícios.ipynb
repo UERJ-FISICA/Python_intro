{
 "cells": [
  {
   "cell_type": "markdown",
   "metadata": {},
   "source": [
    "# Exercícios\n",
    "\n",
    "1. Escreva uma função chamada ler_arquivos que tome como argumento um nome de arquivo, leia um arquivo com um número qualquer de colunas e retorne um **dicionário** que tenha como keys os números das colunas e como valor uma lista dos valores associados a cada coluna do arquivo. Use o arquivo *dados_alunos.txt*. Caso o arquivo tiver o cabeçalho das colunas, p.ex. *dados_alunos_com_cabecalho.txt*, o **key** deve ser a palavra do cabeçalho. \n",
    " - Caso não queria usar **dicionários**, você pode pensar em uma estrutura de dados alternativa para armazenar os dados do arquivo, como por exemplo uma ou mais listas.\n",
    " - Também pode usar funções já existentes nos pacotes ```numpy``` ou ```pandas``` para ler arquivos ```.txt``` e armazenar nas estruturas desses pacotes (dataframes ou arrays). \n",
    "\n",
    "1. Adapte a função acima para, se ocorrer um erro ao abrir, ler ou fechar arquivos, o programa **capturar a exceção**, imprimir uma mensagem de erro e sair.\n",
    "\n",
    "1. Adapte o script acima para ser um **módulo**.\n",
    "\n",
    "1. Escreva um script que importe o **módulo** criado acima e faça um histograma para cada coluna do arquivo, com seus respectivos valores. Use o dicionário criado em 1).\n",
    "\n",
    "1. Adicione uma função ao script criado em 4), que calcule o **desvio padrão amostral, desvio padrão populacional e média** de cada distribuição representada nos histogramas acima. Para tal, use o módulo ***statistics*** do Python."
   ]
  },
  {
   "cell_type": "code",
   "execution_count": null,
   "metadata": {},
   "outputs": [],
   "source": []
  }
 ],
 "metadata": {
  "kernelspec": {
   "display_name": "Python 3",
   "language": "python",
   "name": "python3"
  },
  "language_info": {
   "codemirror_mode": {
    "name": "ipython",
    "version": 3
   },
   "file_extension": ".py",
   "mimetype": "text/x-python",
   "name": "python",
   "nbconvert_exporter": "python",
   "pygments_lexer": "ipython3",
   "version": "3.6.7"
  }
 },
 "nbformat": 4,
 "nbformat_minor": 2
}
